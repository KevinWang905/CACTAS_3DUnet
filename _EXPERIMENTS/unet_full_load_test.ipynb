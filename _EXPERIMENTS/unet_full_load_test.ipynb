{
 "cells": [
  {
   "cell_type": "code",
   "execution_count": 1,
   "id": "7efe7a51",
   "metadata": {},
   "outputs": [
    {
     "name": "stdout",
     "output_type": "stream",
     "text": [
      "%pylab is deprecated, use %matplotlib inline and import the required libraries.\n",
      "Populating the interactive namespace from numpy and matplotlib\n"
     ]
    }
   ],
   "source": [
    "%pylab inline\n",
    "%load_ext autoreload\n",
    "%autoreload 2"
   ]
  },
  {
   "cell_type": "code",
   "execution_count": 2,
   "id": "73e09484",
   "metadata": {},
   "outputs": [
    {
     "name": "stderr",
     "output_type": "stream",
     "text": [
      "2023-01-28 21:58:26.713840: I tensorflow/stream_executor/platform/default/dso_loader.cc:53] Successfully opened dynamic library libcudart.so.11.0\n"
     ]
    },
    {
     "name": "stdout",
     "output_type": "stream",
     "text": [
      "-----------------------------------------\n",
      "keras-unet init: TF version is >= 2.0.0 - using `tf.keras` instead of `Keras`\n",
      "-----------------------------------------\n"
     ]
    }
   ],
   "source": [
    "import cactas as C"
   ]
  },
  {
   "cell_type": "code",
   "execution_count": 3,
   "id": "3bff391d",
   "metadata": {},
   "outputs": [
    {
     "name": "stderr",
     "output_type": "stream",
     "text": [
      "2023-01-28 21:58:28.154547: I tensorflow/stream_executor/platform/default/dso_loader.cc:53] Successfully opened dynamic library libcuda.so.1\n",
      "2023-01-28 21:58:28.242733: I tensorflow/core/common_runtime/gpu/gpu_device.cc:1733] Found device 0 with properties: \n",
      "pciBusID: 0000:47:00.0 name: A100-SXM4-40GB computeCapability: 8.0\n",
      "coreClock: 1.41GHz coreCount: 108 deviceMemorySize: 39.59GiB deviceMemoryBandwidth: 1.41TiB/s\n",
      "2023-01-28 21:58:28.242784: I tensorflow/stream_executor/platform/default/dso_loader.cc:53] Successfully opened dynamic library libcudart.so.11.0\n",
      "2023-01-28 21:58:28.246145: I tensorflow/stream_executor/platform/default/dso_loader.cc:53] Successfully opened dynamic library libcublas.so.11\n",
      "2023-01-28 21:58:28.246182: I tensorflow/stream_executor/platform/default/dso_loader.cc:53] Successfully opened dynamic library libcublasLt.so.11\n",
      "2023-01-28 21:58:28.247094: I tensorflow/stream_executor/platform/default/dso_loader.cc:53] Successfully opened dynamic library libcufft.so.10\n",
      "2023-01-28 21:58:28.247450: I tensorflow/stream_executor/platform/default/dso_loader.cc:53] Successfully opened dynamic library libcurand.so.10\n",
      "2023-01-28 21:58:28.248039: I tensorflow/stream_executor/platform/default/dso_loader.cc:53] Successfully opened dynamic library libcusolver.so.11\n",
      "2023-01-28 21:58:28.248793: I tensorflow/stream_executor/platform/default/dso_loader.cc:53] Successfully opened dynamic library libcusparse.so.11\n",
      "2023-01-28 21:58:28.249056: I tensorflow/stream_executor/platform/default/dso_loader.cc:53] Successfully opened dynamic library libcudnn.so.8\n",
      "2023-01-28 21:58:28.254626: I tensorflow/core/common_runtime/gpu/gpu_device.cc:1871] Adding visible gpu devices: 0\n",
      "2023-01-28 21:58:28.255420: I tensorflow/core/platform/cpu_feature_guard.cc:142] This TensorFlow binary is optimized with oneAPI Deep Neural Network Library (oneDNN) to use the following CPU instructions in performance-critical operations:  AVX2 FMA\n",
      "To enable them in other operations, rebuild TensorFlow with the appropriate compiler flags.\n",
      "2023-01-28 21:58:28.258194: I tensorflow/core/common_runtime/gpu/gpu_device.cc:1733] Found device 0 with properties: \n",
      "pciBusID: 0000:47:00.0 name: A100-SXM4-40GB computeCapability: 8.0\n",
      "coreClock: 1.41GHz coreCount: 108 deviceMemorySize: 39.59GiB deviceMemoryBandwidth: 1.41TiB/s\n",
      "2023-01-28 21:58:28.263420: I tensorflow/core/common_runtime/gpu/gpu_device.cc:1871] Adding visible gpu devices: 0\n",
      "2023-01-28 21:58:28.263458: I tensorflow/stream_executor/platform/default/dso_loader.cc:53] Successfully opened dynamic library libcudart.so.11.0\n",
      "2023-01-28 21:58:28.743032: I tensorflow/core/common_runtime/gpu/gpu_device.cc:1258] Device interconnect StreamExecutor with strength 1 edge matrix:\n",
      "2023-01-28 21:58:28.743087: I tensorflow/core/common_runtime/gpu/gpu_device.cc:1264]      0 \n",
      "2023-01-28 21:58:28.743094: I tensorflow/core/common_runtime/gpu/gpu_device.cc:1277] 0:   N \n",
      "2023-01-28 21:58:28.750817: I tensorflow/core/common_runtime/gpu/gpu_device.cc:1418] Created TensorFlow device (/job:localhost/replica:0/task:0/device:GPU:0 with 38425 MB memory) -> physical GPU (device: 0, name: A100-SXM4-40GB, pci bus id: 0000:47:00.0, compute capability: 8.0)\n"
     ]
    }
   ],
   "source": [
    "model = C.Helper.load_unet('/raid/psych/CACTAS/unet_full_33_cases_weights.hdf5')"
   ]
  },
  {
   "cell_type": "code",
   "execution_count": 4,
   "id": "c33627ae",
   "metadata": {},
   "outputs": [],
   "source": [
    "TEST_DATA = '/raid/mpsych/CACTAS/DATA/Nathan_Test/'\n",
    "TEST_DATA_OUT = '/raid/mpsych/CACTAS/DATA/Nathan_Test_Predicted/'\n",
    "TEST_DATA_IGNORE = ['41','51','61'] # z-spacing different"
   ]
  },
  {
   "cell_type": "code",
   "execution_count": 5,
   "id": "edc12237",
   "metadata": {},
   "outputs": [],
   "source": [
    "import os\n",
    "TEST_SCANS = sorted(os.listdir(TEST_DATA))"
   ]
  },
  {
   "cell_type": "code",
   "execution_count": 6,
   "id": "4be70199",
   "metadata": {},
   "outputs": [],
   "source": [
    "THRESHOLD = .5"
   ]
  },
  {
   "cell_type": "code",
   "execution_count": 11,
   "id": "e3367fd3",
   "metadata": {},
   "outputs": [
    {
     "name": "stdout",
     "output_type": "stream",
     "text": [
      "ESUS 10 0.39688863082513465 0.4834835972139254\n",
      "Stored /raid/mpsych/CACTAS/DATA/Nathan_Test_Predicted/10.npy\n",
      "ESUS 14 0.2901028174685464 0.4509860247192325\n",
      "Stored /raid/mpsych/CACTAS/DATA/Nathan_Test_Predicted/14.npy\n",
      "ESUS 15 0.4275377566075241 0.49023965904928707\n",
      "Stored /raid/mpsych/CACTAS/DATA/Nathan_Test_Predicted/15.npy\n",
      "ESUS 2 0.4420303654015244 0.4943147231933135\n",
      "Stored /raid/mpsych/CACTAS/DATA/Nathan_Test_Predicted/2.npy\n",
      "ESUS 27 0.5089031339031339 0.49749004247244394\n",
      "Stored /raid/mpsych/CACTAS/DATA/Nathan_Test_Predicted/27.npy\n",
      "ESUS 32 0.4323567404122562 0.4925183177730497\n",
      "Stored /raid/mpsych/CACTAS/DATA/Nathan_Test_Predicted/32.npy\n",
      "ESUS 33 0.37327829511535815 0.48257434841509056\n",
      "Stored /raid/mpsych/CACTAS/DATA/Nathan_Test_Predicted/33.npy\n",
      "ESUS 35 0.33646604441583516 0.47111666171402267\n",
      "Stored /raid/mpsych/CACTAS/DATA/Nathan_Test_Predicted/35.npy\n",
      "ESUS 39 0.33954339101199865 0.4690247219488885\n",
      "Stored /raid/mpsych/CACTAS/DATA/Nathan_Test_Predicted/39.npy\n",
      "ESUS 46 0.42127659574468085 0.4937637346165204\n",
      "Stored /raid/mpsych/CACTAS/DATA/Nathan_Test_Predicted/46.npy\n",
      "ESUS 47 0.42292791692342474 0.49158429916121854\n",
      "Stored /raid/mpsych/CACTAS/DATA/Nathan_Test_Predicted/47.npy\n",
      "ESUS 48 0.42840018235594995 0.4888050695864694\n",
      "Stored /raid/mpsych/CACTAS/DATA/Nathan_Test_Predicted/48.npy\n",
      "ESUS 5 0.3880597014925373 0.4873082900690899\n",
      "Stored /raid/mpsych/CACTAS/DATA/Nathan_Test_Predicted/5.npy\n",
      "ESUS 50 0.39308886144385813 0.48466533381240834\n",
      "Stored /raid/mpsych/CACTAS/DATA/Nathan_Test_Predicted/50.npy\n",
      "ESUS 52 0.39384221916191225 0.4867913238536385\n",
      "Stored /raid/mpsych/CACTAS/DATA/Nathan_Test_Predicted/52.npy\n",
      "ESUS 53 0.48549463749994415 0.4972495106579912\n",
      "Stored /raid/mpsych/CACTAS/DATA/Nathan_Test_Predicted/53.npy\n",
      "ESUS 57 0.30344259668694 0.4538213388117718\n",
      "Stored /raid/mpsych/CACTAS/DATA/Nathan_Test_Predicted/57.npy\n",
      "ESUS 64 0.3881856540084388 0.4873372056702417\n",
      "Stored /raid/mpsych/CACTAS/DATA/Nathan_Test_Predicted/64.npy\n",
      "ESUS 66 0.3546265406480226 0.4768416657264452\n",
      "Stored /raid/mpsych/CACTAS/DATA/Nathan_Test_Predicted/66.npy\n",
      "ESUS 73 0.43137254901960786 0.49526788001235633\n",
      "Stored /raid/mpsych/CACTAS/DATA/Nathan_Test_Predicted/73.npy\n",
      "ESUS 75 0.46947786690433746 0.49664922878894024\n",
      "Stored /raid/mpsych/CACTAS/DATA/Nathan_Test_Predicted/75.npy\n",
      "ESUS 83 0.3322647774036663 0.4668552372703178\n",
      "Stored /raid/mpsych/CACTAS/DATA/Nathan_Test_Predicted/83.npy\n",
      "ESUS 84 0.27794117647058825 0.44675153913138677\n",
      "Stored /raid/mpsych/CACTAS/DATA/Nathan_Test_Predicted/84.npy\n",
      "ESUS 86 0.42252687654439847 0.4900674201919398\n",
      "Stored /raid/mpsych/CACTAS/DATA/Nathan_Test_Predicted/86.npy\n",
      "ESUS 9 0.20454973710367808 0.3962110067352468\n",
      "Stored /raid/mpsych/CACTAS/DATA/Nathan_Test_Predicted/9.npy\n",
      "ESUS 91 0.3942683313063748 0.4818054861611327\n",
      "Stored /raid/mpsych/CACTAS/DATA/Nathan_Test_Predicted/91.npy\n",
      "ESUS 93 0.4281048569435822 0.491382112670544\n",
      "Stored /raid/mpsych/CACTAS/DATA/Nathan_Test_Predicted/93.npy\n",
      "ESUS 94 0.455 0.4979708826829135\n",
      "Stored /raid/mpsych/CACTAS/DATA/Nathan_Test_Predicted/94.npy\n"
     ]
    }
   ],
   "source": [
    "JACCARDS = {}\n",
    "TIMINGS = {}\n",
    "\n",
    "for i,s in enumerate(TEST_SCANS):\n",
    "    \n",
    "    s_stripped = s.replace('ESUS ','')\n",
    "    \n",
    "    if s_stripped in TEST_DATA_IGNORE:\n",
    "        continue \n",
    "\n",
    "    image, label = C.Util.load(i, datapath=TEST_DATA)\n",
    "    \n",
    "\n",
    "    label_pred = np.zeros(label.shape, dtype=bool)\n",
    "    label_pred[:,:,:] = 0\n",
    "    \n",
    "    jaccard_per_slice = []\n",
    "    total_time = 0\n",
    "    \n",
    "    for z in range(image.shape[2]):\n",
    "        \n",
    "        t0 = time.time()\n",
    "\n",
    "        cur_slice = image[:,:,z]\n",
    "\n",
    "        cur_slice = C.Util.normalize(cur_slice)\n",
    "\n",
    "        cur_slice_pred = model.predict(cur_slice.reshape(1,512,512,1))\n",
    "\n",
    "        cur_slice_pred = C.Util.binarize(cur_slice_pred[0,:,:,0], threshold=THRESHOLD)\n",
    "\n",
    "        label_pred[:,:,z] = cur_slice_pred\n",
    "\n",
    "        total_time += time.time()-t0\n",
    "        \n",
    "        jac = C.Util.jaccard(C.Util.binarize(label[:,:,z]), cur_slice_pred)\n",
    "\n",
    "        jaccard_per_slice.append(jac)\n",
    "        \n",
    "    TIMINGS[s] = total_time\n",
    "    JACCARDS[s] = jaccard_per_slice\n",
    "    print(s, np.mean(jaccard_per_slice), np.std(jaccard_per_slice))\n",
    "    \n",
    "    np.save(TEST_DATA_OUT+s_stripped+'.npy', label_pred)\n",
    "    print('Stored', TEST_DATA_OUT+s_stripped+'.npy')"
   ]
  },
  {
   "cell_type": "code",
   "execution_count": 12,
   "id": "2ab2ea35",
   "metadata": {},
   "outputs": [
    {
     "data": {
      "text/plain": [
       "{'ESUS 10': 12.387959957122803,\n",
       " 'ESUS 14': 13.235450506210327,\n",
       " 'ESUS 15': 8.907161235809326,\n",
       " 'ESUS 2': 12.771570444107056,\n",
       " 'ESUS 27': 11.552951097488403,\n",
       " 'ESUS 32': 12.527665853500366,\n",
       " 'ESUS 33': 13.451958417892456,\n",
       " 'ESUS 35': 12.484254598617554,\n",
       " 'ESUS 39': 12.716676712036133,\n",
       " 'ESUS 46': 12.44057559967041,\n",
       " 'ESUS 47': 9.943318128585815,\n",
       " 'ESUS 48': 27.496068000793457,\n",
       " 'ESUS 5': 10.398661375045776,\n",
       " 'ESUS 50': 12.668991088867188,\n",
       " 'ESUS 52': 12.261818170547485,\n",
       " 'ESUS 53': 12.46430230140686,\n",
       " 'ESUS 57': 12.268943071365356,\n",
       " 'ESUS 64': 12.526496648788452,\n",
       " 'ESUS 66': 12.573646783828735,\n",
       " 'ESUS 73': 13.261152982711792,\n",
       " 'ESUS 75': 12.671327114105225,\n",
       " 'ESUS 83': 13.855017900466919,\n",
       " 'ESUS 84': 8.763141632080078,\n",
       " 'ESUS 86': 12.309324264526367,\n",
       " 'ESUS 9': 12.549145460128784,\n",
       " 'ESUS 91': 9.030827283859253,\n",
       " 'ESUS 93': 11.338948488235474,\n",
       " 'ESUS 94': 10.420567035675049}"
      ]
     },
     "execution_count": 12,
     "metadata": {},
     "output_type": "execute_result"
    }
   ],
   "source": [
    "TIMINGS"
   ]
  },
  {
   "cell_type": "code",
   "execution_count": null,
   "id": "f39ee8af",
   "metadata": {},
   "outputs": [],
   "source": []
  },
  {
   "cell_type": "code",
   "execution_count": null,
   "id": "b11d6964",
   "metadata": {},
   "outputs": [],
   "source": []
  }
 ],
 "metadata": {
  "kernelspec": {
   "display_name": "Python 3 (ipykernel)",
   "language": "python",
   "name": "python3"
  },
  "language_info": {
   "codemirror_mode": {
    "name": "ipython",
    "version": 3
   },
   "file_extension": ".py",
   "mimetype": "text/x-python",
   "name": "python",
   "nbconvert_exporter": "python",
   "pygments_lexer": "ipython3",
   "version": "3.9.7"
  }
 },
 "nbformat": 4,
 "nbformat_minor": 5
}
