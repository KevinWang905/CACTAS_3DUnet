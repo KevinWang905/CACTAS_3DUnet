{
 "cells": [
  {
   "cell_type": "code",
   "execution_count": 1,
   "id": "f1d7f2dc",
   "metadata": {},
   "outputs": [
    {
     "name": "stdout",
     "output_type": "stream",
     "text": [
      "Populating the interactive namespace from numpy and matplotlib\n"
     ]
    }
   ],
   "source": [
    "%pylab inline"
   ]
  },
  {
   "cell_type": "code",
   "execution_count": 2,
   "id": "7a245e99",
   "metadata": {},
   "outputs": [],
   "source": [
    "import os, shutil"
   ]
  },
  {
   "cell_type": "code",
   "execution_count": 3,
   "id": "468ae6db",
   "metadata": {},
   "outputs": [],
   "source": [
    "TARGET_DIR = '/raid/mpsych/CACTAS/DATA/ESUS2/'"
   ]
  },
  {
   "cell_type": "code",
   "execution_count": 4,
   "id": "d23e89db",
   "metadata": {},
   "outputs": [],
   "source": [
    "def copy_from_to(CURRENT_DIR, TARGET_DIR):\n",
    "\n",
    "    for f in os.listdir(CURRENT_DIR):\n",
    "\n",
    "        f_with_dir = os.path.join(CURRENT_DIR, f)\n",
    "        if not os.path.isdir(f_with_dir):\n",
    "            continue\n",
    "            \n",
    "        current_id = f.split(' ')[1] # ESUS NUMBER\n",
    "        \n",
    "        # special case for 12-checked\n",
    "        if current_id=='12':\n",
    "            continue\n",
    "        if current_id=='12-checked':\n",
    "            current_id='12'\n",
    "\n",
    "        for f2 in os.listdir(f_with_dir):\n",
    "\n",
    "            f2_with_dir = os.path.join(f_with_dir, f2)\n",
    "\n",
    "            if f2.find('Segmentation') != -1 and f2.find('draft') == -1:\n",
    "                # this is a segmentation (and ignore drafts)\n",
    "                shutil.copy(f2_with_dir, os.path.join(TARGET_DIR, current_id + '.a.seg.nrrd'))\n",
    "            else:\n",
    "                # this is an image\n",
    "                shutil.copy(f2_with_dir, os.path.join(TARGET_DIR, current_id + '.img.nrrd'))\n",
    "            print('Copied', current_id, '!')"
   ]
  },
  {
   "cell_type": "code",
   "execution_count": 5,
   "id": "64edcbd2",
   "metadata": {
    "scrolled": true
   },
   "outputs": [
    {
     "name": "stdout",
     "output_type": "stream",
     "text": [
      "Copied 91 !\n",
      "Copied 91 !\n",
      "Copied 52 !\n",
      "Copied 52 !\n",
      "Copied 39 !\n",
      "Copied 39 !\n",
      "Copied 94 !\n",
      "Copied 94 !\n",
      "Copied 86 !\n",
      "Copied 86 !\n",
      "Copied 41 !\n",
      "Copied 41 !\n",
      "Copied 57 !\n",
      "Copied 57 !\n",
      "Copied 51 !\n",
      "Copied 51 !\n",
      "Copied 51 !\n",
      "Copied 53 !\n",
      "Copied 53 !\n",
      "Copied 83 !\n",
      "Copied 83 !\n",
      "Copied 47 !\n",
      "Copied 47 !\n",
      "Copied 15 !\n",
      "Copied 15 !\n",
      "Copied 61 !\n",
      "Copied 61 !\n",
      "Copied 61 !\n",
      "Copied 9 !\n",
      "Copied 9 !\n",
      "Copied 35 !\n",
      "Copied 35 !\n",
      "Copied 46 !\n",
      "Copied 46 !\n",
      "Copied 14 !\n",
      "Copied 14 !\n",
      "Copied 33 !\n",
      "Copied 33 !\n",
      "Copied 27 !\n",
      "Copied 27 !\n",
      "Copied 50 !\n",
      "Copied 50 !\n",
      "Copied 32 !\n",
      "Copied 32 !\n",
      "Copied 73 !\n",
      "Copied 73 !\n",
      "Copied 48 !\n",
      "Copied 48 !\n",
      "Copied 93 !\n",
      "Copied 93 !\n",
      "Copied 75 !\n",
      "Copied 75 !\n",
      "Copied 84 !\n",
      "Copied 84 !\n",
      "Copied 66 !\n",
      "Copied 66 !\n",
      "Copied 2 !\n",
      "Copied 2 !\n",
      "Copied 5 !\n",
      "Copied 5 !\n",
      "Copied 10 !\n",
      "Copied 10 !\n",
      "Copied 64 !\n",
      "Copied 64 !\n"
     ]
    }
   ],
   "source": [
    "CURRENT_DIR = '/raid/mpsych/CACTAS/DATA/Nathan_Test/'\n",
    "copy_from_to(CURRENT_DIR, TARGET_DIR)"
   ]
  },
  {
   "cell_type": "code",
   "execution_count": 6,
   "id": "8e60a879",
   "metadata": {},
   "outputs": [
    {
     "name": "stdout",
     "output_type": "stream",
     "text": [
      "Copied 90 !\n",
      "Copied 90 !\n",
      "Copied 23 !\n",
      "Copied 23 !\n",
      "Copied 13 !\n",
      "Copied 13 !\n",
      "Copied 7 !\n",
      "Copied 7 !\n",
      "Copied 18 !\n",
      "Copied 18 !\n",
      "Copied 72 !\n",
      "Copied 72 !\n",
      "Copied 82 !\n",
      "Copied 82 !\n",
      "Copied 12 !\n",
      "Copied 12 !\n",
      "Copied 62 !\n",
      "Copied 62 !\n",
      "Copied 88 !\n",
      "Copied 88 !\n",
      "Copied 97 !\n",
      "Copied 97 !\n",
      "Copied 87 !\n",
      "Copied 87 !\n",
      "Copied 29 !\n",
      "Copied 29 !\n",
      "Copied 79 !\n",
      "Copied 79 !\n",
      "Copied 92 !\n",
      "Copied 92 !\n",
      "Copied 96 !\n",
      "Copied 96 !\n",
      "Copied 51 !\n",
      "Copied 51 !\n",
      "Copied 40 !\n",
      "Copied 40 !\n",
      "Copied 77 !\n",
      "Copied 77 !\n",
      "Copied 45 !\n",
      "Copied 45 !\n",
      "Copied 25 !\n",
      "Copied 25 !\n",
      "Copied 71 !\n",
      "Copied 71 !\n",
      "Copied 6 !\n",
      "Copied 6 !\n",
      "Copied 69 !\n",
      "Copied 69 !\n",
      "Copied 21 !\n",
      "Copied 21 !\n",
      "Copied 16 !\n",
      "Copied 16 !\n",
      "Copied 61 !\n",
      "Copied 61 !\n",
      "Copied 22 !\n",
      "Copied 22 !\n",
      "Copied 31 !\n",
      "Copied 31 !\n",
      "Copied 24 !\n",
      "Copied 24 !\n",
      "Copied 26 !\n",
      "Copied 26 !\n",
      "Copied 17 !\n",
      "Copied 17 !\n",
      "Copied 49 !\n",
      "Copied 49 !\n",
      "Copied 63 !\n",
      "Copied 63 !\n",
      "Copied 36 !\n",
      "Copied 36 !\n"
     ]
    }
   ],
   "source": [
    "CURRENT_DIR = '/raid/mpsych/CACTAS/DATA/Nathan Arnett Calcification/'\n",
    "copy_from_to(CURRENT_DIR, TARGET_DIR)"
   ]
  },
  {
   "cell_type": "code",
   "execution_count": null,
   "id": "040b2bde",
   "metadata": {},
   "outputs": [],
   "source": []
  }
 ],
 "metadata": {
  "kernelspec": {
   "display_name": "Python 3 (ipykernel)",
   "language": "python",
   "name": "python3"
  },
  "language_info": {
   "codemirror_mode": {
    "name": "ipython",
    "version": 3
   },
   "file_extension": ".py",
   "mimetype": "text/x-python",
   "name": "python",
   "nbconvert_exporter": "python",
   "pygments_lexer": "ipython3",
   "version": "3.9.7"
  }
 },
 "nbformat": 4,
 "nbformat_minor": 5
}
