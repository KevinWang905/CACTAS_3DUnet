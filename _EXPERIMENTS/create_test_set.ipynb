{
 "cells": [
  {
   "cell_type": "code",
   "execution_count": 1,
   "id": "565ab2ad",
   "metadata": {},
   "outputs": [
    {
     "name": "stdout",
     "output_type": "stream",
     "text": [
      "%pylab is deprecated, use %matplotlib inline and import the required libraries.\n",
      "Populating the interactive namespace from numpy and matplotlib\n"
     ]
    }
   ],
   "source": [
    "%pylab inline"
   ]
  },
  {
   "cell_type": "code",
   "execution_count": 23,
   "id": "500ba227",
   "metadata": {},
   "outputs": [],
   "source": [
    "import os, shutil"
   ]
  },
  {
   "cell_type": "code",
   "execution_count": 9,
   "id": "9da01ce2",
   "metadata": {},
   "outputs": [],
   "source": [
    "TRAIN_SET = '/home/d/Dropbox/RESEARCH/CAROTID/DATA/Nathan Arnett Calcification/'"
   ]
  },
  {
   "cell_type": "code",
   "execution_count": 12,
   "id": "6fb262f6",
   "metadata": {},
   "outputs": [],
   "source": [
    "TRAIN_DATASETS = sorted([v for v in os.listdir(TRAIN_SET) if os.path.isdir(TRAIN_SET + v)])\n",
    "\n",
    "TRAIN_CASES = []\n",
    "\n",
    "for i,d in enumerate(TRAIN_DATASETS):\n",
    "    \n",
    "    # ignore DICOM 12 since we have DICOM 12-checked\n",
    "    if d == 'DICOM 12' or d == 'DICOM 61' or d == 'DICOM 51':\n",
    "        continue\n",
    "        \n",
    "    number = d.split(' ')[1]\n",
    "    TRAIN_CASES.append(number)\n",
    "        \n",
    "        "
   ]
  },
  {
   "cell_type": "code",
   "execution_count": 13,
   "id": "83ab1636",
   "metadata": {},
   "outputs": [
    {
     "data": {
      "text/plain": [
       "33"
      ]
     },
     "execution_count": 13,
     "metadata": {},
     "output_type": "execute_result"
    }
   ],
   "source": [
    "len(TRAIN_CASES)"
   ]
  },
  {
   "cell_type": "code",
   "execution_count": 22,
   "id": "3ade55bf",
   "metadata": {},
   "outputs": [],
   "source": [
    "TEST_SET = '/home/d/Downloads/Nathan Arnett Calcification (1)/Nathan Arnett Calcification/'\n",
    "TEST_SET_OUT = '/home/d/Dropbox/RESEARCH/CAROTID/DATA/Nathan_Test/'"
   ]
  },
  {
   "cell_type": "code",
   "execution_count": 25,
   "id": "6f839afa",
   "metadata": {},
   "outputs": [
    {
     "name": "stdout",
     "output_type": "stream",
     "text": [
      "copied ESUS 10\n",
      "copied ESUS 14\n",
      "copied ESUS 15\n",
      "copied ESUS 2\n",
      "copied ESUS 27\n",
      "copied ESUS 32\n",
      "copied ESUS 33\n",
      "copied ESUS 35\n",
      "copied ESUS 39\n",
      "copied ESUS 41\n",
      "copied ESUS 46\n",
      "copied ESUS 47\n",
      "copied ESUS 48\n",
      "copied ESUS 5\n",
      "copied ESUS 50\n",
      "copied ESUS 51\n",
      "copied ESUS 52\n",
      "copied ESUS 53\n",
      "copied ESUS 57\n",
      "copied ESUS 61\n",
      "copied ESUS 64\n",
      "copied ESUS 66\n",
      "copied ESUS 73\n",
      "copied ESUS 75\n",
      "copied ESUS 83\n",
      "copied ESUS 84\n",
      "copied ESUS 86\n",
      "copied ESUS 9\n",
      "copied ESUS 91\n",
      "copied ESUS 93\n",
      "copied ESUS 94\n"
     ]
    }
   ],
   "source": [
    "TEST_DATASETS = sorted([v for v in os.listdir(TEST_SET) if os.path.isdir(TEST_SET + v)])\n",
    "\n",
    "TEST_CASES = []\n",
    "\n",
    "for i,d in enumerate(TEST_DATASETS):\n",
    "        \n",
    "\n",
    "        \n",
    "    number = d.split(' ')[1]\n",
    "    \n",
    "    if number=='Cases' or number=='Study':\n",
    "        continue\n",
    "    \n",
    "    if number in TRAIN_CASES:\n",
    "        continue\n",
    "    TEST_CASES.append(number)\n",
    "    \n",
    "    if os.path.exists(TEST_SET_OUT + d):\n",
    "        print('skipping', d)\n",
    "        continue\n",
    "    \n",
    "    # copy over to test_set_out\n",
    "    shutil.copytree(TEST_SET+d, TEST_SET_OUT+d)\n",
    "    print('copied', d)"
   ]
  },
  {
   "cell_type": "code",
   "execution_count": 21,
   "id": "6837e545",
   "metadata": {},
   "outputs": [
    {
     "data": {
      "text/plain": [
       "31"
      ]
     },
     "execution_count": 21,
     "metadata": {},
     "output_type": "execute_result"
    }
   ],
   "source": [
    "len(TEST_CASES)"
   ]
  },
  {
   "cell_type": "code",
   "execution_count": null,
   "id": "2f713c48",
   "metadata": {},
   "outputs": [],
   "source": [
    "# copy test cases over\n"
   ]
  }
 ],
 "metadata": {
  "kernelspec": {
   "display_name": "Python 3 (ipykernel)",
   "language": "python",
   "name": "python3"
  },
  "language_info": {
   "codemirror_mode": {
    "name": "ipython",
    "version": 3
   },
   "file_extension": ".py",
   "mimetype": "text/x-python",
   "name": "python",
   "nbconvert_exporter": "python",
   "pygments_lexer": "ipython3",
   "version": "3.10.8"
  }
 },
 "nbformat": 4,
 "nbformat_minor": 5
}
