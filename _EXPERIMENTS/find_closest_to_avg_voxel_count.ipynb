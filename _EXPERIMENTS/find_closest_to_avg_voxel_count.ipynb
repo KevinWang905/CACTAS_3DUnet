{
 "cells": [
  {
   "cell_type": "code",
   "execution_count": 1,
   "id": "dfd721b0",
   "metadata": {},
   "outputs": [
    {
     "name": "stdout",
     "output_type": "stream",
     "text": [
      "Populating the interactive namespace from numpy and matplotlib\n"
     ]
    }
   ],
   "source": [
    "%pylab inline"
   ]
  },
  {
   "cell_type": "code",
   "execution_count": 2,
   "id": "ab2f46d1",
   "metadata": {},
   "outputs": [],
   "source": [
    "import os\n",
    "import mahotas as mh\n",
    "import nrrd"
   ]
  },
  {
   "cell_type": "code",
   "execution_count": 3,
   "id": "17bef051",
   "metadata": {},
   "outputs": [],
   "source": [
    "DATAPATH = '/raid/mpsych/CACTAS/DATA/ESUS/'"
   ]
  },
  {
   "cell_type": "code",
   "execution_count": 4,
   "id": "6df688bc",
   "metadata": {},
   "outputs": [],
   "source": [
    "counts = {}\n",
    "\n",
    "\n",
    "for f in os.listdir(DATAPATH):\n",
    "    if f.endswith('seg.nrrd'):\n",
    "        label_data, label_header = nrrd.read(DATAPATH + f)\n",
    "        \n",
    "        counts[f] = np.count_nonzero(label_data)"
   ]
  },
  {
   "cell_type": "code",
   "execution_count": 11,
   "id": "053a741b",
   "metadata": {},
   "outputs": [
    {
     "data": {
      "text/plain": [
       "601.5625"
      ]
     },
     "execution_count": 11,
     "metadata": {},
     "output_type": "execute_result"
    }
   ],
   "source": [
    "avg_vx_count = np.mean( list(counts.values()) )\n",
    "avg_vx_count"
   ]
  },
  {
   "cell_type": "code",
   "execution_count": 13,
   "id": "ff6358f9",
   "metadata": {},
   "outputs": [],
   "source": [
    "counts_distance = {}\n",
    "for c in counts:\n",
    "    counts_distance[c] = abs(counts[c]-avg_vx_count)"
   ]
  },
  {
   "cell_type": "code",
   "execution_count": 18,
   "id": "a035c417",
   "metadata": {},
   "outputs": [
    {
     "data": {
      "text/plain": [
       "('7.seg.nrrd', 11.5625)"
      ]
     },
     "execution_count": 18,
     "metadata": {},
     "output_type": "execute_result"
    }
   ],
   "source": [
    "sorted(counts_distance.items(), key=lambda x:x[1])[0]"
   ]
  },
  {
   "cell_type": "code",
   "execution_count": null,
   "id": "10a740ac",
   "metadata": {},
   "outputs": [],
   "source": []
  }
 ],
 "metadata": {
  "kernelspec": {
   "display_name": "Python 3 (ipykernel)",
   "language": "python",
   "name": "python3"
  },
  "language_info": {
   "codemirror_mode": {
    "name": "ipython",
    "version": 3
   },
   "file_extension": ".py",
   "mimetype": "text/x-python",
   "name": "python",
   "nbconvert_exporter": "python",
   "pygments_lexer": "ipython3",
   "version": "3.9.7"
  }
 },
 "nbformat": 4,
 "nbformat_minor": 5
}
