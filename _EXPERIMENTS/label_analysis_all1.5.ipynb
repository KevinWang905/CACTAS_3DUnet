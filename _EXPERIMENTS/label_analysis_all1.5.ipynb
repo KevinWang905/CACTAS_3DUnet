{
 "cells": [
  {
   "cell_type": "code",
   "execution_count": 1,
   "id": "d100bbfd",
   "metadata": {},
   "outputs": [
    {
     "name": "stdout",
     "output_type": "stream",
     "text": [
      "%pylab is deprecated, use %matplotlib inline and import the required libraries.\n",
      "Populating the interactive namespace from numpy and matplotlib\n"
     ]
    }
   ],
   "source": [
    "%pylab inline\n",
    "%load_ext autoreload\n",
    "%autoreload 2"
   ]
  },
  {
   "cell_type": "code",
   "execution_count": 2,
   "id": "ec1e6184",
   "metadata": {},
   "outputs": [],
   "source": [
    "import os\n",
    "import mahotas as mh"
   ]
  },
  {
   "cell_type": "code",
   "execution_count": 3,
   "id": "fc60008c",
   "metadata": {},
   "outputs": [],
   "source": [
    "import cactas as C"
   ]
  },
  {
   "cell_type": "code",
   "execution_count": 7,
   "id": "3a2bf9cc",
   "metadata": {},
   "outputs": [],
   "source": [
    "DATAPATH = '/home/d/Dropbox/RESEARCH/CAROTID/DATA/Nathan Arnett Calcification/'\n",
    "# DATAPATH = '/raid/mpsych/CACTAS/DATA/Nathan Arnett Calcification/'"
   ]
  },
  {
   "cell_type": "code",
   "execution_count": 8,
   "id": "306f502d",
   "metadata": {},
   "outputs": [],
   "source": [
    "selected = []\n",
    "plaque_count = 0\n",
    "voxel_count_plaque = 0\n",
    "voxel_count = 0"
   ]
  },
  {
   "cell_type": "code",
   "execution_count": 32,
   "id": "e338ff06",
   "metadata": {},
   "outputs": [],
   "source": [
    "DATASETS = sorted([v for v in os.listdir(DATAPATH) if os.path.isdir(DATAPATH + v)])\n",
    "\n",
    "images = []\n",
    "labels = []\n",
    "\n",
    "image_patches = []\n",
    "label_patches = []\n",
    "\n",
    "casecount = 0\n",
    "\n",
    "for i,d in enumerate(DATASETS):\n",
    "    \n",
    "    # ignore DICOM 12 since we have DICOM 12-checked\n",
    "    if d == 'DICOM 12' or d == 'DICOM 61' or d == 'DICOM 51':\n",
    "        continue\n",
    "    \n",
    "    number = d.split(' ')[1]\n",
    "    \n",
    "#     if not number in selected:\n",
    "#         continue\n",
    "\n",
    "    image_with_header, label_with_header = C.Util.load(i, datapath=DATAPATH, with_header=True)\n",
    "\n",
    "\n",
    "    image = image_with_header[0]\n",
    "    label = label_with_header[0]\n",
    "\n",
    "    relabel, obj = mh.label(label)\n",
    "    \n",
    "    plaque_count += relabel.max()\n",
    "    voxel_count_plaque += np.count_nonzero(relabel)\n",
    "    voxel_count += image.shape[0] * image.shape[1] * image.shape[2]\n",
    "    \n",
    "    casecount += 1\n",
    "    \n",
    "#     # normalize grayscale to 0..1\n",
    "#     image_normalized = C.Util.normalize(image)\n",
    "    \n",
    "#     # remove empty slices\n",
    "#     image_filtered, label_filtered = C.Util.filter(image_normalized, label)\n",
    "\n",
    "#     # loop thru each slice\n",
    "#     for z in range(image_filtered.shape[2]):\n",
    "\n",
    "#         image_slice = image_filtered[:,:,z:z+1]\n",
    "#         label_slice = label_filtered[:,:,z:z+1]\n",
    "\n",
    "#         # relabel the segments\n",
    "#         relabel, obj = mh.label(label_slice)\n",
    "        \n",
    "# #         print('relabeled')\n",
    "\n",
    "#         # loop thru each segment, binarize and crop\n",
    "#         for i in range(1, relabel.max()+1):\n",
    "\n",
    "#             single_label = np.zeros((relabel.shape), relabel.dtype)\n",
    "#             single_label[relabel == i] = 1\n",
    "\n",
    "#             image_cropped, single_label_cropped = C.Util.crop(image_slice, single_label, target_size=32)\n",
    "\n",
    "#             image_patches.append(image_cropped)\n",
    "#             label_patches.append(single_label_cropped)\n",
    "\n",
    "\n",
    "    \n",
    "\n",
    "    "
   ]
  },
  {
   "cell_type": "code",
   "execution_count": 34,
   "id": "21adf203",
   "metadata": {},
   "outputs": [
    {
     "data": {
      "text/plain": [
       "33"
      ]
     },
     "execution_count": 34,
     "metadata": {},
     "output_type": "execute_result"
    }
   ],
   "source": [
    "casecount"
   ]
  },
  {
   "cell_type": "code",
   "execution_count": 25,
   "id": "93fc66aa",
   "metadata": {},
   "outputs": [
    {
     "data": {
      "text/plain": [
       "193"
      ]
     },
     "execution_count": 25,
     "metadata": {},
     "output_type": "execute_result"
    }
   ],
   "source": [
    "plaque_count"
   ]
  },
  {
   "cell_type": "code",
   "execution_count": 26,
   "id": "143a9872",
   "metadata": {},
   "outputs": [
    {
     "data": {
      "text/plain": [
       "2107113472"
      ]
     },
     "execution_count": 26,
     "metadata": {},
     "output_type": "execute_result"
    }
   ],
   "source": [
    "voxel_count"
   ]
  },
  {
   "cell_type": "code",
   "execution_count": 27,
   "id": "c0feb965",
   "metadata": {},
   "outputs": [
    {
     "data": {
      "text/plain": [
       "31556"
      ]
     },
     "execution_count": 27,
     "metadata": {},
     "output_type": "execute_result"
    }
   ],
   "source": [
    "voxel_count_plaque"
   ]
  },
  {
   "cell_type": "code",
   "execution_count": 31,
   "id": "d07f0706",
   "metadata": {},
   "outputs": [
    {
     "name": "stdout",
     "output_type": "stream",
     "text": [
      "0.000015\n"
     ]
    }
   ],
   "source": [
    "print(\"{:f}\".format(voxel_count_plaque / voxel_count))"
   ]
  },
  {
   "cell_type": "code",
   "execution_count": null,
   "id": "e622df53",
   "metadata": {},
   "outputs": [],
   "source": []
  }
 ],
 "metadata": {
  "kernelspec": {
   "display_name": "Python 3 (ipykernel)",
   "language": "python",
   "name": "python3"
  },
  "language_info": {
   "codemirror_mode": {
    "name": "ipython",
    "version": 3
   },
   "file_extension": ".py",
   "mimetype": "text/x-python",
   "name": "python",
   "nbconvert_exporter": "python",
   "pygments_lexer": "ipython3",
   "version": "3.9.7"
  }
 },
 "nbformat": 4,
 "nbformat_minor": 5
}
