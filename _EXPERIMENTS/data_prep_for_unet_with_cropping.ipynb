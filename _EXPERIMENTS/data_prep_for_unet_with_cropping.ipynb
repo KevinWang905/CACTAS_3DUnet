{
 "cells": [
  {
   "cell_type": "code",
   "execution_count": 1,
   "id": "d100bbfd",
   "metadata": {},
   "outputs": [
    {
     "name": "stdout",
     "output_type": "stream",
     "text": [
      "Populating the interactive namespace from numpy and matplotlib\n"
     ]
    }
   ],
   "source": [
    "%pylab inline\n",
    "%load_ext autoreload\n",
    "%autoreload 2"
   ]
  },
  {
   "cell_type": "code",
   "execution_count": 2,
   "id": "ec1e6184",
   "metadata": {},
   "outputs": [],
   "source": [
    "import os"
   ]
  },
  {
   "cell_type": "code",
   "execution_count": 3,
   "id": "fc60008c",
   "metadata": {},
   "outputs": [],
   "source": [
    "import cactas as C"
   ]
  },
  {
   "cell_type": "code",
   "execution_count": 4,
   "id": "3a2bf9cc",
   "metadata": {},
   "outputs": [],
   "source": [
    "# DATAPATH = '/home/d/Dropbox/RESEARCH/CAROTID/DATA/Nathan Arnett Calcification/'\n",
    "DATAPATH = '/raid/mpsych/CACTAS/DATA/Nathan Arnett Calcification/'"
   ]
  },
  {
   "cell_type": "code",
   "execution_count": 5,
   "id": "e338ff06",
   "metadata": {},
   "outputs": [],
   "source": [
    "DATASETS = sorted([v for v in os.listdir(DATAPATH) if os.path.isdir(DATAPATH + v)])\n",
    "\n",
    "images = []\n",
    "labels = []\n",
    "\n",
    "for i,d in enumerate(DATASETS):\n",
    "    \n",
    "    # ignore DICOM 12 since we have DICOM 12-checked\n",
    "    if d == 'DICOM 12' or d == 'DICOM 61' or d == 'DICOM 51':\n",
    "        continue\n",
    "    \n",
    "\n",
    "    image_with_header, label_with_header = C.Util.load(i, datapath=DATAPATH, with_header=True)\n",
    "\n",
    "    spacing = [image_with_header[1]['space directions'][0,0],\n",
    "               image_with_header[1]['space directions'][1,1],\n",
    "               1]\n",
    "\n",
    "    image = image_with_header[0]\n",
    "    label = label_with_header[0]\n",
    "    \n",
    "    # crop according to all annotations\n",
    "    image_cropped, label_cropped = C.Util.crop(image, label, target_size=None, just_z=False)\n",
    "    \n",
    "    # remove all slices without annotations\n",
    "    image_filtered, label_filtered = C.Util.filter(image_cropped, label_cropped)\n",
    "    \n",
    "    label_binarized = C.Util.binarize(label_filtered)\n",
    "    \n",
    "\n",
    "    \n",
    "    images.append(image_filtered)\n",
    "    labels.append(label_binarized)\n",
    "    "
   ]
  },
  {
   "cell_type": "code",
   "execution_count": 6,
   "id": "99a8a9e7",
   "metadata": {},
   "outputs": [
    {
     "name": "stdout",
     "output_type": "stream",
     "text": [
      "Total images/labels: 33\n"
     ]
    }
   ],
   "source": [
    "print('Total images/labels:', len(images))"
   ]
  },
  {
   "cell_type": "code",
   "execution_count": 7,
   "id": "e6d618c6",
   "metadata": {},
   "outputs": [
    {
     "name": "stdout",
     "output_type": "stream",
     "text": [
      "0 150\n",
      "2 160\n",
      "5 167\n",
      "8 212\n"
     ]
    }
   ],
   "source": [
    "maxY = 0\n",
    "for i,img in enumerate(images):\n",
    "    \n",
    "    if img.shape[0] > maxY: \n",
    "        print(i, img.shape[0])\n",
    "        maxY = img.shape[0]"
   ]
  },
  {
   "cell_type": "code",
   "execution_count": 8,
   "id": "7c8a9d38",
   "metadata": {},
   "outputs": [
    {
     "data": {
      "text/plain": [
       "True"
      ]
     },
     "execution_count": 8,
     "metadata": {},
     "output_type": "execute_result"
    }
   ],
   "source": [
    "labels[8].max()"
   ]
  },
  {
   "cell_type": "code",
   "execution_count": 9,
   "id": "ac0cf7d5",
   "metadata": {},
   "outputs": [
    {
     "name": "stdout",
     "output_type": "stream",
     "text": [
      "forcing power of 2 True\n",
      "forcing square True\n",
      "centering True\n"
     ]
    }
   ],
   "source": [
    "padded_images, padded_labels = C.Util.pad(images, labels)"
   ]
  },
  {
   "cell_type": "code",
   "execution_count": 10,
   "id": "ba4ef017",
   "metadata": {},
   "outputs": [
    {
     "data": {
      "text/plain": [
       "(503, 512, 512)"
      ]
     },
     "execution_count": 10,
     "metadata": {},
     "output_type": "execute_result"
    }
   ],
   "source": [
    "padded_images.shape"
   ]
  },
  {
   "cell_type": "code",
   "execution_count": 11,
   "id": "7008ed4d",
   "metadata": {},
   "outputs": [
    {
     "data": {
      "image/png": "[encoded data removed]",
      "text/plain": [
       "<Figure size 72x216 with 1 Axes>"
      ]
     },
     "metadata": {
      "needs_background": "light"
     },
     "output_type": "display_data"
    }
   ],
   "source": [
    "C.Util.view(padded_images[0], padded_labels[0])"
   ]
  },
  {
   "cell_type": "code",
   "execution_count": 12,
   "id": "ec66f610",
   "metadata": {},
   "outputs": [
    {
     "data": {
      "image/png": "[encoded data removed]",
      "text/plain": [
       "<Figure size 72x216 with 1 Axes>"
      ]
     },
     "metadata": {
      "needs_background": "light"
     },
     "output_type": "display_data"
    }
   ],
   "source": [
    "C.Util.view(padded_images[10], padded_labels[10])"
   ]
  },
  {
   "cell_type": "code",
   "execution_count": 13,
   "id": "4cd092dd",
   "metadata": {},
   "outputs": [
    {
     "data": {
      "image/png": "[encoded data removed]",
      "text/plain": [
       "<Figure size 72x216 with 1 Axes>"
      ]
     },
     "metadata": {
      "needs_background": "light"
     },
     "output_type": "display_data"
    }
   ],
   "source": [
    "C.Util.view(padded_images[200], padded_labels[200])"
   ]
  },
  {
   "cell_type": "code",
   "execution_count": 14,
   "id": "d8a6af1f",
   "metadata": {},
   "outputs": [
    {
     "data": {
      "text/plain": [
       "(503, 512, 512)"
      ]
     },
     "execution_count": 14,
     "metadata": {},
     "output_type": "execute_result"
    }
   ],
   "source": [
    "padded_images.shape"
   ]
  },
  {
   "cell_type": "code",
   "execution_count": 15,
   "id": "016e8946",
   "metadata": {},
   "outputs": [],
   "source": [
    "#\n",
    "# now we can store padded_images and padded_labels as .npy files\n",
    "#\n",
    "np.save(os.path.join(DATAPATH, 'images_cropped.npy'), padded_images)\n",
    "np.save(os.path.join(DATAPATH, 'labels_cropped.npy'), padded_labels)"
   ]
  },
  {
   "cell_type": "code",
   "execution_count": 16,
   "id": "9ac7f8af",
   "metadata": {
    "scrolled": true
   },
   "outputs": [
    {
     "data": {
      "image/png": "[encoded data removed]",
      "text/plain": [
       "<Figure size 7200x216 with 100 Axes>"
      ]
     },
     "metadata": {
      "needs_background": "light"
     },
     "output_type": "display_data"
    }
   ],
   "source": [
    "C.Util.view(np.moveaxis(padded_images[0:100], 0, 2) , np.moveaxis(padded_labels[0:100], 0, 2) )"
   ]
  },
  {
   "cell_type": "code",
   "execution_count": null,
   "id": "143a9872",
   "metadata": {},
   "outputs": [],
   "source": []
  }
 ],
 "metadata": {
  "kernelspec": {
   "display_name": "Python 3 (ipykernel)",
   "language": "python",
   "name": "python3"
  },
  "language_info": {
   "codemirror_mode": {
    "name": "ipython",
    "version": 3
   },
   "file_extension": ".py",
   "mimetype": "text/x-python",
   "name": "python",
   "nbconvert_exporter": "python",
   "pygments_lexer": "ipython3",
   "version": "3.9.7"
  }
 },
 "nbformat": 4,
 "nbformat_minor": 5
}
