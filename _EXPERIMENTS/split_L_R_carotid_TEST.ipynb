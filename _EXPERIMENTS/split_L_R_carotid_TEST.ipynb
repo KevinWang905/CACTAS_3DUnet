{
 "cells": [
  {
   "cell_type": "code",
   "execution_count": 1,
   "id": "d100bbfd",
   "metadata": {},
   "outputs": [
    {
     "name": "stdout",
     "output_type": "stream",
     "text": [
      "%pylab is deprecated, use %matplotlib inline and import the required libraries.\n",
      "Populating the interactive namespace from numpy and matplotlib\n"
     ]
    }
   ],
   "source": [
    "%pylab inline\n",
    "%load_ext autoreload\n",
    "%autoreload 2"
   ]
  },
  {
   "cell_type": "code",
   "execution_count": 2,
   "id": "ec1e6184",
   "metadata": {},
   "outputs": [],
   "source": [
    "import os\n",
    "import mahotas as mh"
   ]
  },
  {
   "cell_type": "code",
   "execution_count": 3,
   "id": "fc60008c",
   "metadata": {},
   "outputs": [
    {
     "name": "stderr",
     "output_type": "stream",
     "text": [
      "2023-01-28 22:33:49.871151: I tensorflow/stream_executor/platform/default/dso_loader.cc:53] Successfully opened dynamic library libcudart.so.11.0\n"
     ]
    },
    {
     "name": "stdout",
     "output_type": "stream",
     "text": [
      "-----------------------------------------\n",
      "keras-unet init: TF version is >= 2.0.0 - using `tf.keras` instead of `Keras`\n",
      "-----------------------------------------\n"
     ]
    }
   ],
   "source": [
    "import cactas as C"
   ]
  },
  {
   "cell_type": "code",
   "execution_count": 48,
   "id": "3a2bf9cc",
   "metadata": {},
   "outputs": [],
   "source": [
    "# DATAPATH = '/home/d/Dropbox/RESEARCH/CAROTID/DATA/Nathan_'\n",
    "DATAPATH = '/raid/mpsych/CACTAS/DATA/Nathan_Test/'\n",
    "DATAPATH_PRED = '/raid/mpsych/CACTAS/DATA/Nathan_Test_Predicted/'\n",
    "TEST_DATA_IGNORE = ['41','51','61']"
   ]
  },
  {
   "cell_type": "code",
   "execution_count": 49,
   "id": "d1227a23",
   "metadata": {},
   "outputs": [],
   "source": [
    "P=64"
   ]
  },
  {
   "cell_type": "code",
   "execution_count": 50,
   "id": "9b050901",
   "metadata": {},
   "outputs": [],
   "source": [
    "with open(DATAPATH+'../ESUS_stroke_side.csv', 'r') as f:\n",
    "    stroke_sides = f.read().replace('ESUS ','').split('\\n')\n",
    "\n",
    "STROKE_SIDES = {}\n",
    "    \n",
    "for l in stroke_sides[1:]:\n",
    "    l_s = l.split(',')\n",
    "    \n",
    "    if len(l_s) != 5:\n",
    "        continue\n",
    "    \n",
    "    id_ = l_s[0]\n",
    "    age = l_s[1]\n",
    "    sex = l_s[2]\n",
    "    race = l_s[3]\n",
    "    side = l_s[4]\n",
    "    STROKE_SIDES[id_] = side"
   ]
  },
  {
   "cell_type": "code",
   "execution_count": null,
   "id": "e338ff06",
   "metadata": {
    "scrolled": false
   },
   "outputs": [
    {
     "name": "stdout",
     "output_type": "stream",
     "text": [
      "ESUS 10\n",
      "Stroke side L\n",
      "Loaded /raid/mpsych/CACTAS/DATA/Nathan_Test_Predicted/10.npy\n",
      "ESUS 14\n",
      "Stroke side L\n",
      "Loaded /raid/mpsych/CACTAS/DATA/Nathan_Test_Predicted/14.npy\n",
      "ESUS 15\n",
      "Stroke side L\n",
      "Loaded /raid/mpsych/CACTAS/DATA/Nathan_Test_Predicted/15.npy\n",
      "ESUS 2\n",
      "Stroke side R\n",
      "Loaded /raid/mpsych/CACTAS/DATA/Nathan_Test_Predicted/2.npy\n",
      "ESUS 27\n",
      "Stroke side R\n",
      "Loaded /raid/mpsych/CACTAS/DATA/Nathan_Test_Predicted/27.npy\n",
      "ESUS 32\n",
      "Stroke side R\n",
      "Loaded /raid/mpsych/CACTAS/DATA/Nathan_Test_Predicted/32.npy\n",
      "ESUS 33\n",
      "Stroke side R\n",
      "Loaded /raid/mpsych/CACTAS/DATA/Nathan_Test_Predicted/33.npy\n",
      "ESUS 35\n",
      "Stroke side L\n",
      "Loaded /raid/mpsych/CACTAS/DATA/Nathan_Test_Predicted/35.npy\n",
      "ESUS 39\n",
      "Stroke side L\n",
      "Loaded /raid/mpsych/CACTAS/DATA/Nathan_Test_Predicted/39.npy\n",
      "ESUS 46\n",
      "Stroke side R\n",
      "Loaded /raid/mpsych/CACTAS/DATA/Nathan_Test_Predicted/46.npy\n",
      "ESUS 47\n",
      "Stroke side L\n",
      "Loaded /raid/mpsych/CACTAS/DATA/Nathan_Test_Predicted/47.npy\n"
     ]
    },
    {
     "name": "stderr",
     "output_type": "stream",
     "text": [
      "/home/daniel.haehn/Projects/CACTAS/_EXPERIMENTS/cactas/util.py:170: RuntimeWarning: More than 20 figures have been opened. Figures created through the pyplot interface (`matplotlib.pyplot.figure`) are retained until explicitly closed and may consume too much memory. (To control this warning, see the rcParam `figure.max_open_warning`). Consider using `matplotlib.pyplot.close()`.\n",
      "  fig = plt.figure(figsize=(slices,3))\n"
     ]
    },
    {
     "name": "stdout",
     "output_type": "stream",
     "text": [
      "ESUS 48\n",
      "Stroke side L\n",
      "Loaded /raid/mpsych/CACTAS/DATA/Nathan_Test_Predicted/48.npy\n"
     ]
    }
   ],
   "source": [
    "DATASETS = sorted([v for v in os.listdir(DATAPATH)])\n",
    "\n",
    "images = []\n",
    "labels = []\n",
    "\n",
    "g_symp_i_patches = []\n",
    "g_symp_l_patches = []\n",
    "g_asymp_i_patches = []\n",
    "g_asymp_l_patches = []\n",
    "\n",
    "image_patches = []\n",
    "label_patches = []\n",
    "\n",
    "for i,d in enumerate(DATASETS):\n",
    "    \n",
    "\n",
    "    s_stripped = d.replace('ESUS ','')\n",
    "    \n",
    "    if s_stripped in TEST_DATA_IGNORE:\n",
    "        continue \n",
    "    \n",
    "    print(d)\n",
    "\n",
    "    image_with_header, label_with_header = C.Util.load(i, datapath=DATAPATH, with_header=True)\n",
    "\n",
    "    spacing = [image_with_header[1]['space directions'][0,0],\n",
    "               image_with_header[1]['space directions'][1,1],\n",
    "               1]\n",
    "\n",
    "    image = image_with_header[0]\n",
    "    label = label_with_header[0]\n",
    "    \n",
    "    ### only support L P S\n",
    "    if image_with_header[1]['space'] != 'left-posterior-superior':\n",
    "        print('WARNING!! FATAL!!! ERROR!!! NO LPS!')\n",
    "        break\n",
    "\n",
    "    # left is Y axis from top 0 to bottom 512 (512 is full left, 0 is right)\n",
    "    \n",
    "    # get stroke side\n",
    "    parsed_id = d.replace('ESUS ','').replace('-checked','')\n",
    "    ### patient side\n",
    "    stroke_side = STROKE_SIDES[parsed_id]\n",
    "    print('Stroke side', stroke_side)\n",
    "    \n",
    "    \n",
    "    #\n",
    "    # LETS LOAD THE PREDICTION\n",
    "    #\n",
    "    label = np.load(DATAPATH_PRED+s_stripped+'.npy')\n",
    "    print('Loaded', (DATAPATH_PRED+s_stripped+'.npy'))\n",
    "    \n",
    "    # normalize grayscale to 0..1\n",
    "    image_normalized = C.Util.normalize(image)\n",
    "    \n",
    "    # remove empty slices\n",
    "    image_filtered, label_filtered = C.Util.filter(image_normalized, label)\n",
    "\n",
    "    # for each scan\n",
    "    symp_i_patches = []\n",
    "    symp_l_patches = []\n",
    "    asymp_i_patches = []\n",
    "    asymp_l_patches = []\n",
    "    \n",
    "    \n",
    "    # loop thru each slice\n",
    "    for z in range(image_filtered.shape[2]):\n",
    "\n",
    "        image_slice = image_filtered[:,:,z:z+1]\n",
    "        label_slice = label_filtered[:,:,z:z+1]\n",
    "\n",
    "        # relabel the segments\n",
    "        relabel, obj = mh.label(label_slice.astype(np.uint8))\n",
    "        \n",
    "\n",
    "#         print('relabeled')\n",
    "\n",
    "        # loop thru each segment, binarize and crop\n",
    "        for i in range(1, relabel.max()+1):\n",
    "\n",
    "            single_label = np.zeros((relabel.shape), relabel.dtype)\n",
    "            single_label[relabel == i] = 1\n",
    "\n",
    "            bb = mh.bbox(single_label)\n",
    "\n",
    "            if (bb[1]-bb[0]<=1) or (bb[3]-bb[2]<=1):\n",
    "#                 print('ignoring tiny plaque',d)\n",
    "                continue\n",
    "            \n",
    "            location = ''\n",
    "            if (512-bb[0] < 256):\n",
    "                location = 'L' # patient view\n",
    "            else:\n",
    "                location = 'R' # patient view\n",
    "                \n",
    "            \n",
    "            \n",
    "            image_cropped, single_label_cropped = C.Util.crop(image_slice, single_label, target_size=P)\n",
    "\n",
    "#             print(location, image_cropped.shape, single_label_cropped.shape)\n",
    "            \n",
    "            if location == stroke_side:\n",
    "                symp_i_patches.append(image_cropped)\n",
    "                symp_l_patches.append(single_label_cropped)\n",
    "            else:\n",
    "                asymp_i_patches.append(image_cropped)\n",
    "                asymp_l_patches.append(single_label_cropped)\n",
    "                \n",
    "            \n",
    "#             image_patches.append(image_cropped)\n",
    "#             label_patches.append(single_label_cropped)\n",
    "\n",
    "#         break\n",
    "\n",
    "    ### plot\n",
    "    if len(symp_i_patches) > 0:\n",
    "        symp_i_patches_a = C.Util.list_to_array(symp_i_patches)\n",
    "        C.Util.view(symp_i_patches_a, symp_i_patches_a, vmin=0, vmax=1, alpha=0, title=d+' symp.' )\n",
    "    else:\n",
    "        print(d, 'no symp plaque')\n",
    "    \n",
    "    if len(asymp_i_patches) > 0:\n",
    "        asymp_i_patches_a = C.Util.list_to_array(asymp_i_patches)\n",
    "        C.Util.view(asymp_i_patches_a, asymp_i_patches_a, vmin=0, vmax=1, alpha=0, title=d+' asymp.' )\n",
    "    else:\n",
    "        print(d, 'no asymp plaque')\n",
    "        \n",
    "    g_symp_i_patches += symp_i_patches\n",
    "    g_symp_l_patches += symp_l_patches\n",
    "    g_asymp_i_patches += asymp_i_patches\n",
    "    g_asymp_l_patches += asymp_l_patches\n",
    "    "
   ]
  },
  {
   "cell_type": "code",
   "execution_count": 44,
   "id": "c4f166e7",
   "metadata": {},
   "outputs": [
    {
     "data": {
      "text/plain": [
       "(64, 0, 1)"
      ]
     },
     "execution_count": 44,
     "metadata": {},
     "output_type": "execute_result"
    }
   ],
   "source": [
    "g_symp_i_patches[0].shape"
   ]
  },
  {
   "cell_type": "code",
   "execution_count": 45,
   "id": "bec1cb3d",
   "metadata": {},
   "outputs": [
    {
     "data": {
      "text/plain": [
       "array([251, 253, 324, 327,   0,   1])"
      ]
     },
     "execution_count": 45,
     "metadata": {},
     "output_type": "execute_result"
    }
   ],
   "source": [
    "bb"
   ]
  },
  {
   "cell_type": "code",
   "execution_count": null,
   "id": "24c6c992",
   "metadata": {},
   "outputs": [],
   "source": []
  },
  {
   "cell_type": "code",
   "execution_count": null,
   "id": "20f6cf89",
   "metadata": {},
   "outputs": [],
   "source": []
  },
  {
   "cell_type": "code",
   "execution_count": 30,
   "id": "4b63cb09",
   "metadata": {},
   "outputs": [],
   "source": [
    "single_label = np.zeros((relabel.shape), relabel.dtype)\n",
    "single_label[relabel == i] = 1\n",
    "\n",
    "bb = mh.bbox(single_label)"
   ]
  },
  {
   "cell_type": "code",
   "execution_count": 32,
   "id": "3f4d2100",
   "metadata": {},
   "outputs": [
    {
     "data": {
      "text/plain": [
       "array([410, 411,   1,   2,   0,   1])"
      ]
     },
     "execution_count": 32,
     "metadata": {},
     "output_type": "execute_result"
    }
   ],
   "source": [
    "mh.bbox(relabel)"
   ]
  },
  {
   "cell_type": "code",
   "execution_count": 28,
   "id": "d345cac7",
   "metadata": {},
   "outputs": [
    {
     "data": {
      "text/plain": [
       "(array([410]), array([1]), array([0]))"
      ]
     },
     "execution_count": 28,
     "metadata": {},
     "output_type": "execute_result"
    }
   ],
   "source": [
    "np.where(label_slice==True)"
   ]
  },
  {
   "cell_type": "code",
   "execution_count": 25,
   "id": "9e373102",
   "metadata": {},
   "outputs": [
    {
     "data": {
      "text/plain": [
       "(512, 512, 1)"
      ]
     },
     "execution_count": 25,
     "metadata": {},
     "output_type": "execute_result"
    }
   ],
   "source": [
    "label_slice.shape"
   ]
  },
  {
   "cell_type": "code",
   "execution_count": 21,
   "id": "e144deea",
   "metadata": {},
   "outputs": [
    {
     "data": {
      "text/plain": [
       "(512, 512, 138)"
      ]
     },
     "execution_count": 21,
     "metadata": {},
     "output_type": "execute_result"
    }
   ],
   "source": [
    "label_filtered.shape"
   ]
  },
  {
   "cell_type": "code",
   "execution_count": 26,
   "id": "332a0da5",
   "metadata": {},
   "outputs": [
    {
     "data": {
      "text/plain": [
       "<matplotlib.image.AxesImage at 0x7fd3edc64b20>"
      ]
     },
     "execution_count": 26,
     "metadata": {},
     "output_type": "execute_result"
    },
    {
     "data": {
      "image/png": "[encoded data removed]",
      "text/plain": [
       "<Figure size 640x480 with 1 Axes>"
      ]
     },
     "metadata": {},
     "output_type": "display_data"
    }
   ],
   "source": [
    "imshow(label_slice)"
   ]
  },
  {
   "cell_type": "code",
   "execution_count": null,
   "id": "12f34722",
   "metadata": {},
   "outputs": [],
   "source": []
  },
  {
   "cell_type": "code",
   "execution_count": 8,
   "id": "1c9bd6b8",
   "metadata": {},
   "outputs": [
    {
     "data": {
      "text/plain": [
       "553"
      ]
     },
     "execution_count": 8,
     "metadata": {},
     "output_type": "execute_result"
    }
   ],
   "source": [
    "len(g_symp_l_patches)"
   ]
  },
  {
   "cell_type": "code",
   "execution_count": 9,
   "id": "edd3e01e",
   "metadata": {},
   "outputs": [],
   "source": [
    "g_symp_i_patches_a = C.Util.list_to_array(g_symp_i_patches)"
   ]
  },
  {
   "cell_type": "code",
   "execution_count": 10,
   "id": "5debb667",
   "metadata": {},
   "outputs": [],
   "source": [
    "g_asymp_i_patches_a = C.Util.list_to_array(g_asymp_i_patches)"
   ]
  },
  {
   "cell_type": "code",
   "execution_count": 11,
   "id": "8e4f25af",
   "metadata": {},
   "outputs": [
    {
     "data": {
      "text/plain": [
       "(64, 64, 553)"
      ]
     },
     "execution_count": 11,
     "metadata": {},
     "output_type": "execute_result"
    }
   ],
   "source": [
    "g_symp_i_patches_a.shape"
   ]
  },
  {
   "cell_type": "code",
   "execution_count": null,
   "id": "a3b3a946",
   "metadata": {},
   "outputs": [],
   "source": []
  },
  {
   "cell_type": "code",
   "execution_count": 12,
   "id": "dac8bdbd",
   "metadata": {},
   "outputs": [],
   "source": [
    "symp_count = len(g_symp_i_patches)\n",
    "symp_images_npy = np.zeros((symp_count, P,P,1), dtype=symp_i_patches[0].dtype)\n",
    "\n",
    "for i,img in enumerate(g_symp_i_patches):\n",
    "    symp_images_npy[i] = g_symp_i_patches_a[0:P,0:P,i:i+1]\n"
   ]
  },
  {
   "cell_type": "code",
   "execution_count": 13,
   "id": "dc649ad1",
   "metadata": {},
   "outputs": [],
   "source": [
    "asymp_count = len(g_asymp_i_patches)\n",
    "asymp_images_npy = np.zeros((asymp_count, P,P,1), dtype=asymp_i_patches[0].dtype)\n",
    "\n",
    "for i,img in enumerate(g_asymp_i_patches):\n",
    "    asymp_images_npy[i] = g_asymp_i_patches_a[0:P,0:P,i:i+1]"
   ]
  },
  {
   "cell_type": "code",
   "execution_count": null,
   "id": "e96aa7f9",
   "metadata": {},
   "outputs": [],
   "source": []
  },
  {
   "cell_type": "code",
   "execution_count": 14,
   "id": "26d752dc",
   "metadata": {},
   "outputs": [],
   "source": [
    "# normalize images\n",
    "for z in range(symp_images_npy.shape[0]):\n",
    "    \n",
    "    symp_images_npy[z] = (symp_images_npy[z] - symp_images_npy[z].min()) / (symp_images_npy[z].max() - symp_images_npy[z].min())"
   ]
  },
  {
   "cell_type": "code",
   "execution_count": 15,
   "id": "e88d24e4",
   "metadata": {},
   "outputs": [],
   "source": [
    "# normalize images\n",
    "for z in range(asymp_images_npy.shape[0]):\n",
    "    \n",
    "    asymp_images_npy[z] = (asymp_images_npy[z] - asymp_images_npy[z].min()) / (asymp_images_npy[z].max() - asymp_images_npy[z].min())"
   ]
  },
  {
   "cell_type": "code",
   "execution_count": 16,
   "id": "016e8946",
   "metadata": {},
   "outputs": [],
   "source": [
    "#\n",
    "# now we can store both\n",
    "#\n",
    "np.save(os.path.join(DATAPATH_PRED, 'asymp_cropped.npy'), asymp_images_npy)\n",
    "np.save(os.path.join(DATAPATH_PRED, 'symp_cropped.npy'), symp_images_npy)"
   ]
  },
  {
   "cell_type": "code",
   "execution_count": null,
   "id": "143a9872",
   "metadata": {},
   "outputs": [],
   "source": []
  }
 ],
 "metadata": {
  "kernelspec": {
   "display_name": "Python 3 (ipykernel)",
   "language": "python",
   "name": "python3"
  },
  "language_info": {
   "codemirror_mode": {
    "name": "ipython",
    "version": 3
   },
   "file_extension": ".py",
   "mimetype": "text/x-python",
   "name": "python",
   "nbconvert_exporter": "python",
   "pygments_lexer": "ipython3",
   "version": "3.9.7"
  }
 },
 "nbformat": 4,
 "nbformat_minor": 5
}
