{
 "cells": [
  {
   "cell_type": "code",
   "execution_count": 2,
   "id": "2489f62a",
   "metadata": {},
   "outputs": [
    {
     "name": "stdout",
     "output_type": "stream",
     "text": [
      "%pylab is deprecated, use %matplotlib inline and import the required libraries.\n",
      "Populating the interactive namespace from numpy and matplotlib\n"
     ]
    }
   ],
   "source": [
    "%pylab inline"
   ]
  },
  {
   "cell_type": "code",
   "execution_count": 3,
   "id": "2ef96717",
   "metadata": {},
   "outputs": [],
   "source": [
    "GTFILE = '/raid/mpsych/CACTAS/DATA/ESUS/7.seg.nrrd'"
   ]
  },
  {
   "cell_type": "code",
   "execution_count": 4,
   "id": "a7745894",
   "metadata": {},
   "outputs": [],
   "source": [
    "CUSDATA = '/raid/mpsych/CACTAS/DATA/DACTAS/'"
   ]
  },
  {
   "cell_type": "code",
   "execution_count": 10,
   "id": "62c47984",
   "metadata": {},
   "outputs": [],
   "source": [
    "import nrrd\n",
    "import cactas as C\n",
    "import nibabel\n",
    "import mahotas as mh"
   ]
  },
  {
   "cell_type": "code",
   "execution_count": 6,
   "id": "4dff71e6",
   "metadata": {},
   "outputs": [],
   "source": [
    "GT = nrrd.read(GTFILE)[0]"
   ]
  },
  {
   "cell_type": "code",
   "execution_count": 46,
   "id": "81d157fd",
   "metadata": {},
   "outputs": [],
   "source": [
    "CACTAS_INDICES = [1,2,5,6,9,11]\n",
    "SLICER_INDICES = [3,4,7,8,10,12]"
   ]
  },
  {
   "cell_type": "code",
   "execution_count": 48,
   "id": "4703bab6",
   "metadata": {},
   "outputs": [],
   "source": [
    "C_JACCARD = []\n",
    "for c in CACTAS_INDICES:\n",
    "    segpath = CUSDATA + str(c) + '/07_seg.nii.gz'\n",
    "    data = nibabel.load(segpath).get_fdata()\n",
    "    data = C.Util.binarize(data)\n",
    "    for i in range(1):\n",
    "        data = mh.dilate(data)\n",
    "    jaccard = C.Util.jaccard(C.Util.binarize(GT), data)\n",
    "#     jaccard = C.Util.jaccard(C.Util.binarize(GT), C.Util.binarize(data))\n",
    "    \n",
    "    C_JACCARD.append(jaccard)"
   ]
  },
  {
   "cell_type": "code",
   "execution_count": 13,
   "id": "0c610da4",
   "metadata": {},
   "outputs": [
    {
     "data": {
      "text/plain": [
       "[0.20228384991843393,\n",
       " 0.0,\n",
       " 0.0,\n",
       " 0.0,\n",
       " 0.0020463847203274215,\n",
       " 0.34934497816593885]"
      ]
     },
     "execution_count": 13,
     "metadata": {},
     "output_type": "execute_result"
    }
   ],
   "source": [
    "C_JACCARD"
   ]
  },
  {
   "cell_type": "code",
   "execution_count": 49,
   "id": "6b358f21",
   "metadata": {},
   "outputs": [
    {
     "data": {
      "text/plain": [
       "[0.45118733509234826, 0.0, 0.0, 0.0, 0.0036068530207394047, 0.4]"
      ]
     },
     "execution_count": 49,
     "metadata": {},
     "output_type": "execute_result"
    }
   ],
   "source": [
    "C_JACCARD #with dilation"
   ]
  },
  {
   "cell_type": "code",
   "execution_count": 15,
   "id": "0b88ed3a",
   "metadata": {},
   "outputs": [
    {
     "data": {
      "text/plain": [
       "0.09227920213411671"
      ]
     },
     "execution_count": 15,
     "metadata": {},
     "output_type": "execute_result"
    }
   ],
   "source": [
    "np.mean(C_JACCARD)"
   ]
  },
  {
   "cell_type": "code",
   "execution_count": 11,
   "id": "421e2e67",
   "metadata": {},
   "outputs": [],
   "source": [
    "S_JACCARD = []\n",
    "for c in SLICER_INDICES:\n",
    "    segpath = CUSDATA + str(c) + '/Segmentation.seg.nrrd'\n",
    "    data = nrrd.read(segpath)[0]\n",
    "    jaccard = C.Util.jaccard(C.Util.binarize(GT), C.Util.binarize(data))\n",
    "    \n",
    "    S_JACCARD.append(jaccard)"
   ]
  },
  {
   "cell_type": "code",
   "execution_count": 12,
   "id": "96108490",
   "metadata": {},
   "outputs": [
    {
     "data": {
      "text/plain": [
       "[0.0,\n",
       " 0.20945502298095864,\n",
       " 0.27009222661396576,\n",
       " 0.04082207207207207,\n",
       " 0.10646900269541779,\n",
       " 0.22964867180805484]"
      ]
     },
     "execution_count": 12,
     "metadata": {},
     "output_type": "execute_result"
    }
   ],
   "source": [
    "S_JACCARD"
   ]
  },
  {
   "cell_type": "code",
   "execution_count": 14,
   "id": "4ae02f02",
   "metadata": {},
   "outputs": [
    {
     "data": {
      "text/plain": [
       "0.14274783269507818"
      ]
     },
     "execution_count": 14,
     "metadata": {},
     "output_type": "execute_result"
    }
   ],
   "source": [
    "np.mean(S_JACCARD)"
   ]
  },
  {
   "cell_type": "code",
   "execution_count": 7,
   "id": "9418d2fd",
   "metadata": {},
   "outputs": [],
   "source": [
    "# daniels\n",
    "C_JACCARD2 = []\n",
    "for c in [13]:\n",
    "    segpath = CUSDATA + str(c) + '/07_seg.nii.gz'\n",
    "    data = nibabel.load(segpath).get_fdata()\n",
    "    jaccard = C.Util.jaccard(C.Util.binarize(GT), C.Util.binarize(data))\n",
    "    \n",
    "    C_JACCARD2.append(jaccard)"
   ]
  },
  {
   "cell_type": "code",
   "execution_count": 8,
   "id": "b58c00d4",
   "metadata": {},
   "outputs": [
    {
     "data": {
      "text/plain": [
       "[0.3283582089552239]"
      ]
     },
     "execution_count": 8,
     "metadata": {},
     "output_type": "execute_result"
    }
   ],
   "source": [
    "C_JACCARD2"
   ]
  },
  {
   "cell_type": "code",
   "execution_count": 41,
   "id": "56add1bb",
   "metadata": {},
   "outputs": [],
   "source": [
    "# daniels\n",
    "C_JACCARD2 = []\n",
    "for c in [13]:\n",
    "    segpath = CUSDATA + str(c) + '/07_seg.nii.gz'\n",
    "    data = nibabel.load(segpath).get_fdata()\n",
    "    data = C.Util.binarize(data)\n",
    "#     for i in range(1):\n",
    "#         data = mh.dilate(data)\n",
    "    jaccard = C.Util.jaccard(C.Util.binarize(GT), data)\n",
    "    \n",
    "    C_JACCARD2.append(jaccard)"
   ]
  },
  {
   "cell_type": "code",
   "execution_count": 40,
   "id": "3c3a6fec",
   "metadata": {},
   "outputs": [
    {
     "data": {
      "text/plain": [
       "[0.547979797979798]"
      ]
     },
     "execution_count": 40,
     "metadata": {},
     "output_type": "execute_result"
    }
   ],
   "source": [
    "C_JACCARD2 # with dilation"
   ]
  },
  {
   "cell_type": "code",
   "execution_count": 42,
   "id": "fd77e662",
   "metadata": {},
   "outputs": [
    {
     "data": {
      "text/plain": [
       "[0.3283582089552239]"
      ]
     },
     "execution_count": 42,
     "metadata": {},
     "output_type": "execute_result"
    }
   ],
   "source": [
    "C_JACCARD2 # without dilation"
   ]
  },
  {
   "cell_type": "code",
   "execution_count": 43,
   "id": "0323a54c",
   "metadata": {},
   "outputs": [
    {
     "data": {
      "text/plain": [
       "<matplotlib.image.AxesImage at 0x7fd89ff8e880>"
      ]
     },
     "execution_count": 43,
     "metadata": {},
     "output_type": "execute_result"
    },
    {
     "data": {
      "image/png": "[encoded data removed]",
      "text/plain": [
       "<Figure size 640x480 with 1 Axes>"
      ]
     },
     "metadata": {},
     "output_type": "display_data"
    }
   ],
   "source": [
    "imshow(data[:,:,114])"
   ]
  },
  {
   "cell_type": "code",
   "execution_count": 44,
   "id": "85aa71e0",
   "metadata": {},
   "outputs": [
    {
     "data": {
      "text/plain": [
       "<matplotlib.image.AxesImage at 0x7fd89ff842b0>"
      ]
     },
     "execution_count": 44,
     "metadata": {},
     "output_type": "execute_result"
    },
    {
     "data": {
      "image/png": "[encoded data removed]",
      "text/plain": [
       "<Figure size 640x480 with 1 Axes>"
      ]
     },
     "metadata": {},
     "output_type": "display_data"
    }
   ],
   "source": [
    "imshow(GT[:,:,114])"
   ]
  },
  {
   "cell_type": "code",
   "execution_count": null,
   "id": "8bd1e11d",
   "metadata": {},
   "outputs": [],
   "source": []
  }
 ],
 "metadata": {
  "kernelspec": {
   "display_name": "Python 3 (ipykernel)",
   "language": "python",
   "name": "python3"
  },
  "language_info": {
   "codemirror_mode": {
    "name": "ipython",
    "version": 3
   },
   "file_extension": ".py",
   "mimetype": "text/x-python",
   "name": "python",
   "nbconvert_exporter": "python",
   "pygments_lexer": "ipython3",
   "version": "3.9.7"
  }
 },
 "nbformat": 4,
 "nbformat_minor": 5
}
