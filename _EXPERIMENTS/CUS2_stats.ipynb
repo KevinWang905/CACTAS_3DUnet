{
 "cells": [
  {
   "cell_type": "code",
   "execution_count": 2,
   "id": "2489f62a",
   "metadata": {},
   "outputs": [
    {
     "name": "stdout",
     "output_type": "stream",
     "text": [
      "%pylab is deprecated, use %matplotlib inline and import the required libraries.\n",
      "Populating the interactive namespace from numpy and matplotlib\n"
     ]
    }
   ],
   "source": [
    "%pylab inline"
   ]
  },
  {
   "cell_type": "code",
   "execution_count": 3,
   "id": "2ef96717",
   "metadata": {},
   "outputs": [],
   "source": [
    "GTFILE = '/raid/mpsych/CACTAS/DATA/ESUS/7.seg.nrrd'"
   ]
  },
  {
   "cell_type": "code",
   "execution_count": 8,
   "id": "a7745894",
   "metadata": {},
   "outputs": [],
   "source": [
    "CUSDATA = '/raid/mpsych/CACTAS/DATA/DACTAS/'"
   ]
  },
  {
   "cell_type": "code",
   "execution_count": 1,
   "id": "62c47984",
   "metadata": {},
   "outputs": [
    {
     "name": "stderr",
     "output_type": "stream",
     "text": [
      "2023-03-10 22:21:20.527725: I tensorflow/stream_executor/platform/default/dso_loader.cc:53] Successfully opened dynamic library libcudart.so.11.0\n"
     ]
    },
    {
     "name": "stdout",
     "output_type": "stream",
     "text": [
      "-----------------------------------------\n",
      "keras-unet init: TF version is >= 2.0.0 - using `tf.keras` instead of `Keras`\n",
      "-----------------------------------------\n"
     ]
    }
   ],
   "source": [
    "import nrrd\n",
    "import cactas as C\n",
    "import nibabel"
   ]
  },
  {
   "cell_type": "code",
   "execution_count": 5,
   "id": "4dff71e6",
   "metadata": {},
   "outputs": [],
   "source": [
    "GT = nrrd.read(GTFILE)[0]"
   ]
  },
  {
   "cell_type": "code",
   "execution_count": 6,
   "id": "81d157fd",
   "metadata": {},
   "outputs": [],
   "source": [
    "CACTAS_INDICES = [1,2,5,6,9,11]\n",
    "SLICER_INDICES = [3,4,7,8,10,12]"
   ]
  },
  {
   "cell_type": "code",
   "execution_count": 10,
   "id": "4703bab6",
   "metadata": {},
   "outputs": [],
   "source": [
    "C_JACCARD = []\n",
    "for c in CACTAS_INDICES:\n",
    "    segpath = CUSDATA + str(c) + '/07_seg.nii.gz'\n",
    "    data = nibabel.load(segpath).get_fdata()\n",
    "    jaccard = C.Util.jaccard(C.Util.binarize(GT), C.Util.binarize(data))\n",
    "    \n",
    "    C_JACCARD.append(jaccard)"
   ]
  },
  {
   "cell_type": "code",
   "execution_count": 13,
   "id": "0c610da4",
   "metadata": {},
   "outputs": [
    {
     "data": {
      "text/plain": [
       "[0.20228384991843393,\n",
       " 0.0,\n",
       " 0.0,\n",
       " 0.0,\n",
       " 0.0020463847203274215,\n",
       " 0.34934497816593885]"
      ]
     },
     "execution_count": 13,
     "metadata": {},
     "output_type": "execute_result"
    }
   ],
   "source": [
    "C_JACCARD"
   ]
  },
  {
   "cell_type": "code",
   "execution_count": 15,
   "id": "0b88ed3a",
   "metadata": {},
   "outputs": [
    {
     "data": {
      "text/plain": [
       "0.09227920213411671"
      ]
     },
     "execution_count": 15,
     "metadata": {},
     "output_type": "execute_result"
    }
   ],
   "source": [
    "np.mean(C_JACCARD)"
   ]
  },
  {
   "cell_type": "code",
   "execution_count": 11,
   "id": "421e2e67",
   "metadata": {},
   "outputs": [],
   "source": [
    "S_JACCARD = []\n",
    "for c in SLICER_INDICES:\n",
    "    segpath = CUSDATA + str(c) + '/Segmentation.seg.nrrd'\n",
    "    data = nrrd.read(segpath)[0]\n",
    "    jaccard = C.Util.jaccard(C.Util.binarize(GT), C.Util.binarize(data))\n",
    "    \n",
    "    S_JACCARD.append(jaccard)"
   ]
  },
  {
   "cell_type": "code",
   "execution_count": 12,
   "id": "96108490",
   "metadata": {},
   "outputs": [
    {
     "data": {
      "text/plain": [
       "[0.0,\n",
       " 0.20945502298095864,\n",
       " 0.27009222661396576,\n",
       " 0.04082207207207207,\n",
       " 0.10646900269541779,\n",
       " 0.22964867180805484]"
      ]
     },
     "execution_count": 12,
     "metadata": {},
     "output_type": "execute_result"
    }
   ],
   "source": [
    "S_JACCARD"
   ]
  },
  {
   "cell_type": "code",
   "execution_count": 14,
   "id": "4ae02f02",
   "metadata": {},
   "outputs": [
    {
     "data": {
      "text/plain": [
       "0.14274783269507818"
      ]
     },
     "execution_count": 14,
     "metadata": {},
     "output_type": "execute_result"
    }
   ],
   "source": [
    "np.mean(S_JACCARD)"
   ]
  },
  {
   "cell_type": "code",
   "execution_count": null,
   "id": "9418d2fd",
   "metadata": {},
   "outputs": [],
   "source": []
  }
 ],
 "metadata": {
  "kernelspec": {
   "display_name": "Python 3 (ipykernel)",
   "language": "python",
   "name": "python3"
  },
  "language_info": {
   "codemirror_mode": {
    "name": "ipython",
    "version": 3
   },
   "file_extension": ".py",
   "mimetype": "text/x-python",
   "name": "python",
   "nbconvert_exporter": "python",
   "pygments_lexer": "ipython3",
   "version": "3.9.7"
  }
 },
 "nbformat": 4,
 "nbformat_minor": 5
}
