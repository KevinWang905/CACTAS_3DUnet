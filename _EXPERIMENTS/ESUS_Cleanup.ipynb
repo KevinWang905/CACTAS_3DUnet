{
 "cells": [
  {
   "cell_type": "code",
   "execution_count": 1,
   "id": "926d39b4",
   "metadata": {},
   "outputs": [
    {
     "name": "stdout",
     "output_type": "stream",
     "text": [
      "%pylab is deprecated, use %matplotlib inline and import the required libraries.\n",
      "Populating the interactive namespace from numpy and matplotlib\n"
     ]
    }
   ],
   "source": [
    "%pylab inline"
   ]
  },
  {
   "cell_type": "code",
   "execution_count": 2,
   "id": "c8bf0c68",
   "metadata": {},
   "outputs": [],
   "source": [
    "import os"
   ]
  },
  {
   "cell_type": "code",
   "execution_count": 3,
   "id": "2902f174",
   "metadata": {},
   "outputs": [],
   "source": [
    "DATADIR = '/home/d/Projects/DACTAS/ESUS/'"
   ]
  },
  {
   "cell_type": "code",
   "execution_count": 11,
   "id": "93eb5fd0",
   "metadata": {},
   "outputs": [
    {
     "name": "stdout",
     "output_type": "stream",
     "text": [
      "DICOM 90\n",
      "DICOM 88\n",
      "DICOM 63\n",
      "DICOM 7\n",
      "DICOM 61\n",
      "DICOM 87\n",
      "DICOM 13\n",
      "DICOM 31\n",
      "DICOM 25\n",
      "DICOM 12\n",
      "DICOM 36\n",
      "DICOM 26\n",
      "DICOM 62\n",
      "DICOM 24\n",
      "DICOM 22\n",
      "DICOM 51\n",
      "DICOM 40\n",
      "DICOM 97\n",
      "DICOM 49\n",
      "DICOM 29\n",
      "DICOM 18\n",
      "DICOM 96\n",
      "DICOM 77\n",
      "DICOM 12-checked\n",
      "DICOM 71\n",
      "DICOM 72\n",
      "DICOM 69\n",
      "DICOM 6\n",
      "DICOM 17\n",
      "DICOM 82\n",
      "DICOM 45\n",
      "DICOM 92\n",
      "DICOM 16\n",
      "DICOM 23\n",
      "DICOM 79\n",
      "DICOM 21\n"
     ]
    }
   ],
   "source": [
    "for d in os.listdir(DATADIR):\n",
    "    print(d)\n",
    "    \n",
    "    oldname = d\n",
    "    newname = d.replace(' ', '_')\n",
    "    \n",
    "    files = os.listdir(DATADIR+'/'+d)\n",
    "    size1 = os.path.getsize(DATADIR+'/'+d+'/'+files[0])\n",
    "    size2 = os.path.getsize(DATADIR+'/'+d+'/'+files[1])\n",
    "    \n",
    "    if size1 < size2:\n",
    "        segmentation = files[0]\n",
    "        image = files[1]\n",
    "    else:\n",
    "        segmentation = files[1]\n",
    "        image = files[0]\n",
    "        \n",
    "    os.rename(DATADIR+'/'+d+'/'+image, DATADIR+'/'+d+'/image.nrrd')\n",
    "    os.rename(DATADIR+'/'+d+'/'+segmentation, DATADIR+'/'+d+'/label.nrrd')\n",
    "    \n",
    "    os.rename(DATADIR+'/'+oldname, DATADIR+'/'+newname)"
   ]
  },
  {
   "cell_type": "code",
   "execution_count": null,
   "id": "46c4bec8",
   "metadata": {},
   "outputs": [],
   "source": []
  }
 ],
 "metadata": {
  "kernelspec": {
   "display_name": "Python 3 (ipykernel)",
   "language": "python",
   "name": "python3"
  },
  "language_info": {
   "codemirror_mode": {
    "name": "ipython",
    "version": 3
   },
   "file_extension": ".py",
   "mimetype": "text/x-python",
   "name": "python",
   "nbconvert_exporter": "python",
   "pygments_lexer": "ipython3",
   "version": "3.10.8"
  }
 },
 "nbformat": 4,
 "nbformat_minor": 5
}
