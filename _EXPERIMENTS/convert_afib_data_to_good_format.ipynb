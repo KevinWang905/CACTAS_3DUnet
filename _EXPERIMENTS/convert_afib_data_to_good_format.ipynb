{
 "cells": [
  {
   "cell_type": "code",
   "execution_count": 1,
   "id": "9dc449fe",
   "metadata": {},
   "outputs": [
    {
     "name": "stdout",
     "output_type": "stream",
     "text": [
      "%pylab is deprecated, use %matplotlib inline and import the required libraries.\n",
      "Populating the interactive namespace from numpy and matplotlib\n"
     ]
    }
   ],
   "source": [
    "%pylab inline"
   ]
  },
  {
   "cell_type": "code",
   "execution_count": 51,
   "id": "82076c9d",
   "metadata": {},
   "outputs": [],
   "source": [
    "DATADIR = '/home/d/Dropbox/RESEARCH/CAROTID/DATA/Afib/'\n",
    "OUTDIR = '/home/d/Dropbox/RESEARCH/CAROTID/DATA/Afib_Nathan/'\n",
    "IMGOUTDIR = '/home/d/Dropbox/RESEARCH/CAROTID/DATA/Afib_Images/'"
   ]
  },
  {
   "cell_type": "code",
   "execution_count": 6,
   "id": "110bf1d0",
   "metadata": {},
   "outputs": [],
   "source": [
    "import os\n"
   ]
  },
  {
   "cell_type": "code",
   "execution_count": 48,
   "id": "cdddf1e4",
   "metadata": {
    "scrolled": true
   },
   "outputs": [
    {
     "name": "stdout",
     "output_type": "stream",
     "text": [
      "1 /home/d/Dropbox/RESEARCH/CAROTID/DATA/Afib/Afib 1 Segmentation/Afib 1 Segmentation/Segmentation.seg.nrrd\n",
      "11 /home/d/Dropbox/RESEARCH/CAROTID/DATA/Afib/Afib 11 Segmentation/Afib 11 Segmentation/Segmentation.seg.nrrd\n",
      "12 /home/d/Dropbox/RESEARCH/CAROTID/DATA/Afib/Afib 12 Segmentation/Afib 12 Segmentation/Segmentation.seg.nrrd\n",
      "13 /home/d/Dropbox/RESEARCH/CAROTID/DATA/Afib/Afib 13 Segmentation/Afib 13 Segmentation/Segmentation.seg.nrrd\n",
      "14 /home/d/Dropbox/RESEARCH/CAROTID/DATA/Afib/Afib 14 Segmentation/Afib 14 Segmentation/Segmentation.seg.nrrd\n",
      "15 /home/d/Dropbox/RESEARCH/CAROTID/DATA/Afib/Afib 15 Segmentation/Afib 15 Segmentation/Segmentation.seg.nrrd\n",
      "16 /home/d/Dropbox/RESEARCH/CAROTID/DATA/Afib/Afib 16 Segmentation/Afib 16 Segmentation/Segmentation.seg.nrrd\n",
      "17 /home/d/Dropbox/RESEARCH/CAROTID/DATA/Afib/Afib 17 Segmentation/Afib 17 Segmentation/Segmentation.seg.nrrd\n",
      "2 /home/d/Dropbox/RESEARCH/CAROTID/DATA/Afib/Afib 2 Segmentation/Afib 2 Segmentation/Segmentation.seg.nrrd\n",
      "20 /home/d/Dropbox/RESEARCH/CAROTID/DATA/Afib/Afib 20 Segmentation/Afib 20 Segmentation/Segmentation.seg.nrrd\n",
      "21 /home/d/Dropbox/RESEARCH/CAROTID/DATA/Afib/Afib 21 Segmentation/Afib 21 Segmentation/Segmentation.seg.nrrd\n",
      "22 /home/d/Dropbox/RESEARCH/CAROTID/DATA/Afib/Afib 22 Segmentation/Segmentation.seg.nrrd\n",
      "23 /home/d/Dropbox/RESEARCH/CAROTID/DATA/Afib/Afib 23 Segmentation/Segmentation.seg.nrrd\n",
      "24 /home/d/Dropbox/RESEARCH/CAROTID/DATA/Afib/Afib 24 Segmentation/Segmentation.seg.nrrd\n",
      "25 /home/d/Dropbox/RESEARCH/CAROTID/DATA/Afib/Afib 25 Segmentation/Segmentation.seg.nrrd\n",
      "26 /home/d/Dropbox/RESEARCH/CAROTID/DATA/Afib/Afib 26 Segmentation/Segmentation.seg.nrrd\n",
      "27 /home/d/Dropbox/RESEARCH/CAROTID/DATA/Afib/Afib 27 Segmentation/Segmentation.seg.nrrd\n",
      "28 /home/d/Dropbox/RESEARCH/CAROTID/DATA/Afib/Afib 28 Segmentation/Segmentation.seg.nrrd\n",
      "29 /home/d/Dropbox/RESEARCH/CAROTID/DATA/Afib/Afib 29 Segmentation/Segmentation.seg.nrrd\n",
      "3 /home/d/Dropbox/RESEARCH/CAROTID/DATA/Afib/Afib 3 Segmentation/Afib 3 Segmentation/Segmentation.seg.nrrd\n",
      "30 /home/d/Dropbox/RESEARCH/CAROTID/DATA/Afib/Afib 30 Segmentation/Segmentation.seg.nrrd\n",
      "31 /home/d/Dropbox/RESEARCH/CAROTID/DATA/Afib/Afib 31 Segmentation/Segmentation.seg.nrrd\n",
      "32 /home/d/Dropbox/RESEARCH/CAROTID/DATA/Afib/Afib 32 Segmentation/Segmentation.seg.nrrd\n",
      "33 /home/d/Dropbox/RESEARCH/CAROTID/DATA/Afib/Afib 33 Segmentation/Segmentation.seg.nrrd\n",
      "34 /home/d/Dropbox/RESEARCH/CAROTID/DATA/Afib/Afib 34 Segmentation/Segmentation.seg.nrrd\n",
      "35 /home/d/Dropbox/RESEARCH/CAROTID/DATA/Afib/Afib 35 Segmentation/Segmentation.seg.nrrd\n",
      "36 /home/d/Dropbox/RESEARCH/CAROTID/DATA/Afib/Afib 36 Segmentation/Segmentation.seg.nrrd\n",
      "37 /home/d/Dropbox/RESEARCH/CAROTID/DATA/Afib/Afib 37 Segmentation/Segmentation.seg.nrrd\n",
      "38 /home/d/Dropbox/RESEARCH/CAROTID/DATA/Afib/Afib 38 Segmentation/Segmentation.seg.nrrd\n",
      "39 /home/d/Dropbox/RESEARCH/CAROTID/DATA/Afib/Afib 39 Segmentation/Segmentation.seg.nrrd\n",
      "4 /home/d/Dropbox/RESEARCH/CAROTID/DATA/Afib/Afib 4 Segmentation/Afib 4 Segmentation/Segmentation.seg.nrrd\n",
      "41 /home/d/Dropbox/RESEARCH/CAROTID/DATA/Afib/Afib 41 Segmentation/Segmentation.seg.nrrd\n",
      "43 /home/d/Dropbox/RESEARCH/CAROTID/DATA/Afib/Afib 43 Segmentation/Segmentation.seg.nrrd\n",
      "45 /home/d/Dropbox/RESEARCH/CAROTID/DATA/Afib/Afib 45 Segmentation/Segmentation.seg.nrrd\n",
      "47 /home/d/Dropbox/RESEARCH/CAROTID/DATA/Afib/Afib 47 Segmentation/Segmentation.seg.nrrd\n",
      "48 /home/d/Dropbox/RESEARCH/CAROTID/DATA/Afib/Afib 48 Segmentation/Segmentation.seg.nrrd\n",
      "49 /home/d/Dropbox/RESEARCH/CAROTID/DATA/Afib/Afib 49 Segmentation/Segmentation.seg.nrrd\n",
      "5 /home/d/Dropbox/RESEARCH/CAROTID/DATA/Afib/Afib 5 Segmentation/Afib 5 Segmentation/Segmentation.seg.nrrd\n",
      "50 /home/d/Dropbox/RESEARCH/CAROTID/DATA/Afib/Afib 50 Segmentation/Segmentation.seg.nrrd\n",
      "51 /home/d/Dropbox/RESEARCH/CAROTID/DATA/Afib/Afib 51 Segmentation/Segmentation.seg.nrrd\n",
      "52 /home/d/Dropbox/RESEARCH/CAROTID/DATA/Afib/Afib 52 Segmentation/Segmentation.seg.nrrd\n",
      "54 /home/d/Dropbox/RESEARCH/CAROTID/DATA/Afib/Afib 54 Segmentation/Segmentation.seg.nrrd\n",
      "55 /home/d/Dropbox/RESEARCH/CAROTID/DATA/Afib/Afib 55 Segmentation/Segmentation.seg.nrrd\n",
      "56 /home/d/Dropbox/RESEARCH/CAROTID/DATA/Afib/Afib 56 Segmentation/Segmentation.seg.nrrd\n",
      "57 /home/d/Dropbox/RESEARCH/CAROTID/DATA/Afib/Afib 57 Segmentation/Segmentation.seg.nrrd\n",
      "58 /home/d/Dropbox/RESEARCH/CAROTID/DATA/Afib/Afib 58 Segmentation/Segmentation.seg.nrrd\n",
      "6 /home/d/Dropbox/RESEARCH/CAROTID/DATA/Afib/Afib 6 Segmentation/Afib 6 Segmentation/Segmentation.seg.nrrd\n",
      "60 /home/d/Dropbox/RESEARCH/CAROTID/DATA/Afib/Afib 60 Segmentation/Segmentation.seg.nrrd\n",
      "61 /home/d/Dropbox/RESEARCH/CAROTID/DATA/Afib/Afib 61 Segmentation/Segmentation.seg.nrrd\n",
      "62 /home/d/Dropbox/RESEARCH/CAROTID/DATA/Afib/Afib 62 Segmentation/Segmentation.seg.nrrd\n",
      "63 /home/d/Dropbox/RESEARCH/CAROTID/DATA/Afib/Afib 63 Segmentation/Segmentation.seg.nrrd\n",
      "64 /home/d/Dropbox/RESEARCH/CAROTID/DATA/Afib/Afib 64 Segmentation/Segmentation.seg.nrrd\n",
      "65 /home/d/Dropbox/RESEARCH/CAROTID/DATA/Afib/Afib 65 Segmentation/Segmentation.seg.nrrd\n",
      "66 /home/d/Dropbox/RESEARCH/CAROTID/DATA/Afib/Afib 66 Segmentation/Segmentation.seg.nrrd\n",
      "67 /home/d/Dropbox/RESEARCH/CAROTID/DATA/Afib/Afib 67 Segmentation/Segmentation.seg.nrrd\n",
      "68 /home/d/Dropbox/RESEARCH/CAROTID/DATA/Afib/Afib 68 Segmentation/Segmentation.seg.nrrd\n",
      "69 /home/d/Dropbox/RESEARCH/CAROTID/DATA/Afib/Afib 69 Segmentation/Segmentation.seg.nrrd\n",
      "7 /home/d/Dropbox/RESEARCH/CAROTID/DATA/Afib/Afib 7 Segmentation/Afib 7 Segmentation/Segmentation.seg.nrrd\n",
      "71 /home/d/Dropbox/RESEARCH/CAROTID/DATA/Afib/Afib 71 Segmentation/Segmentation.seg.nrrd\n",
      "73 /home/d/Dropbox/RESEARCH/CAROTID/DATA/Afib/Afib 73 Segmentation/Segmentation.seg.nrrd\n",
      "75 /home/d/Dropbox/RESEARCH/CAROTID/DATA/Afib/Afib 75 Segmentation/Segmentation.seg.nrrd\n",
      "76 /home/d/Dropbox/RESEARCH/CAROTID/DATA/Afib/Afib 76 Segmentation/Segmentation.seg.nrrd\n",
      "77 /home/d/Dropbox/RESEARCH/CAROTID/DATA/Afib/Afib 77 Segmentation/Segmentation.seg.nrrd\n",
      "78 /home/d/Dropbox/RESEARCH/CAROTID/DATA/Afib/Afib 78 Segmentation/Segmentation.seg.nrrd\n",
      "79 /home/d/Dropbox/RESEARCH/CAROTID/DATA/Afib/Afib 79 Segmentation/Segmentation.seg.nrrd\n",
      "8 /home/d/Dropbox/RESEARCH/CAROTID/DATA/Afib/Afib 8 Segmentation/Afib 8 Segmentation/Segmentation.seg.nrrd\n",
      "80 /home/d/Dropbox/RESEARCH/CAROTID/DATA/Afib/Afib 80 Segmentation/Segmentation.seg.nrrd\n",
      "81 /home/d/Dropbox/RESEARCH/CAROTID/DATA/Afib/Afib 81 Segmentation/Segmentation.seg.nrrd\n",
      "82 /home/d/Dropbox/RESEARCH/CAROTID/DATA/Afib/Afib 82 Segmentation/Segmentation.seg.nrrd\n",
      "83 /home/d/Dropbox/RESEARCH/CAROTID/DATA/Afib/Afib 83 Segmentation/Segmentation.seg.nrrd\n",
      "84 /home/d/Dropbox/RESEARCH/CAROTID/DATA/Afib/Afib 84 Segmentation/Segmentation.seg.nrrd\n",
      "85 /home/d/Dropbox/RESEARCH/CAROTID/DATA/Afib/Afib 85 Segmentation/Segmentation.seg.nrrd\n",
      "86 /home/d/Dropbox/RESEARCH/CAROTID/DATA/Afib/Afib 86 Segmentation/Segmentation.seg.nrrd\n",
      "87 /home/d/Dropbox/RESEARCH/CAROTID/DATA/Afib/Afib 87 Segmentation/Segmentation.seg.nrrd\n",
      "88 /home/d/Dropbox/RESEARCH/CAROTID/DATA/Afib/Afib 88 Segmentation/Segmentation.seg.nrrd\n",
      "89 /home/d/Dropbox/RESEARCH/CAROTID/DATA/Afib/Afib 89 Segmentation/Segmentation.seg.nrrd\n",
      "9 /home/d/Dropbox/RESEARCH/CAROTID/DATA/Afib/Afib 9 Segmentation/Afib 9 Segmentation/Segmentation.seg.nrrd\n",
      "90 /home/d/Dropbox/RESEARCH/CAROTID/DATA/Afib/Afib 90 Segmentation/Segmentation.seg.nrrd\n",
      "91 /home/d/Dropbox/RESEARCH/CAROTID/DATA/Afib/Afib 91 Segmentation/Segmentation.seg.nrrd\n",
      "92 /home/d/Dropbox/RESEARCH/CAROTID/DATA/Afib/Afib 92 Segmentation/Segmentation.seg.nrrd\n",
      "93 /home/d/Dropbox/RESEARCH/CAROTID/DATA/Afib/Afib 93 Segmentation/Segmentation.seg.nrrd\n",
      "94 /home/d/Dropbox/RESEARCH/CAROTID/DATA/Afib/Afib 94 Segmentation/Segmentation.seg.nrrd\n",
      "95 /home/d/Dropbox/RESEARCH/CAROTID/DATA/Afib/Afib 95 Segmentation/Segmentation.seg.nrrd\n",
      "96 /home/d/Dropbox/RESEARCH/CAROTID/DATA/Afib/Afib 96 Segmentation/Segmentation.seg.nrrd\n",
      "97 /home/d/Dropbox/RESEARCH/CAROTID/DATA/Afib/Afib 97 Segmentation/Segmentation.seg.nrrd\n",
      "98 /home/d/Dropbox/RESEARCH/CAROTID/DATA/Afib/Afib 98 Segmentation/Segmentation.seg.nrrd\n"
     ]
    }
   ],
   "source": [
    "GTS = {}\n",
    "images = {}\n",
    "\n",
    "for d in sorted(os.listdir(DATADIR)):\n",
    "    \n",
    "    d_s = d.split(' ')\n",
    "    id_ = d_s[1]\n",
    "    \n",
    "    if d.find('no calcs') != -1:\n",
    "#         print('No calcs in', d)\n",
    "        continue\n",
    "        \n",
    "    if d.find('No calcs') != -1:\n",
    "#         print('No calcs in', d)\n",
    "        continue\n",
    "    \n",
    "    files = []\n",
    "    \n",
    "    subfolder = DATADIR+d+'/Afib '+id_+' Segmentation'\n",
    "    gtfolder = subfolder\n",
    "    if os.path.exists(subfolder):\n",
    "        files = os.listdir(subfolder)\n",
    "        \n",
    "    else:\n",
    "        \n",
    "        files = os.listdir(DATADIR+d)\n",
    "        \n",
    "        gtfolder = DATADIR+d\n",
    "        \n",
    "        nocalcs= False\n",
    "        for f in files:\n",
    "            if f.find('no calcs') != -1:\n",
    "#                 print('No calcs in', d)\n",
    "                nocalcs=True\n",
    "                continue\n",
    "        if nocalcs:\n",
    "            continue\n",
    "        \n",
    "    if len(files) == 0:\n",
    "        continue\n",
    "    \n",
    "    \n",
    "    labelfile = [f for f in files if 'seg' in f]\n",
    "    imagefile = [f for f in files if 'Unnamed' in f]\n",
    "    \n",
    "    GTS[id_] = gtfolder+'/'+labelfile[0]\n",
    "    images[id_] = gtfolder+'/'+imagefile[0]\n",
    "    \n",
    "    print(id_, GTS[id_])"
   ]
  },
  {
   "cell_type": "code",
   "execution_count": 50,
   "id": "08c2858e",
   "metadata": {},
   "outputs": [
    {
     "data": {
      "text/plain": [
       "86"
      ]
     },
     "execution_count": 50,
     "metadata": {},
     "output_type": "execute_result"
    }
   ],
   "source": [
    "len(images.keys())"
   ]
  },
  {
   "cell_type": "code",
   "execution_count": 47,
   "id": "305649ca",
   "metadata": {},
   "outputs": [],
   "source": [
    "import shutil \n",
    "\n",
    "for g in GTS.keys():\n",
    "    shutil.copy(GTS[g], OUTDIR+g+'.nrrd')"
   ]
  },
  {
   "cell_type": "code",
   "execution_count": 53,
   "id": "e9728487",
   "metadata": {},
   "outputs": [],
   "source": [
    "import shutil \n",
    "\n",
    "for g in images.keys():\n",
    "    shutil.copy(images[g], IMGOUTDIR+g+'.nrrd')"
   ]
  },
  {
   "cell_type": "code",
   "execution_count": null,
   "id": "4f4a1e59",
   "metadata": {},
   "outputs": [],
   "source": []
  }
 ],
 "metadata": {
  "kernelspec": {
   "display_name": "Python 3 (ipykernel)",
   "language": "python",
   "name": "python3"
  },
  "language_info": {
   "codemirror_mode": {
    "name": "ipython",
    "version": 3
   },
   "file_extension": ".py",
   "mimetype": "text/x-python",
   "name": "python",
   "nbconvert_exporter": "python",
   "pygments_lexer": "ipython3",
   "version": "3.10.8"
  }
 },
 "nbformat": 4,
 "nbformat_minor": 5
}
