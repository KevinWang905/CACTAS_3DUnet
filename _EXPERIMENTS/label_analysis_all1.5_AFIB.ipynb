{
 "cells": [
  {
   "cell_type": "code",
   "execution_count": 2,
   "id": "d100bbfd",
   "metadata": {},
   "outputs": [
    {
     "name": "stdout",
     "output_type": "stream",
     "text": [
      "%pylab is deprecated, use %matplotlib inline and import the required libraries.\n",
      "Populating the interactive namespace from numpy and matplotlib\n"
     ]
    }
   ],
   "source": [
    "%pylab inline\n",
    "%load_ext autoreload\n",
    "%autoreload 2"
   ]
  },
  {
   "cell_type": "code",
   "execution_count": 7,
   "id": "ec1e6184",
   "metadata": {},
   "outputs": [],
   "source": [
    "import os\n",
    "import mahotas as mh\n",
    "import nrrd"
   ]
  },
  {
   "cell_type": "code",
   "execution_count": 4,
   "id": "fc60008c",
   "metadata": {},
   "outputs": [
    {
     "name": "stderr",
     "output_type": "stream",
     "text": [
      "2023-02-04 17:52:31.371939: I tensorflow/core/platform/cpu_feature_guard.cc:193] This TensorFlow binary is optimized with oneAPI Deep Neural Network Library (oneDNN) to use the following CPU instructions in performance-critical operations:  AVX2 FMA\n",
      "To enable them in other operations, rebuild TensorFlow with the appropriate compiler flags.\n",
      "2023-02-04 17:52:31.444946: W tensorflow/compiler/xla/stream_executor/platform/default/dso_loader.cc:64] Could not load dynamic library 'libcudart.so.11.0'; dlerror: libcudart.so.11.0: cannot open shared object file: No such file or directory\n",
      "2023-02-04 17:52:31.444957: I tensorflow/compiler/xla/stream_executor/cuda/cudart_stub.cc:29] Ignore above cudart dlerror if you do not have a GPU set up on your machine.\n",
      "2023-02-04 17:52:31.871398: W tensorflow/compiler/xla/stream_executor/platform/default/dso_loader.cc:64] Could not load dynamic library 'libnvinfer.so.7'; dlerror: libnvinfer.so.7: cannot open shared object file: No such file or directory\n",
      "2023-02-04 17:52:31.871438: W tensorflow/compiler/xla/stream_executor/platform/default/dso_loader.cc:64] Could not load dynamic library 'libnvinfer_plugin.so.7'; dlerror: libnvinfer_plugin.so.7: cannot open shared object file: No such file or directory\n",
      "2023-02-04 17:52:31.871443: W tensorflow/compiler/tf2tensorrt/utils/py_utils.cc:38] TF-TRT Warning: Cannot dlopen some TensorRT libraries. If you would like to use Nvidia GPU with TensorRT, please make sure the missing libraries mentioned above are installed properly.\n"
     ]
    },
    {
     "name": "stdout",
     "output_type": "stream",
     "text": [
      "-----------------------------------------\n",
      "keras-unet init: TF version is >= 2.0.0 - using `tf.keras` instead of `Keras`\n",
      "-----------------------------------------\n"
     ]
    }
   ],
   "source": [
    "import cactas as C"
   ]
  },
  {
   "cell_type": "code",
   "execution_count": 5,
   "id": "3a2bf9cc",
   "metadata": {},
   "outputs": [],
   "source": [
    "IMAGESPATH = '/home/d/Dropbox/RESEARCH/CAROTID/DATA/Afib_Images/'\n",
    "SEGPATH = '/home/d/Dropbox/RESEARCH/CAROTID/DATA/Afib_Nathan/'\n",
    "# DATAPATH = '/raid/mpsych/CACTAS/DATA/Nathan Arnett Calcification/'"
   ]
  },
  {
   "cell_type": "code",
   "execution_count": 6,
   "id": "306f502d",
   "metadata": {},
   "outputs": [],
   "source": [
    "selected = []\n",
    "plaque_count = 0\n",
    "voxel_count_plaque = 0\n",
    "voxel_count = 0"
   ]
  },
  {
   "cell_type": "code",
   "execution_count": 14,
   "id": "e338ff06",
   "metadata": {},
   "outputs": [
    {
     "name": "stdout",
     "output_type": "stream",
     "text": [
      "14.nrrd IGNORE\n",
      "15.nrrd IGNORE\n",
      "22.nrrd IGNORE\n",
      "23.nrrd IGNORE\n",
      "38.nrrd IGNORE\n",
      "4.nrrd IGNORE\n",
      "7.nrrd IGNORE\n",
      "88.nrrd IGNORE\n"
     ]
    }
   ],
   "source": [
    "DATASETS = sorted([v for v in os.listdir(IMAGESPATH)])\n",
    "\n",
    "images = []\n",
    "labels = []\n",
    "\n",
    "image_patches = []\n",
    "label_patches = []\n",
    "\n",
    "casecount = 0\n",
    "\n",
    "for i,d in enumerate(DATASETS):\n",
    "    \n",
    "#     print(d)\n",
    "    number = d.split('.')[0]\n",
    "    \n",
    "\n",
    "    \n",
    "#     if not number in selected:\n",
    "#         continue\n",
    "\n",
    "#     image_with_header, label_with_header = C.Util.load(i, datapath=DATAPATH, with_header=True)\n",
    "\n",
    "    image_with_header = nrrd.read(IMAGESPATH+'/'+d)\n",
    "    label_with_header = nrrd.read(SEGPATH+'/'+d)\n",
    "\n",
    "\n",
    "    image = image_with_header[0]\n",
    "    label = label_with_header[0]\n",
    "    \n",
    "    \n",
    "    spacing = [image_with_header[1]['space directions'][0,0],\n",
    "               image_with_header[1]['space directions'][1,1],\n",
    "               image_with_header[1]['space directions'][2,2]]\n",
    "\n",
    "    \n",
    "    \n",
    "    if spacing[2] < 1.3 or spacing[2] > 1.7:\n",
    "        #blacklist\n",
    "        print(d, 'IGNORE')\n",
    "        continue\n",
    "\n",
    "    \n",
    "    \n",
    "\n",
    "    relabel, obj = mh.label(label)\n",
    "    \n",
    "    plaque_count += relabel.max()\n",
    "    voxel_count_plaque += np.count_nonzero(relabel)\n",
    "    voxel_count += image.shape[0] * image.shape[1] * image.shape[2]\n",
    "    \n",
    "    casecount += 1\n",
    "    \n",
    "#     # normalize grayscale to 0..1\n",
    "#     image_normalized = C.Util.normalize(image)\n",
    "    \n",
    "#     # remove empty slices\n",
    "#     image_filtered, label_filtered = C.Util.filter(image_normalized, label)\n",
    "\n",
    "#     # loop thru each slice\n",
    "#     for z in range(image_filtered.shape[2]):\n",
    "\n",
    "#         image_slice = image_filtered[:,:,z:z+1]\n",
    "#         label_slice = label_filtered[:,:,z:z+1]\n",
    "\n",
    "#         # relabel the segments\n",
    "#         relabel, obj = mh.label(label_slice)\n",
    "        \n",
    "# #         print('relabeled')\n",
    "\n",
    "#         # loop thru each segment, binarize and crop\n",
    "#         for i in range(1, relabel.max()+1):\n",
    "\n",
    "#             single_label = np.zeros((relabel.shape), relabel.dtype)\n",
    "#             single_label[relabel == i] = 1\n",
    "\n",
    "#             image_cropped, single_label_cropped = C.Util.crop(image_slice, single_label, target_size=32)\n",
    "\n",
    "#             image_patches.append(image_cropped)\n",
    "#             label_patches.append(single_label_cropped)\n",
    "\n",
    "\n",
    "    \n",
    "\n",
    "    "
   ]
  },
  {
   "cell_type": "code",
   "execution_count": 19,
   "id": "21adf203",
   "metadata": {},
   "outputs": [
    {
     "data": {
      "text/plain": [
       "78"
      ]
     },
     "execution_count": 19,
     "metadata": {},
     "output_type": "execute_result"
    }
   ],
   "source": [
    "casecount"
   ]
  },
  {
   "cell_type": "code",
   "execution_count": 16,
   "id": "93fc66aa",
   "metadata": {},
   "outputs": [
    {
     "data": {
      "text/plain": [
       "431"
      ]
     },
     "execution_count": 16,
     "metadata": {},
     "output_type": "execute_result"
    }
   ],
   "source": [
    "plaque_count"
   ]
  },
  {
   "cell_type": "code",
   "execution_count": 17,
   "id": "143a9872",
   "metadata": {},
   "outputs": [
    {
     "data": {
      "text/plain": [
       "4880072704"
      ]
     },
     "execution_count": 17,
     "metadata": {},
     "output_type": "execute_result"
    }
   ],
   "source": [
    "voxel_count"
   ]
  },
  {
   "cell_type": "code",
   "execution_count": 18,
   "id": "c0feb965",
   "metadata": {},
   "outputs": [
    {
     "data": {
      "text/plain": [
       "64513"
      ]
     },
     "execution_count": 18,
     "metadata": {},
     "output_type": "execute_result"
    }
   ],
   "source": [
    "voxel_count_plaque"
   ]
  },
  {
   "cell_type": "code",
   "execution_count": 31,
   "id": "d07f0706",
   "metadata": {},
   "outputs": [
    {
     "name": "stdout",
     "output_type": "stream",
     "text": [
      "0.000015\n"
     ]
    }
   ],
   "source": [
    "print(\"{:f}\".format(voxel_count_plaque / voxel_count))"
   ]
  },
  {
   "cell_type": "code",
   "execution_count": 1,
   "id": "e622df53",
   "metadata": {},
   "outputs": [
    {
     "data": {
      "text/plain": [
       "163.50259067357513"
      ]
     },
     "execution_count": 1,
     "metadata": {},
     "output_type": "execute_result"
    }
   ],
   "source": [
    "31556/193"
   ]
  },
  {
   "cell_type": "code",
   "execution_count": null,
   "id": "8d4e4f68",
   "metadata": {},
   "outputs": [],
   "source": []
  }
 ],
 "metadata": {
  "kernelspec": {
   "display_name": "Python 3 (ipykernel)",
   "language": "python",
   "name": "python3"
  },
  "language_info": {
   "codemirror_mode": {
    "name": "ipython",
    "version": 3
   },
   "file_extension": ".py",
   "mimetype": "text/x-python",
   "name": "python",
   "nbconvert_exporter": "python",
   "pygments_lexer": "ipython3",
   "version": "3.10.8"
  }
 },
 "nbformat": 4,
 "nbformat_minor": 5
}
