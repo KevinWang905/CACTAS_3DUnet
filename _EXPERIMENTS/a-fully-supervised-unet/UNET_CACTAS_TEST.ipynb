{
 "cells": [
  {
   "cell_type": "code",
   "execution_count": 1,
   "metadata": {},
   "outputs": [
    {
     "name": "stderr",
     "output_type": "stream",
     "text": [
      "2023-01-05 15:48:11.322252: I tensorflow/stream_executor/platform/default/dso_loader.cc:53] Successfully opened dynamic library libcudart.so.11.0\n"
     ]
    }
   ],
   "source": [
    "from imports import *"
   ]
  },
  {
   "cell_type": "code",
   "execution_count": 2,
   "metadata": {},
   "outputs": [],
   "source": [
    "%matplotlib inline\n",
    "%load_ext autoreload\n",
    "%autoreload 2"
   ]
  },
  {
   "cell_type": "code",
   "execution_count": 3,
   "metadata": {},
   "outputs": [],
   "source": [
    "import data_management\n",
    "from data_management import load_stack\n",
    "from data_management import load_data\n",
    "\n",
    "import interactive_plot\n",
    "\n",
    "import metrics\n",
    "from metrics import statistics\n",
    "from metrics import confusion_matrix\n",
    "from metrics import error_distribution\n",
    "from metrics import error_borders\n",
    "from metrics import PR_curve\n",
    "\n",
    "import generator_extended\n",
    "\n",
    "import unet\n",
    "from unet import load_model_unet\n",
    "from unet import predict_net\n",
    "from unet import get_unet\n",
    "from unet import train\n",
    "from unet import execute_predict"
   ]
  },
  {
   "cell_type": "code",
   "execution_count": 4,
   "metadata": {},
   "outputs": [],
   "source": [
    "\n",
    "DATAPATH = '/raid/mpsych/CACTAS/DATA/Nathan Arnett Calcification/'\n",
    "images_file = os.path.join(DATAPATH, 'images.npy')\n",
    "labels_file = os.path.join(DATAPATH, 'labels.npy')"
   ]
  },
  {
   "cell_type": "code",
   "execution_count": 5,
   "metadata": {},
   "outputs": [],
   "source": [
    "images = np.load(images_file)\n",
    "labels = np.load(labels_file)"
   ]
  },
  {
   "cell_type": "code",
   "execution_count": null,
   "metadata": {},
   "outputs": [],
   "source": []
  },
  {
   "cell_type": "code",
   "execution_count": null,
   "metadata": {},
   "outputs": [],
   "source": []
  },
  {
   "cell_type": "code",
   "execution_count": 6,
   "metadata": {
    "scrolled": false
   },
   "outputs": [
    {
     "name": "stdout",
     "output_type": "stream",
     "text": [
      "start_filters 16\n"
     ]
    },
    {
     "name": "stderr",
     "output_type": "stream",
     "text": [
      "2023-01-05 15:48:30.618120: I tensorflow/stream_executor/platform/default/dso_loader.cc:53] Successfully opened dynamic library libcuda.so.1\n",
      "2023-01-05 15:48:30.865400: I tensorflow/core/common_runtime/gpu/gpu_device.cc:1733] Found device 0 with properties: \n",
      "pciBusID: 0000:47:00.0 name: A100-SXM4-40GB computeCapability: 8.0\n",
      "coreClock: 1.41GHz coreCount: 108 deviceMemorySize: 39.59GiB deviceMemoryBandwidth: 1.41TiB/s\n",
      "2023-01-05 15:48:30.865445: I tensorflow/stream_executor/platform/default/dso_loader.cc:53] Successfully opened dynamic library libcudart.so.11.0\n",
      "2023-01-05 15:48:30.875310: I tensorflow/stream_executor/platform/default/dso_loader.cc:53] Successfully opened dynamic library libcublas.so.11\n",
      "2023-01-05 15:48:30.875347: I tensorflow/stream_executor/platform/default/dso_loader.cc:53] Successfully opened dynamic library libcublasLt.so.11\n",
      "2023-01-05 15:48:30.877712: I tensorflow/stream_executor/platform/default/dso_loader.cc:53] Successfully opened dynamic library libcufft.so.10\n",
      "2023-01-05 15:48:30.878337: I tensorflow/stream_executor/platform/default/dso_loader.cc:53] Successfully opened dynamic library libcurand.so.10\n",
      "2023-01-05 15:48:30.880396: I tensorflow/stream_executor/platform/default/dso_loader.cc:53] Successfully opened dynamic library libcusolver.so.11\n",
      "2023-01-05 15:48:30.883492: I tensorflow/stream_executor/platform/default/dso_loader.cc:53] Successfully opened dynamic library libcusparse.so.11\n",
      "2023-01-05 15:48:30.884906: I tensorflow/stream_executor/platform/default/dso_loader.cc:53] Successfully opened dynamic library libcudnn.so.8\n",
      "2023-01-05 15:48:30.893464: I tensorflow/core/common_runtime/gpu/gpu_device.cc:1871] Adding visible gpu devices: 0\n"
     ]
    },
    {
     "name": "stdout",
     "output_type": "stream",
     "text": [
      "conv1 shape: (None, 512, 512, 16)\n",
      "conv1 shape: (None, 512, 512, 16)\n",
      "pool1 shape: (None, 256, 256, 16)\n",
      "conv2 shape: (None, 256, 256, 32)\n",
      "conv2 shape: (None, 256, 256, 32)\n",
      "pool2 shape: (None, 128, 128, 32)\n",
      "conv3 shape: (None, 128, 128, 64)\n",
      "conv3 shape: (None, 128, 128, 64)\n",
      "pool3 shape: (None, 64, 64, 64)\n"
     ]
    },
    {
     "name": "stderr",
     "output_type": "stream",
     "text": [
      "2023-01-05 15:48:30.895433: I tensorflow/core/platform/cpu_feature_guard.cc:142] This TensorFlow binary is optimized with oneAPI Deep Neural Network Library (oneDNN) to use the following CPU instructions in performance-critical operations:  AVX2 FMA\n",
      "To enable them in other operations, rebuild TensorFlow with the appropriate compiler flags.\n",
      "2023-01-05 15:48:30.899890: I tensorflow/core/common_runtime/gpu/gpu_device.cc:1733] Found device 0 with properties: \n",
      "pciBusID: 0000:47:00.0 name: A100-SXM4-40GB computeCapability: 8.0\n",
      "coreClock: 1.41GHz coreCount: 108 deviceMemorySize: 39.59GiB deviceMemoryBandwidth: 1.41TiB/s\n",
      "2023-01-05 15:48:30.908311: I tensorflow/core/common_runtime/gpu/gpu_device.cc:1871] Adding visible gpu devices: 0\n",
      "2023-01-05 15:48:30.908342: I tensorflow/stream_executor/platform/default/dso_loader.cc:53] Successfully opened dynamic library libcudart.so.11.0\n",
      "2023-01-05 15:48:31.481618: I tensorflow/core/common_runtime/gpu/gpu_device.cc:1258] Device interconnect StreamExecutor with strength 1 edge matrix:\n",
      "2023-01-05 15:48:31.481668: I tensorflow/core/common_runtime/gpu/gpu_device.cc:1264]      0 \n",
      "2023-01-05 15:48:31.481674: I tensorflow/core/common_runtime/gpu/gpu_device.cc:1277] 0:   N \n",
      "2023-01-05 15:48:31.489858: I tensorflow/core/common_runtime/gpu/gpu_device.cc:1418] Created TensorFlow device (/job:localhost/replica:0/task:0/device:GPU:0 with 38425 MB memory) -> physical GPU (device: 0, name: A100-SXM4-40GB, pci bus id: 0000:47:00.0, compute capability: 8.0)\n"
     ]
    }
   ],
   "source": [
    "model = get_unet(0.0005, 512, 512, dr_rate=0.2, diceloss=False, jaccardloss=False, \n",
    "                 focalloss=False, customloss=False, start_filters=16)"
   ]
  },
  {
   "cell_type": "code",
   "execution_count": 7,
   "metadata": {},
   "outputs": [
    {
     "name": "stdout",
     "output_type": "stream",
     "text": [
      "WARNING:tensorflow:From /tmp/ipykernel_948262/3988105722.py:1: is_gpu_available (from tensorflow.python.framework.test_util) is deprecated and will be removed in a future version.\n",
      "Instructions for updating:\n",
      "Use `tf.config.list_physical_devices('GPU')` instead.\n"
     ]
    },
    {
     "name": "stderr",
     "output_type": "stream",
     "text": [
      "2023-01-05 15:48:34.882325: I tensorflow/core/common_runtime/gpu/gpu_device.cc:1733] Found device 0 with properties: \n",
      "pciBusID: 0000:47:00.0 name: A100-SXM4-40GB computeCapability: 8.0\n",
      "coreClock: 1.41GHz coreCount: 108 deviceMemorySize: 39.59GiB deviceMemoryBandwidth: 1.41TiB/s\n",
      "2023-01-05 15:48:34.885182: I tensorflow/core/common_runtime/gpu/gpu_device.cc:1871] Adding visible gpu devices: 0\n",
      "2023-01-05 15:48:34.885215: I tensorflow/core/common_runtime/gpu/gpu_device.cc:1258] Device interconnect StreamExecutor with strength 1 edge matrix:\n",
      "2023-01-05 15:48:34.885220: I tensorflow/core/common_runtime/gpu/gpu_device.cc:1264]      0 \n",
      "2023-01-05 15:48:34.885224: I tensorflow/core/common_runtime/gpu/gpu_device.cc:1277] 0:   N \n",
      "2023-01-05 15:48:34.888093: I tensorflow/core/common_runtime/gpu/gpu_device.cc:1418] Created TensorFlow device (/device:GPU:0 with 38425 MB memory) -> physical GPU (device: 0, name: A100-SXM4-40GB, pci bus id: 0000:47:00.0, compute capability: 8.0)\n"
     ]
    }
   ],
   "source": [
    "gpu_available = tf.test.is_gpu_available()\n"
   ]
  },
  {
   "cell_type": "code",
   "execution_count": 8,
   "metadata": {},
   "outputs": [
    {
     "data": {
      "text/plain": [
       "True"
      ]
     },
     "execution_count": 8,
     "metadata": {},
     "output_type": "execute_result"
    }
   ],
   "source": [
    "gpu_available"
   ]
  },
  {
   "cell_type": "code",
   "execution_count": null,
   "metadata": {},
   "outputs": [],
   "source": []
  },
  {
   "cell_type": "code",
   "execution_count": null,
   "metadata": {},
   "outputs": [],
   "source": []
  },
  {
   "cell_type": "code",
   "execution_count": 9,
   "metadata": {},
   "outputs": [],
   "source": [
    "images = images.reshape(images.shape[0],512,512,1)\n",
    "labels = labels.reshape(labels.shape[0],512,512,1)"
   ]
  },
  {
   "cell_type": "code",
   "execution_count": 10,
   "metadata": {},
   "outputs": [],
   "source": [
    "p = np.random.permutation(len(images))"
   ]
  },
  {
   "cell_type": "code",
   "execution_count": 11,
   "metadata": {},
   "outputs": [],
   "source": [
    "images = images[p]\n",
    "labels = labels[p]"
   ]
  },
  {
   "cell_type": "code",
   "execution_count": 12,
   "metadata": {},
   "outputs": [],
   "source": [
    "labels = labels.astype(np.float)"
   ]
  },
  {
   "cell_type": "code",
   "execution_count": 13,
   "metadata": {},
   "outputs": [],
   "source": [
    "images = images.astype(np.float)\n",
    "images /= images.max()"
   ]
  },
  {
   "cell_type": "code",
   "execution_count": null,
   "metadata": {},
   "outputs": [],
   "source": []
  },
  {
   "cell_type": "code",
   "execution_count": 14,
   "metadata": {},
   "outputs": [],
   "source": [
    "imgs_train = images[0:450]\n",
    "imgs_mask_train = labels[0:450]\n",
    "imgs_test = images[450:]\n",
    "imgs_mask_test = labels[450:]"
   ]
  },
  {
   "cell_type": "code",
   "execution_count": null,
   "metadata": {},
   "outputs": [],
   "source": []
  },
  {
   "cell_type": "code",
   "execution_count": null,
   "metadata": {},
   "outputs": [],
   "source": []
  },
  {
   "cell_type": "code",
   "execution_count": null,
   "metadata": {
    "scrolled": false
   },
   "outputs": [
    {
     "data": {
      "image/png": "[encoded data removed]",
      "text/plain": [
       "<Figure size 1008x720 with 6 Axes>"
      ]
     },
     "metadata": {
      "needs_background": "light"
     },
     "output_type": "display_data"
    },
    {
     "name": "stdout",
     "output_type": "stream",
     "text": [
      "iteration 21\n",
      "loss 0.0010498373303562403 loss_val 0.0009888397762551904\n",
      "acc None acc_val None\n",
      "prec 0.0 prec_val 0.0\n",
      "rec 0.0 rec_val 0.0\n",
      "jaccard 0.014291035942733288 jaccard_val 0.014182540588080883\n",
      "dice 0.14210118353366852 dice_val 0.12755200266838074\n",
      "time per epoch: 72.36385496457417\n",
      "Epoch 22/1000\n",
      "  5/100 [>.............................] - ETA: 57s - loss: 0.0010 - accuracy: 0.9998 - keras_precision: 0.0000e+00 - keras_recall: 0.0000e+00 - keras_jaccard_coef: 0.0142 - keras_dice_coef: 0.1437\n",
      "Epoch 00022: saving model to /tmp/models/A100test/weights.22-0.00.hdf5\n",
      " 10/100 [==>...........................] - ETA: 57s - loss: 0.0010 - accuracy: 0.9998 - keras_precision: 0.0000e+00 - keras_recall: 0.0000e+00 - keras_jaccard_coef: 0.0143 - keras_dice_coef: 0.1436batch 10 of 100 ...\n",
      "\n",
      "Epoch 00022: saving model to /tmp/models/A100test/weights.22-0.00.hdf5\n",
      " 15/100 [===>..........................] - ETA: 53s - loss: 0.0010 - accuracy: 0.9998 - keras_precision: 0.0000e+00 - keras_recall: 0.0000e+00 - keras_jaccard_coef: 0.0144 - keras_dice_coef: 0.1430\n",
      "Epoch 00022: saving model to /tmp/models/A100test/weights.22-0.00.hdf5\n",
      " 20/100 [=====>........................] - ETA: 50s - loss: 0.0010 - accuracy: 0.9998 - keras_precision: 0.0000e+00 - keras_recall: 0.0000e+00 - keras_jaccard_coef: 0.0145 - keras_dice_coef: 0.1426batch 20 of 100 ...\n",
      "\n",
      "Epoch 00022: saving model to /tmp/models/A100test/weights.22-0.00.hdf5\n",
      " 25/100 [======>.......................] - ETA: 46s - loss: 0.0010 - accuracy: 0.9998 - keras_precision: 0.0000e+00 - keras_recall: 0.0000e+00 - keras_jaccard_coef: 0.0145 - keras_dice_coef: 0.1424\n",
      "Epoch 00022: saving model to /tmp/models/A100test/weights.22-0.00.hdf5\n",
      " 30/100 [========>.....................] - ETA: 43s - loss: 0.0010 - accuracy: 0.9998 - keras_precision: 0.0000e+00 - keras_recall: 0.0000e+00 - keras_jaccard_coef: 0.0146 - keras_dice_coef: 0.1421batch 30 of 100 ...\n",
      "\n",
      "Epoch 00022: saving model to /tmp/models/A100test/weights.22-0.00.hdf5\n",
      " 35/100 [=========>....................] - ETA: 40s - loss: 0.0010 - accuracy: 0.9998 - keras_precision: 0.0000e+00 - keras_recall: 0.0000e+00 - keras_jaccard_coef: 0.0147 - keras_dice_coef: 0.1419\n",
      "Epoch 00022: saving model to /tmp/models/A100test/weights.22-0.00.hdf5\n",
      " 40/100 [===========>..................] - ETA: 37s - loss: 0.0010 - accuracy: 0.9998 - keras_precision: 0.0000e+00 - keras_recall: 0.0000e+00 - keras_jaccard_coef: 0.0147 - keras_dice_coef: 0.1418batch 40 of 100 ...\n",
      "\n",
      "Epoch 00022: saving model to /tmp/models/A100test/weights.22-0.00.hdf5\n",
      " 45/100 [============>.................] - ETA: 34s - loss: 0.0010 - accuracy: 0.9998 - keras_precision: 0.0000e+00 - keras_recall: 0.0000e+00 - keras_jaccard_coef: 0.0147 - keras_dice_coef: 0.1417\n",
      "Epoch 00022: saving model to /tmp/models/A100test/weights.22-0.00.hdf5\n",
      " 50/100 [==============>...............] - ETA: 31s - loss: 0.0010 - accuracy: 0.9998 - keras_precision: 0.0000e+00 - keras_recall: 0.0000e+00 - keras_jaccard_coef: 0.0148 - keras_dice_coef: 0.1416batch 50 of 100 ...\n",
      "\n",
      "Epoch 00022: saving model to /tmp/models/A100test/weights.22-0.00.hdf5\n",
      " 55/100 [===============>..............] - ETA: 27s - loss: 0.0010 - accuracy: 0.9998 - keras_precision: 0.0000e+00 - keras_recall: 0.0000e+00 - keras_jaccard_coef: 0.0148 - keras_dice_coef: 0.1415\n",
      "Epoch 00022: saving model to /tmp/models/A100test/weights.22-0.00.hdf5\n",
      " 57/100 [================>.............] - ETA: 26s - loss: 0.0010 - accuracy: 0.9998 - keras_precision: 0.0000e+00 - keras_recall: 0.0000e+00 - keras_jaccard_coef: 0.0148 - keras_dice_coef: 0.1415"
     ]
    }
   ],
   "source": [
    "train(model, imgs_train, imgs_mask_train, imgs_test, imgs_mask_test,\n",
    "      '/tmp/models/A100test', 50, 1000, verbosity=1, \n",
    "      perform_flipping=True, perform_rotation=True, to_dir=False, train_on_borders=False)\n"
   ]
  },
  {
   "cell_type": "code",
   "execution_count": null,
   "metadata": {},
   "outputs": [],
   "source": []
  },
  {
   "cell_type": "code",
   "execution_count": null,
   "metadata": {},
   "outputs": [],
   "source": []
  },
  {
   "cell_type": "code",
   "execution_count": null,
   "metadata": {},
   "outputs": [],
   "source": []
  },
  {
   "cell_type": "code",
   "execution_count": null,
   "metadata": {},
   "outputs": [],
   "source": []
  },
  {
   "cell_type": "markdown",
   "metadata": {},
   "source": [
    "### Evaluate"
   ]
  },
  {
   "cell_type": "code",
   "execution_count": 12,
   "metadata": {},
   "outputs": [],
   "source": [
    "pred = execute_predict(model, imgs_test, stepsize=512, resize_shortest=True, extensive=False)"
   ]
  },
  {
   "cell_type": "code",
   "execution_count": null,
   "metadata": {
    "collapsed": true
   },
   "outputs": [],
   "source": [
    "np.save('predictions.npy', pred)"
   ]
  },
  {
   "cell_type": "code",
   "execution_count": 13,
   "metadata": {},
   "outputs": [],
   "source": [
    "cmatrix = confusion_matrix(pred, imgs_mask_test)"
   ]
  },
  {
   "cell_type": "code",
   "execution_count": 14,
   "metadata": {},
   "outputs": [
    {
     "data": {
      "text/plain": [
       "{'jaccard_foreground': 0.0,\n",
       " 'jaccard_background': 0.9996920171773659,\n",
       " 'voc_score': 0.49984600858868294,\n",
       " 'accuracy': 0.9996920171773659,\n",
       " 'precision': nan,\n",
       " 'recall': 0.0}"
      ]
     },
     "execution_count": 14,
     "metadata": {},
     "output_type": "execute_result"
    }
   ],
   "source": [
    "statistics(cmatrix)"
   ]
  },
  {
   "cell_type": "code",
   "execution_count": null,
   "metadata": {
    "collapsed": true,
    "scrolled": false
   },
   "outputs": [],
   "source": [
    "error_distribution(model, imgs_test, imgs_mask_test, extensive=True, figsize=(15,10))"
   ]
  },
  {
   "cell_type": "code",
   "execution_count": null,
   "metadata": {},
   "outputs": [],
   "source": [
    "PR_curve(pred, imgs_mask_test)"
   ]
  },
  {
   "cell_type": "markdown",
   "metadata": {},
   "source": [
    "### Results On Single Image"
   ]
  },
  {
   "cell_type": "code",
   "execution_count": null,
   "metadata": {
    "collapsed": true,
    "scrolled": false
   },
   "outputs": [],
   "source": [
    "use_train = False\n",
    "imgnr = 60\n",
    "input_img = cv2.imread('/n/regal/pfister_lab/vincent/vcasser/connectomics/movements/epfl-' + ('train' if use_train else 'test') + '-crop/' + str(imgnr) + '.png',0) \n",
    "gt = misc.imread('/n/regal/pfister_lab/vincent/vcasser/connectomics/movements/epfl-' + ('train' if use_train else 'test') + '-crop-mask/' + str(imgnr) + '.png')\n",
    "print(gt.shape)\n",
    "\n",
    "plt.figure(figsize = (15,15))\n",
    "plt.imshow(input_img, cmap='gray')\n",
    "\n",
    "print(input_img.shape)\n",
    "res = execute_predict(model, input_img.reshape(1,512,512,1).astype(float)/255.)\n",
    "print(res.min(), res.max())\n",
    "\n",
    "res[res>0.5]=1\n",
    "res[res<=0.5]=0\n",
    "\n",
    "plt.figure(figsize = (15,15))\n",
    "plt.imshow(res[0,:,:,0], cmap='gray')\n",
    "\n",
    "plt.figure(figsize = (15,15))\n",
    "plt.imshow(gt[:,:,0], cmap='gray')\n",
    "\n",
    "cv2.imwrite('example_img_gt.png', gt)\n",
    "cv2.imwrite('example_img_raw.png', input_img)\n",
    "cv2.imwrite('example_img.png', res[0,:,:,0]*255.)"
   ]
  },
  {
   "cell_type": "code",
   "execution_count": null,
   "metadata": {
    "collapsed": true
   },
   "outputs": [],
   "source": []
  }
 ],
 "metadata": {
  "kernelspec": {
   "display_name": "Python 3 (ipykernel)",
   "language": "python",
   "name": "python3"
  },
  "language_info": {
   "codemirror_mode": {
    "name": "ipython",
    "version": 3
   },
   "file_extension": ".py",
   "mimetype": "text/x-python",
   "name": "python",
   "nbconvert_exporter": "python",
   "pygments_lexer": "ipython3",
   "version": "3.9.7"
  }
 },
 "nbformat": 4,
 "nbformat_minor": 2
}
