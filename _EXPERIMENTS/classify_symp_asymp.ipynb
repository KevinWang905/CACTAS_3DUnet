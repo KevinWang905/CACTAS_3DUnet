{
 "cells": [
  {
   "cell_type": "code",
   "execution_count": 1,
   "metadata": {},
   "outputs": [
    {
     "name": "stdout",
     "output_type": "stream",
     "text": [
      "Populating the interactive namespace from numpy and matplotlib\n"
     ]
    }
   ],
   "source": [
    "%pylab inline"
   ]
  },
  {
   "cell_type": "code",
   "execution_count": 12,
   "metadata": {},
   "outputs": [],
   "source": [
    "import tensorflow\n",
    "import keras\n",
    "from tensorflow.keras.applications import VGG19\n",
    "from keras.preprocessing.image import ImageDataGenerator\n",
    "import keras.layers as layers\n",
    "from sklearn.utils import shuffle\n",
    "from sklearn.model_selection import train_test_split"
   ]
  },
  {
   "cell_type": "code",
   "execution_count": 3,
   "metadata": {},
   "outputs": [],
   "source": [
    "asymp = np.load('/raid/mpsych/CACTAS/DATA/Nathan Arnett Calcification/asymp_cropped.npy')\n",
    "symp = np.load('/raid/mpsych/CACTAS/DATA/Nathan Arnett Calcification/symp_cropped.npy')"
   ]
  },
  {
   "cell_type": "code",
   "execution_count": 96,
   "metadata": {},
   "outputs": [],
   "source": [
    "labels = np.array([0]*len(asymp) + [1]*len(symp))\n",
    "images = np.concatenate((asymp, symp))"
   ]
  },
  {
   "cell_type": "code",
   "execution_count": 97,
   "metadata": {},
   "outputs": [],
   "source": [
    "X, y = shuffle(images, labels, random_state=0)"
   ]
  },
  {
   "cell_type": "code",
   "execution_count": 98,
   "metadata": {},
   "outputs": [
    {
     "data": {
      "text/plain": [
       "1034"
      ]
     },
     "execution_count": 98,
     "metadata": {},
     "output_type": "execute_result"
    }
   ],
   "source": [
    "len(images)"
   ]
  },
  {
   "cell_type": "code",
   "execution_count": 99,
   "metadata": {},
   "outputs": [],
   "source": [
    "X_train, X_test, y_train, y_test = train_test_split(X, y, test_size=0.15, random_state=0)"
   ]
  },
  {
   "cell_type": "code",
   "execution_count": 100,
   "metadata": {},
   "outputs": [],
   "source": [
    "train_data_gen = ImageDataGenerator(\n",
    "        rotation_range=5.,\n",
    "        width_shift_range=0.05,\n",
    "        height_shift_range=0.05,\n",
    "        shear_range=40,\n",
    "        zoom_range=0.2,\n",
    "        horizontal_flip=True,\n",
    "        vertical_flip=True,\n",
    "        fill_mode='constant'\n",
    "    )"
   ]
  },
  {
   "cell_type": "code",
   "execution_count": 101,
   "metadata": {},
   "outputs": [],
   "source": [
    "test_data_gen = ImageDataGenerator()"
   ]
  },
  {
   "cell_type": "code",
   "execution_count": 102,
   "metadata": {},
   "outputs": [],
   "source": [
    "train = train_data_gen.flow(X_train, y_train)"
   ]
  },
  {
   "cell_type": "code",
   "execution_count": 103,
   "metadata": {},
   "outputs": [],
   "source": [
    "test = test_data_gen.flow(X_test, y_test)"
   ]
  },
  {
   "cell_type": "code",
   "execution_count": 104,
   "metadata": {},
   "outputs": [],
   "source": [
    "model = keras.Sequential()\n",
    "\n",
    "model.add(layers.Conv2D(filters=20, kernel_size=(5, 5), activation='relu', input_shape=(64,64,1)))\n",
    "model.add(layers.MaxPooling2D(pool_size=(2,2), strides=(2,2)))\n",
    "model.add(layers.Dropout(0.2))\n",
    "\n",
    "model.add(layers.Conv2D(filters=50, kernel_size=(5, 5), activation='relu'))\n",
    "model.add(layers.MaxPooling2D(pool_size=(2,2), strides=(2,2)))\n",
    "model.add(layers.Dropout(0.2))\n",
    "\n",
    "model.add(layers.Flatten())\n",
    "\n",
    "model.add(layers.Dense(units=256, activation='relu'))\n",
    "\n",
    "model.add(layers.Dropout(0.5))\n",
    "\n",
    "model.add(layers.Dense(units=2, activation = 'softmax'))"
   ]
  },
  {
   "cell_type": "code",
   "execution_count": 105,
   "metadata": {},
   "outputs": [
    {
     "name": "stdout",
     "output_type": "stream",
     "text": [
      "Model: \"sequential_10\"\n",
      "_________________________________________________________________\n",
      "Layer (type)                 Output Shape              Param #   \n",
      "=================================================================\n",
      "conv2d_18 (Conv2D)           (None, 60, 60, 20)        520       \n",
      "_________________________________________________________________\n",
      "max_pooling2d_12 (MaxPooling (None, 30, 30, 20)        0         \n",
      "_________________________________________________________________\n",
      "dropout_18 (Dropout)         (None, 30, 30, 20)        0         \n",
      "_________________________________________________________________\n",
      "conv2d_19 (Conv2D)           (None, 26, 26, 50)        25050     \n",
      "_________________________________________________________________\n",
      "max_pooling2d_13 (MaxPooling (None, 13, 13, 50)        0         \n",
      "_________________________________________________________________\n",
      "dropout_19 (Dropout)         (None, 13, 13, 50)        0         \n",
      "_________________________________________________________________\n",
      "flatten_9 (Flatten)          (None, 8450)              0         \n",
      "_________________________________________________________________\n",
      "dense_21 (Dense)             (None, 256)               2163456   \n",
      "_________________________________________________________________\n",
      "dropout_20 (Dropout)         (None, 256)               0         \n",
      "_________________________________________________________________\n",
      "dense_22 (Dense)             (None, 2)                 514       \n",
      "=================================================================\n",
      "Total params: 2,189,540\n",
      "Trainable params: 2,189,540\n",
      "Non-trainable params: 0\n",
      "_________________________________________________________________\n"
     ]
    }
   ],
   "source": [
    "model.summary()"
   ]
  },
  {
   "cell_type": "code",
   "execution_count": 84,
   "metadata": {},
   "outputs": [],
   "source": [
    "# model = VGG19(weights=None, include_top=True, classes=2, input_shape=X[0].shape, )"
   ]
  },
  {
   "cell_type": "code",
   "execution_count": 85,
   "metadata": {},
   "outputs": [],
   "source": [
    "# model.summary()"
   ]
  },
  {
   "cell_type": "code",
   "execution_count": 86,
   "metadata": {},
   "outputs": [
    {
     "data": {
      "text/plain": [
       "dtype('float64')"
      ]
     },
     "execution_count": 86,
     "metadata": {},
     "output_type": "execute_result"
    }
   ],
   "source": [
    "X_train.dtype"
   ]
  },
  {
   "cell_type": "code",
   "execution_count": 106,
   "metadata": {},
   "outputs": [],
   "source": [
    "sgd = tensorflow.keras.optimizers.SGD(lr=0.1, decay=1e-6, momentum=0.9, nesterov=True)\n"
   ]
  },
  {
   "cell_type": "code",
   "execution_count": 107,
   "metadata": {},
   "outputs": [],
   "source": [
    "model.compile(loss=tensorflow.keras.losses.binary_crossentropy,\n",
    "              optimizer=sgd,\n",
    "              metrics=['accuracy'])"
   ]
  },
  {
   "cell_type": "code",
   "execution_count": 94,
   "metadata": {},
   "outputs": [],
   "source": [
    "batch_size = 32"
   ]
  },
  {
   "cell_type": "code",
   "execution_count": null,
   "metadata": {},
   "outputs": [],
   "source": []
  },
  {
   "cell_type": "code",
   "execution_count": 108,
   "metadata": {},
   "outputs": [
    {
     "ename": "ValueError",
     "evalue": "`validation_split` is only supported for Tensors or NumPy arrays, found: (<keras_preprocessing.image.numpy_array_iterator.NumpyArrayIterator object at 0x7f78ad70a6d0>, None, None)",
     "output_type": "error",
     "traceback": [
      "\u001b[0;31m---------------------------------------------------------------------------\u001b[0m",
      "\u001b[0;31mValueError\u001b[0m                                Traceback (most recent call last)",
      "\u001b[0;32m<ipython-input-108-4f47b734118f>\u001b[0m in \u001b[0;36m<module>\u001b[0;34m\u001b[0m\n\u001b[0;32m----> 1\u001b[0;31m \u001b[0mhist\u001b[0m \u001b[0;34m=\u001b[0m \u001b[0mmodel\u001b[0m\u001b[0;34m.\u001b[0m\u001b[0mfit\u001b[0m\u001b[0;34m(\u001b[0m\u001b[0mtrain\u001b[0m\u001b[0;34m,\u001b[0m \u001b[0mvalidation_split\u001b[0m\u001b[0;34m=\u001b[0m\u001b[0;36m0.2\u001b[0m\u001b[0;34m,\u001b[0m \u001b[0mbatch_size\u001b[0m\u001b[0;34m=\u001b[0m\u001b[0mbatch_size\u001b[0m\u001b[0;34m,\u001b[0m \u001b[0mepochs\u001b[0m\u001b[0;34m=\u001b[0m\u001b[0;36m100\u001b[0m\u001b[0;34m)\u001b[0m\u001b[0;34m\u001b[0m\u001b[0;34m\u001b[0m\u001b[0m\n\u001b[0m",
      "\u001b[0;32m~/miniconda3/envs/CACTASTF22/lib/python3.8/site-packages/tensorflow/python/keras/engine/training.py\u001b[0m in \u001b[0;36m_method_wrapper\u001b[0;34m(self, *args, **kwargs)\u001b[0m\n\u001b[1;32m     64\u001b[0m   \u001b[0;32mdef\u001b[0m \u001b[0m_method_wrapper\u001b[0m\u001b[0;34m(\u001b[0m\u001b[0mself\u001b[0m\u001b[0;34m,\u001b[0m \u001b[0;34m*\u001b[0m\u001b[0margs\u001b[0m\u001b[0;34m,\u001b[0m \u001b[0;34m**\u001b[0m\u001b[0mkwargs\u001b[0m\u001b[0;34m)\u001b[0m\u001b[0;34m:\u001b[0m\u001b[0;34m\u001b[0m\u001b[0;34m\u001b[0m\u001b[0m\n\u001b[1;32m     65\u001b[0m     \u001b[0;32mif\u001b[0m \u001b[0;32mnot\u001b[0m \u001b[0mself\u001b[0m\u001b[0;34m.\u001b[0m\u001b[0m_in_multi_worker_mode\u001b[0m\u001b[0;34m(\u001b[0m\u001b[0;34m)\u001b[0m\u001b[0;34m:\u001b[0m  \u001b[0;31m# pylint: disable=protected-access\u001b[0m\u001b[0;34m\u001b[0m\u001b[0;34m\u001b[0m\u001b[0m\n\u001b[0;32m---> 66\u001b[0;31m       \u001b[0;32mreturn\u001b[0m \u001b[0mmethod\u001b[0m\u001b[0;34m(\u001b[0m\u001b[0mself\u001b[0m\u001b[0;34m,\u001b[0m \u001b[0;34m*\u001b[0m\u001b[0margs\u001b[0m\u001b[0;34m,\u001b[0m \u001b[0;34m**\u001b[0m\u001b[0mkwargs\u001b[0m\u001b[0;34m)\u001b[0m\u001b[0;34m\u001b[0m\u001b[0;34m\u001b[0m\u001b[0m\n\u001b[0m\u001b[1;32m     67\u001b[0m \u001b[0;34m\u001b[0m\u001b[0m\n\u001b[1;32m     68\u001b[0m     \u001b[0;31m# Running inside `run_distribute_coordinator` already.\u001b[0m\u001b[0;34m\u001b[0m\u001b[0;34m\u001b[0m\u001b[0;34m\u001b[0m\u001b[0m\n",
      "\u001b[0;32m~/miniconda3/envs/CACTASTF22/lib/python3.8/site-packages/tensorflow/python/keras/engine/training.py\u001b[0m in \u001b[0;36mfit\u001b[0;34m(self, x, y, batch_size, epochs, verbose, callbacks, validation_split, validation_data, shuffle, class_weight, sample_weight, initial_epoch, steps_per_epoch, validation_steps, validation_batch_size, validation_freq, max_queue_size, workers, use_multiprocessing)\u001b[0m\n\u001b[1;32m    793\u001b[0m       \u001b[0;31m# `Tensor` and `NumPy` input.\u001b[0m\u001b[0;34m\u001b[0m\u001b[0;34m\u001b[0m\u001b[0;34m\u001b[0m\u001b[0m\n\u001b[1;32m    794\u001b[0m       (x, y, sample_weight), validation_data = (\n\u001b[0;32m--> 795\u001b[0;31m           data_adapter.train_validation_split((x, y, sample_weight),\n\u001b[0m\u001b[1;32m    796\u001b[0m                                               \u001b[0mvalidation_split\u001b[0m\u001b[0;34m=\u001b[0m\u001b[0mvalidation_split\u001b[0m\u001b[0;34m,\u001b[0m\u001b[0;34m\u001b[0m\u001b[0;34m\u001b[0m\u001b[0m\n\u001b[1;32m    797\u001b[0m                                               shuffle=False))\n",
      "\u001b[0;32m~/miniconda3/envs/CACTASTF22/lib/python3.8/site-packages/tensorflow/python/keras/engine/data_adapter.py\u001b[0m in \u001b[0;36mtrain_validation_split\u001b[0;34m(arrays, validation_split, shuffle)\u001b[0m\n\u001b[1;32m   1307\u001b[0m   \u001b[0mflat_arrays\u001b[0m \u001b[0;34m=\u001b[0m \u001b[0mnest\u001b[0m\u001b[0;34m.\u001b[0m\u001b[0mflatten\u001b[0m\u001b[0;34m(\u001b[0m\u001b[0marrays\u001b[0m\u001b[0;34m)\u001b[0m\u001b[0;34m\u001b[0m\u001b[0;34m\u001b[0m\u001b[0m\n\u001b[1;32m   1308\u001b[0m   \u001b[0;32mif\u001b[0m \u001b[0;32mnot\u001b[0m \u001b[0mall\u001b[0m\u001b[0;34m(\u001b[0m\u001b[0m_can_split\u001b[0m\u001b[0;34m(\u001b[0m\u001b[0mt\u001b[0m\u001b[0;34m)\u001b[0m \u001b[0;32mfor\u001b[0m \u001b[0mt\u001b[0m \u001b[0;32min\u001b[0m \u001b[0mflat_arrays\u001b[0m\u001b[0;34m)\u001b[0m\u001b[0;34m:\u001b[0m\u001b[0;34m\u001b[0m\u001b[0;34m\u001b[0m\u001b[0m\n\u001b[0;32m-> 1309\u001b[0;31m     raise ValueError(\n\u001b[0m\u001b[1;32m   1310\u001b[0m         \u001b[0;34m\"`validation_split` is only supported for Tensors or NumPy \"\u001b[0m\u001b[0;34m\u001b[0m\u001b[0;34m\u001b[0m\u001b[0m\n\u001b[1;32m   1311\u001b[0m         \"arrays, found: {}\".format(arrays))\n",
      "\u001b[0;31mValueError\u001b[0m: `validation_split` is only supported for Tensors or NumPy arrays, found: (<keras_preprocessing.image.numpy_array_iterator.NumpyArrayIterator object at 0x7f78ad70a6d0>, None, None)"
     ]
    }
   ],
   "source": [
    "hist = model.fit(train, validation_split=0.2, batch_size=batch_size, epochs=100)"
   ]
  },
  {
   "cell_type": "code",
   "execution_count": null,
   "metadata": {},
   "outputs": [],
   "source": []
  },
  {
   "cell_type": "code",
   "execution_count": 95,
   "metadata": {},
   "outputs": [
    {
     "name": "stdout",
     "output_type": "stream",
     "text": [
      "Epoch 1/100\n",
      "2/2 [==============================] - 0s 44ms/step - loss: 0.6931 - accuracy: 0.6000 - val_loss: 1.3863 - val_accuracy: 0.6000\n",
      "Epoch 2/100\n",
      "2/2 [==============================] - 0s 10ms/step - loss: 0.6931 - accuracy: 0.5750 - val_loss: 1.3863 - val_accuracy: 0.5000\n",
      "Epoch 3/100\n",
      "2/2 [==============================] - 0s 10ms/step - loss: 0.6931 - accuracy: 0.5500 - val_loss: 1.3863 - val_accuracy: 0.8000\n",
      "Epoch 4/100\n",
      "2/2 [==============================] - 0s 10ms/step - loss: 0.6931 - accuracy: 0.3750 - val_loss: 1.3863 - val_accuracy: 0.7000\n",
      "Epoch 5/100\n",
      "2/2 [==============================] - 0s 10ms/step - loss: 0.6931 - accuracy: 0.4250 - val_loss: 1.3863 - val_accuracy: 0.7000\n",
      "Epoch 6/100\n",
      "2/2 [==============================] - 0s 11ms/step - loss: 0.6931 - accuracy: 0.4000 - val_loss: 1.3863 - val_accuracy: 0.8000\n",
      "Epoch 7/100\n",
      "2/2 [==============================] - 0s 10ms/step - loss: 0.6931 - accuracy: 0.3250 - val_loss: 1.3863 - val_accuracy: 0.5000\n",
      "Epoch 8/100\n",
      "2/2 [==============================] - 0s 10ms/step - loss: 0.6931 - accuracy: 0.5000 - val_loss: 1.3863 - val_accuracy: 0.5000\n",
      "Epoch 9/100\n",
      "2/2 [==============================] - 0s 10ms/step - loss: 0.6931 - accuracy: 0.6250 - val_loss: 1.3863 - val_accuracy: 0.5000\n",
      "Epoch 10/100\n",
      "2/2 [==============================] - 0s 10ms/step - loss: 0.6931 - accuracy: 0.4750 - val_loss: 1.3863 - val_accuracy: 0.6000\n",
      "Epoch 11/100\n",
      "2/2 [==============================] - 0s 10ms/step - loss: 0.6931 - accuracy: 0.4750 - val_loss: 1.3863 - val_accuracy: 0.6000\n",
      "Epoch 12/100\n",
      "2/2 [==============================] - 0s 10ms/step - loss: 0.6931 - accuracy: 0.6250 - val_loss: 1.3863 - val_accuracy: 0.5000\n",
      "Epoch 13/100\n",
      "2/2 [==============================] - 0s 10ms/step - loss: 0.6931 - accuracy: 0.5500 - val_loss: 1.3863 - val_accuracy: 0.6000\n",
      "Epoch 14/100\n",
      "2/2 [==============================] - 0s 10ms/step - loss: 0.6931 - accuracy: 0.5000 - val_loss: 1.3863 - val_accuracy: 0.4000\n",
      "Epoch 15/100\n",
      "2/2 [==============================] - 0s 10ms/step - loss: 0.6931 - accuracy: 0.5250 - val_loss: 0.8044 - val_accuracy: 0.6000\n",
      "Epoch 16/100\n",
      "2/2 [==============================] - 0s 12ms/step - loss: 0.6931 - accuracy: 0.6250 - val_loss: 1.3863 - val_accuracy: 0.5000\n",
      "Epoch 17/100\n",
      "2/2 [==============================] - 0s 10ms/step - loss: 0.6931 - accuracy: 0.4750 - val_loss: 1.3863 - val_accuracy: 0.5000\n",
      "Epoch 18/100\n",
      "2/2 [==============================] - 0s 10ms/step - loss: 0.6931 - accuracy: 0.6500 - val_loss: 1.3863 - val_accuracy: 0.5000\n",
      "Epoch 19/100\n",
      "2/2 [==============================] - 0s 10ms/step - loss: 0.6931 - accuracy: 0.4500 - val_loss: 1.3863 - val_accuracy: 0.7000\n",
      "Epoch 20/100\n",
      "2/2 [==============================] - 0s 10ms/step - loss: 0.6931 - accuracy: 0.6000 - val_loss: 1.3863 - val_accuracy: 0.7000\n",
      "Epoch 21/100\n",
      "2/2 [==============================] - 0s 10ms/step - loss: 0.6931 - accuracy: 0.5250 - val_loss: 1.3863 - val_accuracy: 0.7000\n",
      "Epoch 22/100\n",
      "2/2 [==============================] - 0s 10ms/step - loss: 0.6931 - accuracy: 0.4750 - val_loss: 1.3863 - val_accuracy: 0.6000\n",
      "Epoch 23/100\n",
      "2/2 [==============================] - 0s 10ms/step - loss: 0.6931 - accuracy: 0.5500 - val_loss: 1.3863 - val_accuracy: 0.7000\n",
      "Epoch 24/100\n",
      "2/2 [==============================] - 0s 10ms/step - loss: 0.6931 - accuracy: 0.5250 - val_loss: 1.0099 - val_accuracy: 0.6000\n",
      "Epoch 25/100\n",
      "2/2 [==============================] - 0s 10ms/step - loss: 0.6931 - accuracy: 0.4500 - val_loss: 1.3863 - val_accuracy: 0.7000\n",
      "Epoch 26/100\n",
      "2/2 [==============================] - 0s 12ms/step - loss: 0.6931 - accuracy: 0.3750 - val_loss: 1.3863 - val_accuracy: 0.7000\n",
      "Epoch 27/100\n",
      "2/2 [==============================] - 0s 10ms/step - loss: 0.6931 - accuracy: 0.4000 - val_loss: 1.3863 - val_accuracy: 0.6000\n",
      "Epoch 28/100\n",
      "2/2 [==============================] - 0s 10ms/step - loss: 0.6931 - accuracy: 0.3750 - val_loss: 1.3863 - val_accuracy: 0.6000\n",
      "Epoch 29/100\n",
      "2/2 [==============================] - 0s 10ms/step - loss: 0.6931 - accuracy: 0.4750 - val_loss: 1.3314 - val_accuracy: 0.6000\n",
      "Epoch 30/100\n",
      "2/2 [==============================] - 0s 10ms/step - loss: 0.6931 - accuracy: 0.5250 - val_loss: 1.3863 - val_accuracy: 0.5000\n",
      "Epoch 31/100\n",
      "2/2 [==============================] - 0s 10ms/step - loss: 0.6931 - accuracy: 0.4500 - val_loss: 1.3863 - val_accuracy: 0.7000\n",
      "Epoch 32/100\n",
      "2/2 [==============================] - 0s 10ms/step - loss: 0.6931 - accuracy: 0.3750 - val_loss: 1.3863 - val_accuracy: 0.7000\n",
      "Epoch 33/100\n",
      "2/2 [==============================] - 0s 10ms/step - loss: 0.6931 - accuracy: 0.4750 - val_loss: 0.8324 - val_accuracy: 0.6000\n",
      "Epoch 34/100\n",
      "2/2 [==============================] - 0s 10ms/step - loss: 0.6931 - accuracy: 0.5000 - val_loss: 1.3863 - val_accuracy: 0.5000\n",
      "Epoch 35/100\n",
      "2/2 [==============================] - 0s 12ms/step - loss: 0.6931 - accuracy: 0.6500 - val_loss: 1.3863 - val_accuracy: 0.5000\n",
      "Epoch 36/100\n",
      "2/2 [==============================] - 0s 10ms/step - loss: 0.6931 - accuracy: 0.6750 - val_loss: 1.3863 - val_accuracy: 0.6000\n",
      "Epoch 37/100\n",
      "2/2 [==============================] - 0s 10ms/step - loss: 0.6931 - accuracy: 0.4750 - val_loss: 1.3863 - val_accuracy: 0.6000\n",
      "Epoch 38/100\n",
      "2/2 [==============================] - 0s 10ms/step - loss: 0.6931 - accuracy: 0.4500 - val_loss: 1.3863 - val_accuracy: 0.6000\n",
      "Epoch 39/100\n",
      "2/2 [==============================] - 0s 10ms/step - loss: 0.6931 - accuracy: 0.3500 - val_loss: 1.0060 - val_accuracy: 0.7000\n",
      "Epoch 40/100\n",
      "2/2 [==============================] - 0s 10ms/step - loss: 0.6931 - accuracy: 0.4000 - val_loss: 1.3863 - val_accuracy: 0.6000\n",
      "Epoch 41/100\n",
      "2/2 [==============================] - 0s 10ms/step - loss: 0.6931 - accuracy: 0.4500 - val_loss: 1.3863 - val_accuracy: 0.5000\n",
      "Epoch 42/100\n",
      "2/2 [==============================] - 0s 10ms/step - loss: 0.6931 - accuracy: 0.4500 - val_loss: 1.3863 - val_accuracy: 0.6000\n",
      "Epoch 43/100\n",
      "2/2 [==============================] - 0s 10ms/step - loss: 0.6931 - accuracy: 0.4250 - val_loss: 1.3863 - val_accuracy: 0.7000\n",
      "Epoch 44/100\n",
      "2/2 [==============================] - 0s 10ms/step - loss: 0.6931 - accuracy: 0.4250 - val_loss: 1.3863 - val_accuracy: 0.6000\n",
      "Epoch 45/100\n",
      "2/2 [==============================] - 0s 12ms/step - loss: 0.6931 - accuracy: 0.3500 - val_loss: 1.3863 - val_accuracy: 0.7000\n",
      "Epoch 46/100\n",
      "2/2 [==============================] - 0s 10ms/step - loss: 0.6931 - accuracy: 0.5000 - val_loss: 0.6946 - val_accuracy: 0.6000\n",
      "Epoch 47/100\n",
      "2/2 [==============================] - 0s 10ms/step - loss: 0.6931 - accuracy: 0.4000 - val_loss: 1.3863 - val_accuracy: 0.7000\n",
      "Epoch 48/100\n",
      "2/2 [==============================] - 0s 10ms/step - loss: 0.6931 - accuracy: 0.4250 - val_loss: 1.3863 - val_accuracy: 0.7000\n",
      "Epoch 49/100\n",
      "2/2 [==============================] - 0s 10ms/step - loss: 0.6931 - accuracy: 0.4750 - val_loss: 1.3863 - val_accuracy: 0.7000\n",
      "Epoch 50/100\n",
      "2/2 [==============================] - 0s 10ms/step - loss: 0.6931 - accuracy: 0.4000 - val_loss: 1.3863 - val_accuracy: 0.6000\n",
      "Epoch 51/100\n",
      "2/2 [==============================] - 0s 10ms/step - loss: 0.6931 - accuracy: 0.5000 - val_loss: 1.3863 - val_accuracy: 0.7000\n",
      "Epoch 52/100\n",
      "2/2 [==============================] - 0s 10ms/step - loss: 0.6931 - accuracy: 0.5000 - val_loss: 1.3863 - val_accuracy: 0.7000\n",
      "Epoch 53/100\n",
      "2/2 [==============================] - 0s 10ms/step - loss: 0.6931 - accuracy: 0.4500 - val_loss: 1.3863 - val_accuracy: 0.6000\n",
      "Epoch 54/100\n",
      "2/2 [==============================] - 0s 10ms/step - loss: 0.6931 - accuracy: 0.4250 - val_loss: 1.3863 - val_accuracy: 0.6000\n",
      "Epoch 55/100\n",
      "2/2 [==============================] - 0s 15ms/step - loss: 0.6931 - accuracy: 0.5000 - val_loss: 1.3863 - val_accuracy: 0.7000\n",
      "Epoch 56/100\n",
      "2/2 [==============================] - 0s 10ms/step - loss: 0.6931 - accuracy: 0.4250 - val_loss: 1.3863 - val_accuracy: 0.7000\n",
      "Epoch 57/100\n",
      "2/2 [==============================] - 0s 10ms/step - loss: 0.6931 - accuracy: 0.4000 - val_loss: 1.2855 - val_accuracy: 0.7000\n",
      "Epoch 58/100\n",
      "2/2 [==============================] - 0s 10ms/step - loss: 0.6931 - accuracy: 0.3750 - val_loss: 1.3863 - val_accuracy: 0.6000\n",
      "Epoch 59/100\n"
     ]
    },
    {
     "name": "stdout",
     "output_type": "stream",
     "text": [
      "2/2 [==============================] - 0s 10ms/step - loss: 0.6931 - accuracy: 0.4250 - val_loss: 1.3863 - val_accuracy: 0.7000\n",
      "Epoch 60/100\n",
      "2/2 [==============================] - 0s 10ms/step - loss: 0.6931 - accuracy: 0.4750 - val_loss: 0.8436 - val_accuracy: 0.6000\n",
      "Epoch 61/100\n",
      "2/2 [==============================] - 0s 10ms/step - loss: 0.6931 - accuracy: 0.3250 - val_loss: 1.3863 - val_accuracy: 0.7000\n",
      "Epoch 62/100\n",
      "2/2 [==============================] - 0s 10ms/step - loss: 0.6931 - accuracy: 0.4500 - val_loss: 0.7215 - val_accuracy: 0.6000\n",
      "Epoch 63/100\n",
      "2/2 [==============================] - 0s 10ms/step - loss: 0.6931 - accuracy: 0.4750 - val_loss: 1.3863 - val_accuracy: 0.6000\n",
      "Epoch 64/100\n",
      "2/2 [==============================] - 0s 12ms/step - loss: 0.6931 - accuracy: 0.4000 - val_loss: 1.3863 - val_accuracy: 0.7000\n",
      "Epoch 65/100\n",
      "2/2 [==============================] - 0s 10ms/step - loss: 0.6931 - accuracy: 0.5000 - val_loss: 0.8014 - val_accuracy: 0.7000\n",
      "Epoch 66/100\n",
      "2/2 [==============================] - 0s 10ms/step - loss: 0.6931 - accuracy: 0.4500 - val_loss: 1.3863 - val_accuracy: 0.6000\n",
      "Epoch 67/100\n",
      "2/2 [==============================] - 0s 10ms/step - loss: 0.6931 - accuracy: 0.4000 - val_loss: 1.3863 - val_accuracy: 0.7000\n",
      "Epoch 68/100\n",
      "2/2 [==============================] - 0s 10ms/step - loss: 0.6931 - accuracy: 0.4250 - val_loss: 1.3863 - val_accuracy: 0.7000\n",
      "Epoch 69/100\n",
      "2/2 [==============================] - 0s 10ms/step - loss: 0.6931 - accuracy: 0.4000 - val_loss: 1.3863 - val_accuracy: 0.7000\n",
      "Epoch 70/100\n",
      "2/2 [==============================] - 0s 10ms/step - loss: 0.6931 - accuracy: 0.4750 - val_loss: 1.3863 - val_accuracy: 0.7000\n",
      "Epoch 71/100\n",
      "2/2 [==============================] - 0s 10ms/step - loss: 0.6931 - accuracy: 0.4500 - val_loss: 1.3863 - val_accuracy: 0.6000\n",
      "Epoch 72/100\n",
      "2/2 [==============================] - 0s 10ms/step - loss: 0.6931 - accuracy: 0.4250 - val_loss: 1.3863 - val_accuracy: 0.7000\n",
      "Epoch 73/100\n",
      "2/2 [==============================] - 0s 10ms/step - loss: 0.6931 - accuracy: 0.4000 - val_loss: 1.3863 - val_accuracy: 0.7000\n",
      "Epoch 74/100\n",
      "2/2 [==============================] - 0s 12ms/step - loss: 0.6931 - accuracy: 0.4250 - val_loss: 1.3863 - val_accuracy: 0.6000\n",
      "Epoch 75/100\n",
      "2/2 [==============================] - 0s 10ms/step - loss: 0.6931 - accuracy: 0.4250 - val_loss: 0.7056 - val_accuracy: 0.6000\n",
      "Epoch 76/100\n",
      "2/2 [==============================] - 0s 10ms/step - loss: 0.6931 - accuracy: 0.4750 - val_loss: 1.3863 - val_accuracy: 0.7000\n",
      "Epoch 77/100\n",
      "2/2 [==============================] - 0s 10ms/step - loss: 0.6931 - accuracy: 0.5000 - val_loss: 1.3863 - val_accuracy: 0.7000\n",
      "Epoch 78/100\n",
      "2/2 [==============================] - 0s 10ms/step - loss: 0.6931 - accuracy: 0.4750 - val_loss: 1.3863 - val_accuracy: 0.7000\n",
      "Epoch 79/100\n",
      "2/2 [==============================] - 0s 10ms/step - loss: 0.6931 - accuracy: 0.3500 - val_loss: 1.3863 - val_accuracy: 0.6000\n",
      "Epoch 80/100\n",
      "2/2 [==============================] - 0s 10ms/step - loss: 0.6931 - accuracy: 0.4750 - val_loss: 1.3863 - val_accuracy: 0.7000\n",
      "Epoch 81/100\n",
      "2/2 [==============================] - 0s 10ms/step - loss: 0.6931 - accuracy: 0.3500 - val_loss: 1.3863 - val_accuracy: 0.6000\n",
      "Epoch 82/100\n",
      "2/2 [==============================] - 0s 10ms/step - loss: 0.6931 - accuracy: 0.3750 - val_loss: 1.3863 - val_accuracy: 0.7000\n",
      "Epoch 83/100\n",
      "2/2 [==============================] - 0s 10ms/step - loss: 0.6931 - accuracy: 0.4000 - val_loss: 1.3863 - val_accuracy: 0.7000\n",
      "Epoch 84/100\n",
      "2/2 [==============================] - 0s 12ms/step - loss: 0.6931 - accuracy: 0.4250 - val_loss: 1.3863 - val_accuracy: 0.7000\n",
      "Epoch 85/100\n",
      "2/2 [==============================] - 0s 10ms/step - loss: 0.6931 - accuracy: 0.5000 - val_loss: 1.3863 - val_accuracy: 0.5000\n",
      "Epoch 86/100\n",
      "2/2 [==============================] - 0s 10ms/step - loss: 0.6931 - accuracy: 0.4000 - val_loss: 1.3863 - val_accuracy: 0.7000\n",
      "Epoch 87/100\n",
      "2/2 [==============================] - 0s 10ms/step - loss: 0.6931 - accuracy: 0.4000 - val_loss: 1.3863 - val_accuracy: 0.7000\n",
      "Epoch 88/100\n",
      "2/2 [==============================] - 0s 10ms/step - loss: 0.6931 - accuracy: 0.4250 - val_loss: 1.3863 - val_accuracy: 0.7000\n",
      "Epoch 89/100\n",
      "2/2 [==============================] - 0s 10ms/step - loss: 0.6931 - accuracy: 0.4000 - val_loss: 1.3863 - val_accuracy: 0.7000\n",
      "Epoch 90/100\n",
      "2/2 [==============================] - 0s 10ms/step - loss: 0.6931 - accuracy: 0.4250 - val_loss: 1.3863 - val_accuracy: 0.7000\n",
      "Epoch 91/100\n",
      "2/2 [==============================] - 0s 10ms/step - loss: 0.6931 - accuracy: 0.4250 - val_loss: 1.3863 - val_accuracy: 0.7000\n",
      "Epoch 92/100\n",
      "2/2 [==============================] - 0s 10ms/step - loss: 0.6931 - accuracy: 0.4000 - val_loss: 1.3863 - val_accuracy: 0.7000\n",
      "Epoch 93/100\n",
      "2/2 [==============================] - 0s 12ms/step - loss: 0.6931 - accuracy: 0.4250 - val_loss: 1.3863 - val_accuracy: 0.7000\n",
      "Epoch 94/100\n",
      "2/2 [==============================] - 0s 111ms/step - loss: 0.6931 - accuracy: 0.5000 - val_loss: 7.6685 - val_accuracy: 0.6000\n",
      "Epoch 95/100\n",
      "2/2 [==============================] - 0s 10ms/step - loss: 1.3907 - accuracy: 0.5000 - val_loss: 0.6931 - val_accuracy: 0.5000\n",
      "Epoch 96/100\n",
      "2/2 [==============================] - 0s 10ms/step - loss: 0.6931 - accuracy: 0.4250 - val_loss: 0.6931 - val_accuracy: 0.5000\n",
      "Epoch 97/100\n",
      "2/2 [==============================] - 0s 10ms/step - loss: 0.6931 - accuracy: 0.4250 - val_loss: 0.6931 - val_accuracy: 0.5000\n",
      "Epoch 98/100\n",
      "2/2 [==============================] - 0s 10ms/step - loss: 0.6931 - accuracy: 0.4250 - val_loss: 0.6931 - val_accuracy: 0.5000\n",
      "Epoch 99/100\n",
      "2/2 [==============================] - 0s 10ms/step - loss: 0.6931 - accuracy: 0.4500 - val_loss: 0.6931 - val_accuracy: 0.5000\n",
      "Epoch 100/100\n",
      "2/2 [==============================] - 0s 10ms/step - loss: 0.6931 - accuracy: 0.4500 - val_loss: 0.6931 - val_accuracy: 0.5000\n"
     ]
    }
   ],
   "source": [
    "hist = model.fit(X_train[0:50], y_train[0:50], validation_split=0.2, batch_size=batch_size, epochs=100)"
   ]
  },
  {
   "cell_type": "code",
   "execution_count": 109,
   "metadata": {
    "scrolled": false
   },
   "outputs": [
    {
     "name": "stdout",
     "output_type": "stream",
     "text": [
      "Epoch 1/100\n",
      "27/27 [==============================] - 0s 12ms/step - loss: 0.6931 - accuracy: 0.4630\n",
      "Epoch 2/100\n",
      "27/27 [==============================] - 0s 12ms/step - loss: 0.6932 - accuracy: 0.4882\n",
      "Epoch 3/100\n",
      "27/27 [==============================] - 0s 12ms/step - loss: 0.6933 - accuracy: 0.5142\n",
      "Epoch 4/100\n",
      "27/27 [==============================] - 0s 12ms/step - loss: 0.6943 - accuracy: 0.4976\n",
      "Epoch 5/100\n",
      "27/27 [==============================] - 0s 12ms/step - loss: 0.7256 - accuracy: 0.5130\n",
      "Epoch 6/100\n",
      "27/27 [==============================] - 0s 12ms/step - loss: 0.8059 - accuracy: 0.4870\n",
      "Epoch 7/100\n",
      "27/27 [==============================] - 0s 12ms/step - loss: 0.8086 - accuracy: 0.4976\n",
      "Epoch 8/100\n",
      "27/27 [==============================] - 0s 12ms/step - loss: 0.8087 - accuracy: 0.4622\n",
      "Epoch 9/100\n",
      "27/27 [==============================] - 0s 12ms/step - loss: 0.8087 - accuracy: 0.4622\n",
      "Epoch 10/100\n",
      "27/27 [==============================] - 0s 12ms/step - loss: 0.8085 - accuracy: 0.5201\n",
      "Epoch 11/100\n",
      "27/27 [==============================] - 0s 12ms/step - loss: 0.8084 - accuracy: 0.4846\n",
      "Epoch 12/100\n",
      "27/27 [==============================] - 0s 12ms/step - loss: 0.8086 - accuracy: 0.4835\n",
      "Epoch 13/100\n",
      "27/27 [==============================] - 0s 12ms/step - loss: 0.8085 - accuracy: 0.5201\n",
      "Epoch 14/100\n",
      "27/27 [==============================] - 0s 12ms/step - loss: 0.8083 - accuracy: 0.4716\n",
      "Epoch 15/100\n",
      "27/27 [==============================] - 0s 12ms/step - loss: 0.8083 - accuracy: 0.4988\n",
      "Epoch 16/100\n",
      "27/27 [==============================] - 0s 12ms/step - loss: 0.8087 - accuracy: 0.5284\n",
      "Epoch 17/100\n",
      "27/27 [==============================] - 0s 12ms/step - loss: 0.8086 - accuracy: 0.4976\n",
      "Epoch 18/100\n",
      "27/27 [==============================] - 0s 12ms/step - loss: 0.8090 - accuracy: 0.5095\n",
      "Epoch 19/100\n",
      "27/27 [==============================] - 0s 12ms/step - loss: 0.8083 - accuracy: 0.4941\n",
      "Epoch 20/100\n",
      "27/27 [==============================] - 0s 12ms/step - loss: 0.8089 - accuracy: 0.5130\n",
      "Epoch 21/100\n",
      "27/27 [==============================] - 0s 12ms/step - loss: 0.8086 - accuracy: 0.5035\n",
      "Epoch 22/100\n",
      "27/27 [==============================] - 0s 12ms/step - loss: 0.8084 - accuracy: 0.5130\n",
      "Epoch 23/100\n",
      "27/27 [==============================] - 0s 12ms/step - loss: 0.8089 - accuracy: 0.4905\n",
      "Epoch 24/100\n",
      "27/27 [==============================] - 0s 12ms/step - loss: 0.8086 - accuracy: 0.4965\n",
      "Epoch 25/100\n",
      "27/27 [==============================] - 0s 12ms/step - loss: 0.8086 - accuracy: 0.5272\n",
      "Epoch 26/100\n",
      "27/27 [==============================] - 0s 12ms/step - loss: 0.8087 - accuracy: 0.5189\n",
      "Epoch 27/100\n",
      "27/27 [==============================] - 0s 12ms/step - loss: 0.8085 - accuracy: 0.4858\n",
      "Epoch 28/100\n",
      "27/27 [==============================] - 0s 12ms/step - loss: 0.8089 - accuracy: 0.5390\n",
      "Epoch 29/100\n",
      "27/27 [==============================] - 0s 12ms/step - loss: 0.6931 - accuracy: 0.4884\n",
      "Epoch 30/100\n",
      "27/27 [==============================] - 0s 12ms/step - loss: 0.8083 - accuracy: 0.4858\n",
      "Epoch 31/100\n",
      "27/27 [==============================] - 0s 12ms/step - loss: 0.8085 - accuracy: 0.4976\n",
      "Epoch 32/100\n",
      "27/27 [==============================] - 0s 12ms/step - loss: 0.8090 - accuracy: 0.4870\n",
      "Epoch 33/100\n",
      "27/27 [==============================] - 0s 12ms/step - loss: 0.8087 - accuracy: 0.5083\n",
      "Epoch 34/100\n",
      "27/27 [==============================] - 0s 12ms/step - loss: 0.8086 - accuracy: 0.4752\n",
      "Epoch 35/100\n",
      "27/27 [==============================] - 0s 12ms/step - loss: 0.8087 - accuracy: 0.5095\n",
      "Epoch 36/100\n",
      "27/27 [==============================] - 0s 12ms/step - loss: 0.8087 - accuracy: 0.5142\n",
      "Epoch 37/100\n",
      "27/27 [==============================] - 0s 12ms/step - loss: 0.8088 - accuracy: 0.5106\n",
      "Epoch 38/100\n",
      "27/27 [==============================] - 0s 12ms/step - loss: 0.8086 - accuracy: 0.5047\n",
      "Epoch 39/100\n",
      "27/27 [==============================] - 0s 12ms/step - loss: 0.8085 - accuracy: 0.5012\n",
      "Epoch 40/100\n",
      "27/27 [==============================] - 0s 12ms/step - loss: 0.8091 - accuracy: 0.4882\n",
      "Epoch 41/100\n",
      "27/27 [==============================] - 0s 12ms/step - loss: 0.8085 - accuracy: 0.5130\n",
      "Epoch 42/100\n",
      "27/27 [==============================] - 0s 12ms/step - loss: 0.8087 - accuracy: 0.5000\n",
      "Epoch 43/100\n",
      "27/27 [==============================] - 0s 12ms/step - loss: 0.8086 - accuracy: 0.4976\n",
      "Epoch 44/100\n",
      "27/27 [==============================] - 0s 12ms/step - loss: 0.8084 - accuracy: 0.4716\n",
      "Epoch 45/100\n",
      "27/27 [==============================] - 0s 12ms/step - loss: 0.8090 - accuracy: 0.4882\n",
      "Epoch 46/100\n",
      "27/27 [==============================] - 0s 12ms/step - loss: 0.8085 - accuracy: 0.5083\n",
      "Epoch 47/100\n",
      "27/27 [==============================] - 0s 12ms/step - loss: 0.8088 - accuracy: 0.5165\n",
      "Epoch 48/100\n",
      "27/27 [==============================] - 0s 12ms/step - loss: 0.8086 - accuracy: 0.4988\n",
      "Epoch 49/100\n",
      "27/27 [==============================] - 0s 12ms/step - loss: 1.1496 - accuracy: 0.4846\n",
      "Epoch 50/100\n",
      "27/27 [==============================] - 0s 12ms/step - loss: 0.8872 - accuracy: 0.4905\n",
      "Epoch 51/100\n",
      "27/27 [==============================] - 0s 12ms/step - loss: 0.6932 - accuracy: 0.5213\n",
      "Epoch 52/100\n",
      "27/27 [==============================] - 0s 12ms/step - loss: 0.6932 - accuracy: 0.4894\n",
      "Epoch 53/100\n",
      "27/27 [==============================] - 0s 12ms/step - loss: 0.6932 - accuracy: 0.5059\n",
      "Epoch 54/100\n",
      "27/27 [==============================] - 0s 12ms/step - loss: 0.6931 - accuracy: 0.5000\n",
      "Epoch 55/100\n",
      "27/27 [==============================] - 0s 12ms/step - loss: 0.6931 - accuracy: 0.5059\n",
      "Epoch 56/100\n",
      "27/27 [==============================] - 0s 12ms/step - loss: 0.6931 - accuracy: 0.4846\n",
      "Epoch 57/100\n",
      "27/27 [==============================] - 0s 12ms/step - loss: 0.6931 - accuracy: 0.4907\n",
      "Epoch 58/100\n",
      "27/27 [==============================] - 0s 12ms/step - loss: 0.6931 - accuracy: 0.4953\n",
      "Epoch 59/100\n",
      "27/27 [==============================] - 0s 12ms/step - loss: 0.6931 - accuracy: 0.4894\n",
      "Epoch 60/100\n",
      "27/27 [==============================] - 0s 12ms/step - loss: 0.6931 - accuracy: 0.5225\n",
      "Epoch 61/100\n",
      "27/27 [==============================] - 0s 12ms/step - loss: 0.6931 - accuracy: 0.5248\n",
      "Epoch 62/100\n",
      "27/27 [==============================] - 0s 12ms/step - loss: 0.6931 - accuracy: 0.5095\n",
      "Epoch 63/100\n",
      "27/27 [==============================] - 0s 12ms/step - loss: 0.6931 - accuracy: 0.4716\n",
      "Epoch 64/100\n",
      "27/27 [==============================] - 0s 12ms/step - loss: 0.6931 - accuracy: 0.5449\n",
      "Epoch 65/100\n",
      "27/27 [==============================] - 0s 12ms/step - loss: 0.6931 - accuracy: 0.5000\n",
      "Epoch 66/100\n",
      "27/27 [==============================] - 0s 12ms/step - loss: 0.6931 - accuracy: 0.4882\n",
      "Epoch 67/100\n",
      "27/27 [==============================] - 0s 12ms/step - loss: 0.6931 - accuracy: 0.4965\n",
      "Epoch 68/100\n",
      "27/27 [==============================] - 0s 12ms/step - loss: 0.6931 - accuracy: 0.5154\n",
      "Epoch 69/100\n",
      "27/27 [==============================] - 0s 12ms/step - loss: 0.6931 - accuracy: 0.4965\n",
      "Epoch 70/100\n",
      "27/27 [==============================] - 0s 12ms/step - loss: 0.6931 - accuracy: 0.5165\n",
      "Epoch 71/100\n",
      "27/27 [==============================] - 0s 12ms/step - loss: 0.6931 - accuracy: 0.4976\n",
      "Epoch 72/100\n",
      "27/27 [==============================] - 0s 12ms/step - loss: 0.6931 - accuracy: 0.5142\n",
      "Epoch 73/100\n",
      "27/27 [==============================] - 0s 12ms/step - loss: 0.6931 - accuracy: 0.4775\n",
      "Epoch 74/100\n",
      "27/27 [==============================] - 0s 12ms/step - loss: 0.6931 - accuracy: 0.5213\n",
      "Epoch 75/100\n",
      "27/27 [==============================] - 0s 12ms/step - loss: 0.6931 - accuracy: 0.4941\n",
      "Epoch 76/100\n",
      "27/27 [==============================] - 0s 12ms/step - loss: 0.6931 - accuracy: 0.5437\n",
      "Epoch 77/100\n",
      "27/27 [==============================] - 0s 12ms/step - loss: 0.6931 - accuracy: 0.5047\n",
      "Epoch 78/100\n",
      "27/27 [==============================] - 0s 12ms/step - loss: 0.6931 - accuracy: 0.5106\n",
      "Epoch 79/100\n",
      "27/27 [==============================] - 0s 12ms/step - loss: 0.6931 - accuracy: 0.5201\n",
      "Epoch 80/100\n",
      "27/27 [==============================] - 0s 12ms/step - loss: 0.6931 - accuracy: 0.5059\n",
      "Epoch 81/100\n",
      "27/27 [==============================] - 0s 12ms/step - loss: 0.6931 - accuracy: 0.5236\n",
      "Epoch 82/100\n"
     ]
    },
    {
     "name": "stdout",
     "output_type": "stream",
     "text": [
      "27/27 [==============================] - 0s 12ms/step - loss: 0.6931 - accuracy: 0.5154\n",
      "Epoch 83/100\n",
      "27/27 [==============================] - 0s 12ms/step - loss: 0.6931 - accuracy: 0.5083\n",
      "Epoch 84/100\n",
      "27/27 [==============================] - 0s 12ms/step - loss: 0.6931 - accuracy: 0.4858\n",
      "Epoch 85/100\n",
      "27/27 [==============================] - 0s 12ms/step - loss: 0.6931 - accuracy: 0.5035\n",
      "Epoch 86/100\n",
      "27/27 [==============================] - 0s 12ms/step - loss: 0.6931 - accuracy: 0.5213\n",
      "Epoch 87/100\n",
      "27/27 [==============================] - 0s 12ms/step - loss: 0.6931 - accuracy: 0.5154\n",
      "Epoch 88/100\n",
      "27/27 [==============================] - 0s 12ms/step - loss: 0.6931 - accuracy: 0.4846\n",
      "Epoch 89/100\n",
      "27/27 [==============================] - 0s 12ms/step - loss: 0.6931 - accuracy: 0.4941\n",
      "Epoch 90/100\n",
      "27/27 [==============================] - 0s 12ms/step - loss: 0.6931 - accuracy: 0.5106\n",
      "Epoch 91/100\n",
      "27/27 [==============================] - 0s 12ms/step - loss: 0.6931 - accuracy: 0.4976\n",
      "Epoch 92/100\n",
      "27/27 [==============================] - 0s 12ms/step - loss: 0.6931 - accuracy: 0.5071\n",
      "Epoch 93/100\n",
      "27/27 [==============================] - 0s 12ms/step - loss: 0.6931 - accuracy: 0.4976\n",
      "Epoch 94/100\n",
      "27/27 [==============================] - 1s 21ms/step - loss: 0.6931 - accuracy: 0.5165\n",
      "Epoch 95/100\n",
      "27/27 [==============================] - 0s 13ms/step - loss: 0.6931 - accuracy: 0.5012\n",
      "Epoch 96/100\n",
      "27/27 [==============================] - 0s 12ms/step - loss: 0.6931 - accuracy: 0.5035\n",
      "Epoch 97/100\n",
      "27/27 [==============================] - 0s 12ms/step - loss: 0.6931 - accuracy: 0.5213\n",
      "Epoch 98/100\n",
      "27/27 [==============================] - 0s 12ms/step - loss: 0.6931 - accuracy: 0.4823\n",
      "Epoch 99/100\n",
      "27/27 [==============================] - 0s 12ms/step - loss: 0.6931 - accuracy: 0.4858\n",
      "Epoch 100/100\n",
      "27/27 [==============================] - 0s 12ms/step - loss: 0.6931 - accuracy: 0.4787\n"
     ]
    },
    {
     "data": {
      "text/plain": [
       "<tensorflow.python.keras.callbacks.History at 0x7f78ac3e3070>"
      ]
     },
     "execution_count": 109,
     "metadata": {},
     "output_type": "execute_result"
    }
   ],
   "source": [
    "model.fit_generator(train, \n",
    "                    steps_per_epoch=len(X_train) // batch_size, verbose=True, epochs=100)"
   ]
  },
  {
   "cell_type": "code",
   "execution_count": null,
   "metadata": {},
   "outputs": [],
   "source": [
    "imshow(X_train[0,:,:,0]), y_train[0]"
   ]
  },
  {
   "cell_type": "code",
   "execution_count": 111,
   "metadata": {},
   "outputs": [],
   "source": [
    "from sklearn.ensemble import RandomForestClassifier\n"
   ]
  },
  {
   "cell_type": "code",
   "execution_count": 112,
   "metadata": {},
   "outputs": [],
   "source": [
    "rf = RandomForestClassifier()"
   ]
  },
  {
   "cell_type": "code",
   "execution_count": 118,
   "metadata": {},
   "outputs": [
    {
     "data": {
      "text/plain": [
       "RandomForestClassifier()"
      ]
     },
     "execution_count": 118,
     "metadata": {},
     "output_type": "execute_result"
    }
   ],
   "source": [
    "X_train_raveled = X_train.reshape(X_train.shape[0], X_train.shape[1]*X_train.shape[2])\n",
    "X_test_raveled = X_test.reshape(X_test.shape[0], X_test.shape[1]*X_test.shape[2])\n",
    "\n",
    "rf.fit(X_train_raveled, y_train)"
   ]
  },
  {
   "cell_type": "code",
   "execution_count": 121,
   "metadata": {},
   "outputs": [],
   "source": [
    "y_pred = rf.predict(X_test_raveled)"
   ]
  },
  {
   "cell_type": "code",
   "execution_count": 122,
   "metadata": {},
   "outputs": [],
   "source": [
    "import sklearn.metrics"
   ]
  },
  {
   "cell_type": "code",
   "execution_count": 124,
   "metadata": {},
   "outputs": [
    {
     "data": {
      "text/plain": [
       "0.8012820512820513"
      ]
     },
     "execution_count": 124,
     "metadata": {},
     "output_type": "execute_result"
    }
   ],
   "source": [
    "sklearn.metrics.accuracy_score(y_test, y_pred)"
   ]
  },
  {
   "cell_type": "code",
   "execution_count": 125,
   "metadata": {},
   "outputs": [
    {
     "data": {
      "text/plain": [
       "0.8228571428571428"
      ]
     },
     "execution_count": 125,
     "metadata": {},
     "output_type": "execute_result"
    }
   ],
   "source": [
    "sklearn.metrics.f1_score(y_test, y_pred)"
   ]
  },
  {
   "cell_type": "code",
   "execution_count": 126,
   "metadata": {},
   "outputs": [
    {
     "data": {
      "text/plain": [
       "array([0, 0, 1, 0, 1, 0, 1, 0, 1, 1, 1, 1, 1, 0, 1, 1, 1, 0, 1, 1, 1, 0,\n",
       "       1, 1, 1, 0, 1, 0, 0, 1, 0, 1, 0, 1, 0, 1, 1, 1, 1, 1, 1, 1, 0, 1,\n",
       "       0, 0, 0, 0, 1, 0, 0, 1, 1, 0, 0, 1, 0, 1, 0, 1, 1, 1, 0, 1, 0, 0,\n",
       "       1, 0, 1, 0, 1, 0, 1, 0, 1, 1, 1, 1, 0, 1, 1, 1, 0, 1, 0, 1, 1, 1,\n",
       "       0, 0, 1, 0, 0, 1, 1, 1, 0, 1, 1, 0, 1, 1, 0, 0, 1, 0, 1, 1, 1, 1,\n",
       "       1, 1, 1, 1, 0, 1, 1, 1, 1, 0, 0, 0, 1, 0, 1, 1, 1, 0, 1, 0, 0, 0,\n",
       "       0, 1, 1, 0, 0, 0, 1, 0, 1, 1, 1, 1, 0, 1, 0, 1, 0, 1, 1, 1, 0, 1,\n",
       "       0, 1])"
      ]
     },
     "execution_count": 126,
     "metadata": {},
     "output_type": "execute_result"
    }
   ],
   "source": [
    "y_pred"
   ]
  },
  {
   "cell_type": "code",
   "execution_count": 127,
   "metadata": {},
   "outputs": [
    {
     "data": {
      "text/plain": [
       "array([1, 0, 1, 0, 1, 0, 0, 0, 0, 0, 0, 0, 1, 1, 1, 1, 1, 0, 1, 1, 1, 0,\n",
       "       0, 0, 1, 0, 1, 0, 0, 0, 0, 1, 0, 1, 0, 1, 1, 1, 1, 0, 1, 0, 0, 1,\n",
       "       0, 1, 0, 0, 1, 0, 0, 0, 1, 0, 0, 1, 0, 1, 1, 1, 1, 1, 0, 0, 0, 0,\n",
       "       1, 0, 1, 1, 1, 0, 0, 0, 1, 1, 1, 0, 0, 1, 1, 1, 0, 1, 0, 1, 1, 1,\n",
       "       0, 1, 0, 0, 1, 1, 1, 1, 1, 1, 1, 0, 1, 0, 0, 1, 1, 0, 1, 0, 1, 1,\n",
       "       1, 1, 1, 0, 0, 1, 1, 1, 1, 0, 0, 0, 0, 0, 1, 1, 1, 0, 1, 0, 0, 0,\n",
       "       0, 0, 1, 0, 0, 0, 1, 0, 1, 1, 1, 1, 0, 1, 0, 1, 0, 1, 1, 1, 0, 0,\n",
       "       1, 1])"
      ]
     },
     "execution_count": 127,
     "metadata": {},
     "output_type": "execute_result"
    }
   ],
   "source": [
    "y_test"
   ]
  },
  {
   "cell_type": "code",
   "execution_count": null,
   "metadata": {},
   "outputs": [],
   "source": []
  }
 ],
 "metadata": {
  "kernelspec": {
   "display_name": "Python 3",
   "language": "python",
   "name": "python3"
  },
  "language_info": {
   "codemirror_mode": {
    "name": "ipython",
    "version": 3
   },
   "file_extension": ".py",
   "mimetype": "text/x-python",
   "name": "python",
   "nbconvert_exporter": "python",
   "pygments_lexer": "ipython3",
   "version": "3.8.5"
  }
 },
 "nbformat": 4,
 "nbformat_minor": 5
}
