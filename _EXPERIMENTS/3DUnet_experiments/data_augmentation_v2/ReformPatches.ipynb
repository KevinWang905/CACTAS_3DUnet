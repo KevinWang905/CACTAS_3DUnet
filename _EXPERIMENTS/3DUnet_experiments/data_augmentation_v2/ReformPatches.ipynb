{
 "cells": [
  {
   "cell_type": "code",
   "execution_count": 2,
   "metadata": {},
   "outputs": [],
   "source": [
    "import nrrd\n",
    "import numpy as np\n",
    "import os\n",
    "import matplotlib.pyplot as plt\n",
    "import cv2\n",
    "import random"
   ]
  },
  {
   "cell_type": "code",
   "execution_count": 3,
   "metadata": {},
   "outputs": [],
   "source": [
    "testlist = [18]"
   ]
  },
  {
   "cell_type": "code",
   "execution_count": 4,
   "metadata": {},
   "outputs": [],
   "source": [
    "for number in testlist:\n",
    "\n",
    "    ca, _ = nrrd.read(\"../../CA/\"+str(number)+\".ca.seg.nrrd\")\n",
    "    dilation_size = 3\n",
    "    element = cv2.getStructuringElement(cv2.MORPH_ELLIPSE, (2 * dilation_size + 1, 2 * dilation_size + 1), (dilation_size, dilation_size))\n",
    "    for i in range(0, ca.shape[2]):\n",
    "        ca[:,:,i] = cv2.dilate(ca[:,:,i], element)\n",
    "    ca_copy = ca.copy()\n",
    "    full_ct, _ =  nrrd.read(\"../../ESUS/\"+str(number)+\".img.nrrd\")\n",
    "    masked = ca * full_ct\n",
    "    masked = (masked-np.min(masked)) / (np.max(masked)-np.min(masked))\n",
    "    gt, _ =  nrrd.read(\"../../ESUS/\"+str(number)+\".b.seg.nrrd\")\n",
    "    gt[gt>1] = 1 # make all plaque segments 1 instead of a new number for each one\n",
    "\n",
    "    patch_coords = [gt.shape]\n",
    "\n",
    "    current_volume = 1\n",
    "    for i in range(0, ca.shape[2]):\n",
    "        if np.sum(ca[:,:,i]) > 0:\n",
    "            \n",
    "            contours, _ = cv2.findContours(ca[:,:,i], mode=cv2.RETR_EXTERNAL, method=cv2.CHAIN_APPROX_SIMPLE)\n",
    "            for c in contours:\n",
    "                try:\n",
    "                    # compute the center of the contour\n",
    "                    M = cv2.moments(c)\n",
    "                    cX = int(M[\"m10\"] / M[\"m00\"])\n",
    "                    cY = int(M[\"m01\"] / M[\"m00\"])\n",
    "                    \n",
    "                    volume = masked[int(cY-32):int(cY+32), int(cX-32):int(cX+32), i:i+64]\n",
    "                    nrrd.write(\"./test_data/reform/inputs/\"+str(number)+\"_volume_\"+str(current_volume)+\".nrrd\", volume)\n",
    "\n",
    "                    volume_gt = gt[int(cY-32):int(cY+32), int(cX-32):int(cX+32), i:i+64]\n",
    "                    nrrd.write(\"./test_data/reform/gt/\"+str(number)+\"_volume_\"+str(current_volume)+\".nrrd\", volume_gt)\n",
    "\n",
    "                    ca[int(cY-32):int(cY+32), int(cX-32):int(cX+32), i:i+64] = 0\n",
    "\n",
    "                    patch_coords.append([current_volume, int(cY-32), int(cY+32), int(cX-32), int(cX+32), i, i+64])\n",
    "                    #print(int(cY-32), int(cY+32), int(cX-32), int(cX+32), i, i+64)\n",
    "                    \n",
    "                    current_volume += 1\n",
    "                except:\n",
    "                    pass"
   ]
  },
  {
   "cell_type": "code",
   "execution_count": 5,
   "metadata": {},
   "outputs": [
    {
     "data": {
      "text/plain": [
       "[(512, 512, 211),\n",
       " [1, 311, 375, 179, 243, 27, 91],\n",
       " [2, 243, 307, 139, 203, 33, 97],\n",
       " [3, 209, 273, 143, 207, 40, 104],\n",
       " [4, 188, 252, 175, 239, 54, 118],\n",
       " [5, 220, 284, 175, 239, 66, 130],\n",
       " [6, 168, 232, 137, 201, 88, 152],\n",
       " [7, 311, 375, 145, 209, 90, 154],\n",
       " [8, 152, 216, 172, 236, 103, 167],\n",
       " [9, 186, 250, 175, 239, 118, 182],\n",
       " [10, 124, 188, 204, 268, 121, 185],\n",
       " [11, 328, 392, 177, 241, 122, 186],\n",
       " [12, 276, 340, 162, 226, 122, 186],\n",
       " [13, 173, 237, 207, 271, 129, 193]]"
      ]
     },
     "execution_count": 5,
     "metadata": {},
     "output_type": "execute_result"
    }
   ],
   "source": [
    "patch_coords"
   ]
  },
  {
   "cell_type": "code",
   "execution_count": 6,
   "metadata": {},
   "outputs": [
    {
     "name": "stdout",
     "output_type": "stream",
     "text": [
      "[[512, 512, 211], [1, 311, 375, 179, 243, 27, 91], [2, 243, 307, 139, 203, 33, 97], [3, 209, 273, 143, 207, 40, 104], [4, 188, 252, 175, 239, 54, 118], [5, 220, 284, 175, 239, 66, 130], [6, 168, 232, 137, 201, 88, 152], [7, 311, 375, 145, 209, 90, 154], [8, 152, 216, 172, 236, 103, 167], [9, 186, 250, 175, 239, 118, 182], [10, 124, 188, 204, 268, 121, 185], [11, 328, 392, 177, 241, 122, 186], [12, 276, 340, 162, 226, 122, 186], [13, 173, 237, 207, 271, 129, 193]]\n"
     ]
    }
   ],
   "source": [
    "import json\n",
    "\n",
    "with open(\"patch_coords.json\", 'w') as f:\n",
    "    # indent=2 is not needed but makes the file human-readable \n",
    "    # if the data is nested\n",
    "    json.dump(patch_coords, f, indent=2) \n",
    "\n",
    "with open(\"patch_coords.json\", 'r') as f:\n",
    "    p_coords = json.load(f)\n",
    "\n",
    "print(p_coords)"
   ]
  },
  {
   "cell_type": "code",
   "execution_count": 9,
   "metadata": {},
   "outputs": [],
   "source": [
    "# Start Reforming"
   ]
  },
  {
   "cell_type": "code",
   "execution_count": 9,
   "metadata": {},
   "outputs": [],
   "source": [
    "reformation = np.zeros(shape=(p_coords[0]))"
   ]
  },
  {
   "cell_type": "code",
   "execution_count": 15,
   "metadata": {},
   "outputs": [
    {
     "name": "stdout",
     "output_type": "stream",
     "text": [
      "[1, 311, 375, 179, 243, 27, 91]\n",
      "[2, 243, 307, 139, 203, 33, 97]\n",
      "[3, 209, 273, 143, 207, 40, 104]\n",
      "[4, 188, 252, 175, 239, 54, 118]\n",
      "[5, 220, 284, 175, 239, 66, 130]\n",
      "[6, 168, 232, 137, 201, 88, 152]\n",
      "[7, 311, 375, 145, 209, 90, 154]\n",
      "[8, 152, 216, 172, 236, 103, 167]\n",
      "[9, 186, 250, 175, 239, 118, 182]\n",
      "[10, 124, 188, 204, 268, 121, 185]\n",
      "[11, 328, 392, 177, 241, 122, 186]\n",
      "[12, 276, 340, 162, 226, 122, 186]\n",
      "[13, 173, 237, 207, 271, 129, 193]\n"
     ]
    }
   ],
   "source": [
    "number = 18\n",
    "for patch in range(1, len(p_coords)):\n",
    "    print(p_coords[patch])\n",
    "    patch_path = \"./test_data/reform/gt/\"+str(number)+\"_volume_\"+str(p_coords[patch][0])+\".nrrd\"\n",
    "    try:\n",
    "        patch_data, _ = nrrd.read(patch_path)\n",
    "        reformation[p_coords[patch][1]:p_coords[patch][2], p_coords[patch][3]:p_coords[patch][4], p_coords[patch][5]:p_coords[patch][6]] += patch_data\n",
    "    except:\n",
    "        pass\n",
    "reformation[reformation > 1] = 1"
   ]
  },
  {
   "cell_type": "code",
   "execution_count": 16,
   "metadata": {},
   "outputs": [],
   "source": [
    "nrrd.write(\"./test_data/reform/predictions/test_gt_reform.nrrd\", reformation)"
   ]
  },
  {
   "cell_type": "code",
   "execution_count": null,
   "metadata": {},
   "outputs": [],
   "source": []
  }
 ],
 "metadata": {
  "kernelspec": {
   "display_name": "Python 3 (ipykernel)",
   "language": "python",
   "name": "python3"
  },
  "language_info": {
   "codemirror_mode": {
    "name": "ipython",
    "version": 3
   },
   "file_extension": ".py",
   "mimetype": "text/x-python",
   "name": "python",
   "nbconvert_exporter": "python",
   "pygments_lexer": "ipython3",
   "version": "3.12.3"
  }
 },
 "nbformat": 4,
 "nbformat_minor": 4
}
