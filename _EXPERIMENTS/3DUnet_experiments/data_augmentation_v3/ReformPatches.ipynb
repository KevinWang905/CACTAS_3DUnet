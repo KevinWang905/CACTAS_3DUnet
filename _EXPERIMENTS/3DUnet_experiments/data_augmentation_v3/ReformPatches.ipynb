{
 "cells": [
  {
   "cell_type": "code",
   "execution_count": 3,
   "metadata": {},
   "outputs": [],
   "source": [
    "import nrrd\n",
    "import numpy as np\n",
    "import os\n",
    "import matplotlib.pyplot as plt\n",
    "import cv2\n",
    "import random\n",
    "import json\n"
   ]
  },
  {
   "cell_type": "code",
   "execution_count": 2,
   "metadata": {},
   "outputs": [],
   "source": [
    "seg_list = [2, 5, 6, 7, 9, 11, 12, 13, 14, 17, 18, 21, 25, 26, 29, 31, 32, 33, 35, 40, 45, 46, 48, 49, 52, 57, 60, 61, 63, 64, 69, 72, 75, 79, 83, 84, 87, 88, 91, 92, 95, 96, 97]"
   ]
  },
  {
   "cell_type": "code",
   "execution_count": 3,
   "metadata": {},
   "outputs": [],
   "source": [
    "testlist = [18]"
   ]
  },
  {
   "cell_type": "code",
   "execution_count": 7,
   "metadata": {},
   "outputs": [
    {
     "name": "stdout",
     "output_type": "stream",
     "text": [
      "Processing: 2\n",
      "./test_data/patch_coords/2_patch_coords.json\n",
      "Processing: 5\n",
      "./test_data/patch_coords/5_patch_coords.json\n",
      "Processing: 6\n",
      "./test_data/patch_coords/6_patch_coords.json\n",
      "Processing: 7\n",
      "./test_data/patch_coords/7_patch_coords.json\n",
      "Processing: 9\n",
      "./test_data/patch_coords/9_patch_coords.json\n",
      "Processing: 11\n",
      "./test_data/patch_coords/11_patch_coords.json\n",
      "Processing: 12\n",
      "./test_data/patch_coords/12_patch_coords.json\n",
      "Processing: 13\n",
      "./test_data/patch_coords/13_patch_coords.json\n",
      "Processing: 14\n",
      "./test_data/patch_coords/14_patch_coords.json\n",
      "Processing: 17\n",
      "./test_data/patch_coords/17_patch_coords.json\n",
      "Processing: 18\n",
      "./test_data/patch_coords/18_patch_coords.json\n",
      "Processing: 21\n",
      "./test_data/patch_coords/21_patch_coords.json\n",
      "Processing: 25\n",
      "./test_data/patch_coords/25_patch_coords.json\n",
      "Processing: 26\n",
      "./test_data/patch_coords/26_patch_coords.json\n",
      "Processing: 29\n",
      "./test_data/patch_coords/29_patch_coords.json\n",
      "Processing: 31\n",
      "./test_data/patch_coords/31_patch_coords.json\n",
      "Processing: 32\n",
      "./test_data/patch_coords/32_patch_coords.json\n",
      "Processing: 33\n",
      "./test_data/patch_coords/33_patch_coords.json\n",
      "Processing: 35\n",
      "./test_data/patch_coords/35_patch_coords.json\n",
      "Processing: 40\n",
      "./test_data/patch_coords/40_patch_coords.json\n",
      "Processing: 45\n",
      "./test_data/patch_coords/45_patch_coords.json\n",
      "Processing: 46\n",
      "./test_data/patch_coords/46_patch_coords.json\n",
      "Processing: 48\n",
      "./test_data/patch_coords/48_patch_coords.json\n",
      "Processing: 49\n",
      "./test_data/patch_coords/49_patch_coords.json\n",
      "Processing: 52\n",
      "./test_data/patch_coords/52_patch_coords.json\n",
      "Processing: 57\n",
      "./test_data/patch_coords/57_patch_coords.json\n",
      "Processing: 60\n",
      "./test_data/patch_coords/60_patch_coords.json\n",
      "Processing: 61\n",
      "./test_data/patch_coords/61_patch_coords.json\n",
      "Processing: 63\n",
      "./test_data/patch_coords/63_patch_coords.json\n",
      "Processing: 64\n",
      "./test_data/patch_coords/64_patch_coords.json\n",
      "Processing: 69\n",
      "./test_data/patch_coords/69_patch_coords.json\n",
      "Processing: 72\n",
      "./test_data/patch_coords/72_patch_coords.json\n",
      "Processing: 75\n",
      "./test_data/patch_coords/75_patch_coords.json\n",
      "Processing: 79\n",
      "./test_data/patch_coords/79_patch_coords.json\n",
      "Processing: 83\n",
      "./test_data/patch_coords/83_patch_coords.json\n",
      "Processing: 84\n",
      "./test_data/patch_coords/84_patch_coords.json\n",
      "Processing: 87\n",
      "./test_data/patch_coords/87_patch_coords.json\n",
      "Processing: 88\n",
      "./test_data/patch_coords/88_patch_coords.json\n",
      "Processing: 91\n",
      "./test_data/patch_coords/91_patch_coords.json\n",
      "Processing: 92\n",
      "./test_data/patch_coords/92_patch_coords.json\n",
      "Processing: 95\n",
      "./test_data/patch_coords/95_patch_coords.json\n",
      "Processing: 96\n",
      "./test_data/patch_coords/96_patch_coords.json\n",
      "Processing: 97\n",
      "./test_data/patch_coords/97_patch_coords.json\n"
     ]
    }
   ],
   "source": [
    "for number in seg_list:\n",
    "\n",
    "    print(\"Processing: \" + str(number))\n",
    "\n",
    "    ca, _ = nrrd.read(\"../../CA/\"+str(number)+\".ca.seg.nrrd\")\n",
    "    dilation_size = 3\n",
    "    element = cv2.getStructuringElement(cv2.MORPH_ELLIPSE, (2 * dilation_size + 1, 2 * dilation_size + 1), (dilation_size, dilation_size))\n",
    "    for i in range(0, ca.shape[2]):\n",
    "        ca[:,:,i] = cv2.dilate(ca[:,:,i], element)\n",
    "    ca_copy = ca.copy()\n",
    "    full_ct, _ =  nrrd.read(\"../../ESUS/\"+str(number)+\".img.nrrd\")\n",
    "    masked = ca * full_ct\n",
    "    masked = (masked-np.min(masked)) / (np.max(masked)-np.min(masked))\n",
    "    gt, _ =  nrrd.read(\"../../ESUS/\"+str(number)+\".b.seg.nrrd\")\n",
    "    gt[gt>1] = 1 # make all plaque segments 1 instead of a new number for each one\n",
    "\n",
    "    patch_coords = [gt.shape]\n",
    "\n",
    "    current_volume = 1\n",
    "    for i in range(0, ca.shape[2]):\n",
    "        if np.sum(ca[:,:,i]) > 0:\n",
    "            \n",
    "            contours, _ = cv2.findContours(ca[:,:,i], mode=cv2.RETR_EXTERNAL, method=cv2.CHAIN_APPROX_SIMPLE)\n",
    "            for c in contours:\n",
    "                try:\n",
    "                    # compute the center of the contour\n",
    "                    M = cv2.moments(c)\n",
    "                    cX = int(M[\"m10\"] / M[\"m00\"])\n",
    "                    cY = int(M[\"m01\"] / M[\"m00\"])\n",
    "                    \n",
    "                    # volume = masked[int(cY-32):int(cY+32), int(cX-32):int(cX+32), i:i+64]\n",
    "                    # nrrd.write(\"./test_data/reform/inputs/\"+str(number)+\"_volume_\"+str(current_volume)+\".nrrd\", volume)\n",
    "\n",
    "                    # volume_gt = gt[int(cY-32):int(cY+32), int(cX-32):int(cX+32), i:i+64]\n",
    "                    # nrrd.write(\"./test_data/reform/gt/\"+str(number)+\"_volume_\"+str(current_volume)+\".nrrd\", volume_gt)\n",
    "\n",
    "                    ca[int(cY-32):int(cY+32), int(cX-32):int(cX+32), i:i+64] = 0\n",
    "\n",
    "                    patch_coords.append([current_volume, int(cY-32), int(cY+32), int(cX-32), int(cX+32), i, i+64])\n",
    "                    #print(int(cY-32), int(cY+32), int(cX-32), int(cX+32), i, i+64)\n",
    "                    \n",
    "                    current_volume += 1\n",
    "                except:\n",
    "                    pass\n",
    "    savepath = \"./test_data/patch_coords/\" + str(number)+\"_patch_coords.json\"\n",
    "    print(savepath)\n",
    "    with open(savepath, 'w') as f:\n",
    "    # indent=2 is not needed but makes the file human-readable \n",
    "    # if the data is nested\n",
    "        json.dump(patch_coords, f, indent=2) "
   ]
  },
  {
   "cell_type": "code",
   "execution_count": 9,
   "metadata": {},
   "outputs": [
    {
     "name": "stdout",
     "output_type": "stream",
     "text": [
      "./test_data/reform/gt/2.nrrd\n",
      "./test_data/reform/gt/5.nrrd\n",
      "./test_data/reform/gt/6.nrrd\n",
      "./test_data/reform/gt/7.nrrd\n",
      "./test_data/reform/gt/9.nrrd\n",
      "./test_data/reform/gt/11.nrrd\n",
      "./test_data/reform/gt/12.nrrd\n",
      "./test_data/reform/gt/13.nrrd\n",
      "./test_data/reform/gt/14.nrrd\n",
      "./test_data/reform/gt/17.nrrd\n",
      "./test_data/reform/gt/18.nrrd\n",
      "./test_data/reform/gt/21.nrrd\n",
      "./test_data/reform/gt/25.nrrd\n",
      "./test_data/reform/gt/26.nrrd\n",
      "./test_data/reform/gt/29.nrrd\n",
      "./test_data/reform/gt/31.nrrd\n",
      "./test_data/reform/gt/32.nrrd\n",
      "./test_data/reform/gt/33.nrrd\n",
      "./test_data/reform/gt/35.nrrd\n",
      "./test_data/reform/gt/40.nrrd\n",
      "./test_data/reform/gt/45.nrrd\n",
      "./test_data/reform/gt/46.nrrd\n",
      "./test_data/reform/gt/48.nrrd\n",
      "./test_data/reform/gt/49.nrrd\n",
      "./test_data/reform/gt/52.nrrd\n",
      "./test_data/reform/gt/57.nrrd\n",
      "./test_data/reform/gt/60.nrrd\n",
      "./test_data/reform/gt/61.nrrd\n",
      "./test_data/reform/gt/63.nrrd\n",
      "./test_data/reform/gt/64.nrrd\n",
      "./test_data/reform/gt/69.nrrd\n",
      "./test_data/reform/gt/72.nrrd\n",
      "./test_data/reform/gt/75.nrrd\n",
      "./test_data/reform/gt/79.nrrd\n",
      "./test_data/reform/gt/83.nrrd\n",
      "./test_data/reform/gt/84.nrrd\n",
      "./test_data/reform/gt/87.nrrd\n",
      "./test_data/reform/gt/88.nrrd\n",
      "./test_data/reform/gt/91.nrrd\n",
      "./test_data/reform/gt/92.nrrd\n",
      "./test_data/reform/gt/95.nrrd\n",
      "./test_data/reform/gt/96.nrrd\n",
      "./test_data/reform/gt/97.nrrd\n"
     ]
    }
   ],
   "source": [
    "for number in seg_list:\n",
    "    gt, _ =  nrrd.read(\"../../ESUS/\"+str(number)+\".b.seg.nrrd\")\n",
    "    gt[gt>1] = 1 # make all plaque segments 1 instead of a new number for each one\n",
    "    print(\"./test_data/reform/gt/\"+str(number)+\".nrrd\")\n",
    "    nrrd.write(\"./test_data/reform/gt/\"+str(number)+\".nrrd\", gt)"
   ]
  },
  {
   "cell_type": "code",
   "execution_count": 6,
   "metadata": {},
   "outputs": [
    {
     "name": "stdout",
     "output_type": "stream",
     "text": [
      "[[512, 512, 211], [1, 311, 375, 179, 243, 27, 91], [2, 243, 307, 139, 203, 33, 97], [3, 209, 273, 143, 207, 40, 104], [4, 188, 252, 175, 239, 54, 118], [5, 220, 284, 175, 239, 66, 130], [6, 168, 232, 137, 201, 88, 152], [7, 311, 375, 145, 209, 90, 154], [8, 152, 216, 172, 236, 103, 167], [9, 186, 250, 175, 239, 118, 182], [10, 124, 188, 204, 268, 121, 185], [11, 328, 392, 177, 241, 122, 186], [12, 276, 340, 162, 226, 122, 186], [13, 173, 237, 207, 271, 129, 193]]\n"
     ]
    }
   ],
   "source": [
    "\n",
    "with open(\"patch_coords.json\", 'w') as f:\n",
    "    # indent=2 is not needed but makes the file human-readable \n",
    "    # if the data is nested\n",
    "    json.dump(patch_coords, f, indent=2) \n",
    "\n",
    "with open(\"patch_coords.json\", 'r') as f:\n",
    "    p_coords = json.load(f)\n",
    "\n",
    "print(p_coords)"
   ]
  },
  {
   "cell_type": "code",
   "execution_count": 9,
   "metadata": {},
   "outputs": [],
   "source": [
    "# Start Reforming"
   ]
  },
  {
   "cell_type": "code",
   "execution_count": 9,
   "metadata": {},
   "outputs": [],
   "source": [
    "reformation = np.zeros(shape=(p_coords[0]))"
   ]
  },
  {
   "cell_type": "code",
   "execution_count": 15,
   "metadata": {},
   "outputs": [
    {
     "name": "stdout",
     "output_type": "stream",
     "text": [
      "[1, 311, 375, 179, 243, 27, 91]\n",
      "[2, 243, 307, 139, 203, 33, 97]\n",
      "[3, 209, 273, 143, 207, 40, 104]\n",
      "[4, 188, 252, 175, 239, 54, 118]\n",
      "[5, 220, 284, 175, 239, 66, 130]\n",
      "[6, 168, 232, 137, 201, 88, 152]\n",
      "[7, 311, 375, 145, 209, 90, 154]\n",
      "[8, 152, 216, 172, 236, 103, 167]\n",
      "[9, 186, 250, 175, 239, 118, 182]\n",
      "[10, 124, 188, 204, 268, 121, 185]\n",
      "[11, 328, 392, 177, 241, 122, 186]\n",
      "[12, 276, 340, 162, 226, 122, 186]\n",
      "[13, 173, 237, 207, 271, 129, 193]\n"
     ]
    }
   ],
   "source": [
    "number = 18\n",
    "for patch in range(1, len(p_coords)):\n",
    "    print(p_coords[patch])\n",
    "    patch_path = \"./test_data/reform/gt/\"+str(number)+\"_volume_\"+str(p_coords[patch][0])+\".nrrd\"\n",
    "    try:\n",
    "        patch_data, _ = nrrd.read(patch_path)\n",
    "        reformation[p_coords[patch][1]:p_coords[patch][2], p_coords[patch][3]:p_coords[patch][4], p_coords[patch][5]:p_coords[patch][6]] += patch_data\n",
    "    except:\n",
    "        pass\n",
    "reformation[reformation > 1] = 1"
   ]
  },
  {
   "cell_type": "code",
   "execution_count": 16,
   "metadata": {},
   "outputs": [],
   "source": [
    "nrrd.write(\"./test_data/reform/predictions/test_gt_reform.nrrd\", reformation)"
   ]
  },
  {
   "cell_type": "code",
   "execution_count": null,
   "metadata": {},
   "outputs": [],
   "source": []
  }
 ],
 "metadata": {
  "kernelspec": {
   "display_name": "Python 3 (ipykernel)",
   "language": "python",
   "name": "python3"
  },
  "language_info": {
   "codemirror_mode": {
    "name": "ipython",
    "version": 3
   },
   "file_extension": ".py",
   "mimetype": "text/x-python",
   "name": "python",
   "nbconvert_exporter": "python",
   "pygments_lexer": "ipython3",
   "version": "3.12.3"
  }
 },
 "nbformat": 4,
 "nbformat_minor": 4
}
