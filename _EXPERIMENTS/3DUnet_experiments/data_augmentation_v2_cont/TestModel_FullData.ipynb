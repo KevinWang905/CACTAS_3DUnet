{
 "cells": [
  {
   "cell_type": "code",
   "execution_count": 1,
   "id": "3136c0e6-71aa-41de-905e-4b1c102f344c",
   "metadata": {},
   "outputs": [
    {
     "name": "stderr",
     "output_type": "stream",
     "text": [
      "2024-06-26 11:03:47.090120: I tensorflow/core/platform/cpu_feature_guard.cc:210] This TensorFlow binary is optimized to use available CPU instructions in performance-critical operations.\n",
      "To enable the following instructions: AVX2 AVX512F FMA, in other operations, rebuild TensorFlow with the appropriate compiler flags.\n",
      "2024-06-26 11:03:47.680868: W tensorflow/compiler/tf2tensorrt/utils/py_utils.cc:38] TF-TRT Warning: Could not find TensorRT\n"
     ]
    },
    {
     "name": "stdout",
     "output_type": "stream",
     "text": [
      "------------------------------------------------------------------------------------------------\n",
      "2.16.1\n",
      "[PhysicalDevice(name='/physical_device:GPU:0', device_type='GPU')]\n",
      "------------------------------------------------------------------------------------------------\n"
     ]
    }
   ],
   "source": [
    "import tensorflow as tf\n",
    "import tensorflow.keras.backend as K\n",
    "import numpy as np\n",
    "import nrrd\n",
    "print(\"------------------------------------------------------------------------------------------------\")\n",
    "print(tf.__version__)\n",
    "print(tf.config.list_physical_devices('GPU'))\n",
    "print(\"------------------------------------------------------------------------------------------------\")"
   ]
  },
  {
   "cell_type": "code",
   "execution_count": 2,
   "id": "59d89d3f-4439-46c5-b545-cab9f4bb676c",
   "metadata": {},
   "outputs": [],
   "source": [
    "\n",
    "def encoder_block(inputs, output_channels, lastlayer=False):\n",
    "    \"\"\"\n",
    "    Two 3x3x3 convolutions with batch normalization and ReLU activation\n",
    "    2x2x2 max pool\n",
    "    \"\"\"\n",
    "\n",
    "    # 3x3x3 convolutions with ReLU activation\n",
    "    x = tf.keras.layers.Conv3D(int(output_channels/2), kernel_size=3, strides=1, padding='same')(inputs)\n",
    "    x = tf.keras.layers.BatchNormalization()(x)\n",
    "    x = tf.keras.layers.ReLU()(x)\n",
    "    x = tf.keras.layers.Conv3D(output_channels, kernel_size=3, strides=1, padding='same')(x)\n",
    "    x = tf.keras.layers.BatchNormalization()(x)\n",
    "    x = tf.keras.layers.ReLU()(x)\n",
    "\n",
    "    # 2x2x2 max pool\n",
    "\n",
    "    if not lastlayer:\n",
    "        x_maxPool = tf.keras.layers.MaxPool3D(pool_size=2, strides=2, padding = 'same')(x)\n",
    "    else:\n",
    "        x_maxPool = x\n",
    "\n",
    "    return x, x_maxPool\n",
    "\n",
    "def decoder_block(inputs, skip_features, output_channels):\n",
    "\n",
    "    # Upsampling with 2x2x2 filter\n",
    "    x = tf.keras.layers.Conv3DTranspose(output_channels*2, kernel_size=2, strides=2, padding = 'same')(inputs)\n",
    "\n",
    "# Concatenate the skip features\n",
    "    x = tf.keras.layers.Concatenate()([x, skip_features])\n",
    "\n",
    "    # 2 convolutions with 3x3 filter, batch normalization, ReLU activation\n",
    "    x = tf.keras.layers.Conv3D(output_channels, kernel_size=3, strides=1, padding = 'same')(x)\n",
    "    x = tf.keras.layers.BatchNormalization()(x)\n",
    "    x = tf.keras.layers.ReLU()(x)\n",
    "\n",
    "    x = tf.keras.layers.Conv3D(output_channels, kernel_size=3, strides=1, padding = 'same')(x)\n",
    "    x = tf.keras.layers.BatchNormalization()(x)\n",
    "    x = tf.keras.layers.ReLU()(x)\n",
    "\n",
    "    return x\n",
    "\n",
    "def unet_3D():\n",
    "    inputs = tf.keras.Input(shape=(64, 64, 64, 1,))\n",
    "\n",
    "    e1_skip, e1_maxpool = encoder_block(inputs, 64)\n",
    "    e2_skip, e2_maxpool = encoder_block(e1_maxpool, 128)\n",
    "    e3_skip, e3_maxpool = encoder_block(e2_maxpool, 256)\n",
    "    _, e4 = encoder_block(e3_maxpool, 512, True)\n",
    "\n",
    "    decoder1 = decoder_block(e4, e3_skip, 256)\n",
    "    decoder2 = decoder_block(decoder1, e2_skip, 128)\n",
    "    decoder3 = decoder_block(decoder2, e1_skip, 64)\n",
    "\n",
    "    outputs = tf.keras.layers.Conv3D(1, 1, strides = 1)(decoder3)\n",
    "    # outputs = tf.keras.layers.Conv3D(2, 1, strides = 1)(decoder3)\n",
    "    # outputs = tf.keras.layers.Reshape((64*64*64, 2))(outputs)\n",
    "    outputs = tf.keras.layers.Activation('sigmoid')(outputs)\n",
    "\n",
    "    model = tf.keras.models.Model(inputs = inputs,  outputs = outputs,  name = 'Unet3D')\n",
    "\n",
    "    return model\n",
    "    "
   ]
  },
  {
   "cell_type": "code",
   "execution_count": 3,
   "id": "42bec1ef-2247-4879-98b1-b365ce02e6ac",
   "metadata": {},
   "outputs": [],
   "source": [
    "def iou(y_true, y_pred, smooth=0.000000001):\n",
    "    # yt = K.argmax(y_true, axis=2)\n",
    "    # yp = K.argmax(y_pred, axis=2)\n",
    "    # print(y_pred)\n",
    "    #yp = y_pred[0]\n",
    "    # yp[yp>=0.5]=1\n",
    "    # yp[yp<0.5]=0\n",
    "    yp = y_pred\n",
    "    yp = tf.where(yp >= 0.5, tf.ones_like(yp), yp)\n",
    "    yp = tf.where(yp < 0.5, tf.zeros_like(yp), yp)\n",
    "    yp = K.cast(yp, np.float32)\n",
    "\n",
    "    yt = K.cast(y_true, np.float32)\n",
    "\n",
    "    # print(yt.shape)\n",
    "    # print(yp.shape)\n",
    "    \n",
    "    intersection = K.sum(yt * yp)\n",
    "    union = K.sum(yt) + K.sum(yp)\n",
    "    # intersection = K.sum(yt * yp, axis=1)\n",
    "    # union = K.sum(yt, axis=1) + K.sum(yp, axis=1)\n",
    "    return (intersection + smooth) / (union-intersection+smooth)"
   ]
  },
  {
   "cell_type": "code",
   "execution_count": 4,
   "id": "8f3adb24-a202-454c-b34f-c71a3186ee52",
   "metadata": {},
   "outputs": [
    {
     "name": "stderr",
     "output_type": "stream",
     "text": [
      "2024-06-26 11:03:52.567506: I tensorflow/core/common_runtime/gpu/gpu_device.cc:1928] Created device /job:localhost/replica:0/task:0/device:GPU:0 with 9705 MB memory:  -> device: 0, name: NVIDIA GeForce RTX 4070 Ti, pci bus id: 0000:65:00.0, compute capability: 8.9\n"
     ]
    },
    {
     "name": "stdout",
     "output_type": "stream",
     "text": [
      "compiling model\n"
     ]
    }
   ],
   "source": [
    "model = unet_3D()\n",
    "# model.summary()\n",
    "\n",
    "print(\"compiling model\")\n",
    "optimizer = tf.keras.optimizers.Adam()\n",
    "model.compile(optimizer=optimizer, loss='dice')#, metrics=[iou])"
   ]
  },
  {
   "cell_type": "code",
   "execution_count": 5,
   "id": "7429b2e4-5f74-4c54-9012-f46437589bbb",
   "metadata": {},
   "outputs": [],
   "source": [
    "import os\n",
    "import matplotlib.pyplot as plt"
   ]
  },
  {
   "cell_type": "code",
   "execution_count": 6,
   "id": "1b08f6ab-61fb-4f71-9300-76882b15c7b2",
   "metadata": {},
   "outputs": [
    {
     "name": "stdout",
     "output_type": "stream",
     "text": [
      "[[512, 512, 211], [1, 311, 375, 179, 243, 27, 91], [2, 243, 307, 139, 203, 33, 97], [3, 209, 273, 143, 207, 40, 104], [4, 188, 252, 175, 239, 54, 118], [5, 220, 284, 175, 239, 66, 130], [6, 168, 232, 137, 201, 88, 152], [7, 311, 375, 145, 209, 90, 154], [8, 152, 216, 172, 236, 103, 167], [9, 186, 250, 175, 239, 118, 182], [10, 124, 188, 204, 268, 121, 185], [11, 328, 392, 177, 241, 122, 186], [12, 276, 340, 162, 226, 122, 186], [13, 173, 237, 207, 271, 129, 193]]\n"
     ]
    }
   ],
   "source": [
    "import json\n",
    "# Get Patch Coordinates\n",
    "\n",
    "with open(\"patch_coords.json\", 'r') as f:\n",
    "    p_coords = json.load(f)\n",
    "\n",
    "print(p_coords)"
   ]
  },
  {
   "cell_type": "code",
   "execution_count": 7,
   "id": "7357c93e-4eb2-48fd-9969-759b5b4baf3a",
   "metadata": {
    "scrolled": true
   },
   "outputs": [
    {
     "name": "stdout",
     "output_type": "stream",
     "text": [
      "0140\n",
      "[1, 311, 375, 179, 243, 27, 91]\n"
     ]
    },
    {
     "name": "stderr",
     "output_type": "stream",
     "text": [
      "/home/kevin.wang/miniconda3/envs/cactas/lib/python3.12/site-packages/keras/src/saving/saving_lib.py:415: UserWarning: Skipping variable loading for optimizer 'adam', because it has 2 variables whereas the saved optimizer has 130 variables. \n",
      "  saveable.load_own_variables(weights_store.get(inner_path))\n",
      "WARNING: All log messages before absl::InitializeLog() is called are written to STDERR\n",
      "I0000 00:00:1719172535.269853 1849712 service.cc:145] XLA service 0x74047c016f60 initialized for platform CUDA (this does not guarantee that XLA will be used). Devices:\n",
      "I0000 00:00:1719172535.269907 1849712 service.cc:153]   StreamExecutor device (0): NVIDIA GeForce RTX 4070 Ti, Compute Capability 8.9\n",
      "2024-06-23 15:55:35.302744: I tensorflow/compiler/mlir/tensorflow/utils/dump_mlir_util.cc:268] disabling MLIR crash reproducer, set env var `MLIR_CRASH_REPRODUCER_DIRECTORY` to enable.\n",
      "2024-06-23 15:55:35.437919: I external/local_xla/xla/stream_executor/cuda/cuda_dnn.cc:465] Loaded cuDNN version 8902\n",
      "I0000 00:00:1719172537.949020 1849712 device_compiler.h:188] Compiled cluster using XLA!  This line is logged at most once for the lifetime of the process.\n"
     ]
    },
    {
     "name": "stdout",
     "output_type": "stream",
     "text": [
      "(64, 64, 64)\n",
      "[2, 243, 307, 139, 203, 33, 97]\n",
      "(64, 64, 64)\n",
      "[3, 209, 273, 143, 207, 40, 104]\n",
      "(64, 64, 64)\n",
      "[4, 188, 252, 175, 239, 54, 118]\n",
      "(64, 64, 64)\n",
      "[5, 220, 284, 175, 239, 66, 130]\n",
      "(64, 64, 64)\n",
      "[6, 168, 232, 137, 201, 88, 152]\n",
      "(64, 64, 64)\n",
      "[7, 311, 375, 145, 209, 90, 154]\n",
      "(64, 64, 64)\n",
      "[8, 152, 216, 172, 236, 103, 167]\n",
      "(64, 64, 64)\n",
      "[9, 186, 250, 175, 239, 118, 182]\n",
      "(64, 64, 64)\n",
      "[10, 124, 188, 204, 268, 121, 185]\n",
      "(64, 64, 64)\n",
      "[11, 328, 392, 177, 241, 122, 186]\n",
      "(64, 64, 64)\n",
      "[12, 276, 340, 162, 226, 122, 186]\n",
      "(64, 64, 64)\n",
      "[13, 173, 237, 207, 271, 129, 193]\n",
      "(64, 64, 64)\n"
     ]
    }
   ],
   "source": [
    "cp_number = \"{:04d}\".format(140)\n",
    "print(cp_number)\n",
    "model.load_weights(\"./checkpoints/cp-0140.weights.h5\")\n",
    "\n",
    "number = 18\n",
    "reformation = np.zeros(shape=(p_coords[0]))\n",
    "\n",
    "for patch in range(1, len(p_coords)):\n",
    "    print(p_coords[patch])    \n",
    "    try:\n",
    "        X, _ = nrrd.read(\"./test_data/inputs/18_volume_\"+str(p_coords[patch][0])+\".nrrd\")\n",
    "        X = np.array([X]).astype(np.float32)\n",
    "        X = np.expand_dims(X, -1)\n",
    "        \n",
    "        y = model.predict(X, verbose=0)\n",
    "        y = y[0]\n",
    "        y[y>=0.5]=1\n",
    "        y[y<0.5]=0\n",
    "        y = y[...,0]\n",
    "        print(y.shape)\n",
    "        reformation[p_coords[patch][1]:p_coords[patch][2], p_coords[patch][3]:p_coords[patch][4], p_coords[patch][5]:p_coords[patch][6]] += y\n",
    "    except:\n",
    "        pass\n",
    "        \n",
    "reformation[reformation > 1] = 1\n",
    "\n",
    "nrrd.write(\"./test_data/reform/predictions/\"+str(number)+\"_checkpoint_\"+str(cp_number)+\".nrrd\", reformation)\n",
    "\n"
   ]
  },
  {
   "cell_type": "code",
   "execution_count": 15,
   "id": "3c803eef-4034-471c-b429-9dce363144b4",
   "metadata": {},
   "outputs": [
    {
     "data": {
      "text/plain": [
       "array([0., 1.])"
      ]
     },
     "execution_count": 15,
     "metadata": {},
     "output_type": "execute_result"
    }
   ],
   "source": [
    "np.unique(reformation)"
   ]
  },
  {
   "cell_type": "code",
   "execution_count": 7,
   "id": "14514c17-4e24-4b90-936d-856db806fd26",
   "metadata": {},
   "outputs": [],
   "source": [
    "def compute_iou(y_true, y_pred, smooth=0.000000001):\n",
    "    intersection = np.sum(y_true * y_pred)\n",
    "    union = np.sum(y_true) + np.sum(y_pred)\n",
    "    return (intersection + smooth) / (union-intersection+smooth)"
   ]
  },
  {
   "cell_type": "code",
   "execution_count": 9,
   "id": "1471cb3c-3f41-4bf1-8878-24da38dc6ada",
   "metadata": {},
   "outputs": [],
   "source": [
    "number = 18\n",
    "gt, _ = nrrd.read(\"./test_data/reform/predictions/\"+str(number)+\"_gt.nrrd\")"
   ]
  },
  {
   "cell_type": "code",
   "execution_count": 10,
   "id": "95eedea3-28bf-48a4-af0a-df7b1200c224",
   "metadata": {},
   "outputs": [
    {
     "ename": "NameError",
     "evalue": "name 'reformation' is not defined",
     "output_type": "error",
     "traceback": [
      "\u001b[0;31m---------------------------------------------------------------------------\u001b[0m",
      "\u001b[0;31mNameError\u001b[0m                                 Traceback (most recent call last)",
      "Cell \u001b[0;32mIn[10], line 1\u001b[0m\n\u001b[0;32m----> 1\u001b[0m compute_iou(gt, \u001b[43mreformation\u001b[49m)\n",
      "\u001b[0;31mNameError\u001b[0m: name 'reformation' is not defined"
     ]
    }
   ],
   "source": [
    "compute_iou(gt, reformation)"
   ]
  },
  {
   "cell_type": "code",
   "execution_count": 11,
   "id": "603ca301-aba3-48eb-9f3a-e797cac27954",
   "metadata": {},
   "outputs": [
    {
     "name": "stdout",
     "output_type": "stream",
     "text": [
      "0001\n"
     ]
    },
    {
     "name": "stderr",
     "output_type": "stream",
     "text": [
      "/home/kevin.wang/miniconda3/envs/cactas/lib/python3.12/site-packages/keras/src/saving/saving_lib.py:415: UserWarning: Skipping variable loading for optimizer 'adam', because it has 2 variables whereas the saved optimizer has 130 variables. \n",
      "  saveable.load_own_variables(weights_store.get(inner_path))\n",
      "WARNING: All log messages before absl::InitializeLog() is called are written to STDERR\n",
      "I0000 00:00:1719414283.460933 2104691 service.cc:145] XLA service 0x764718015cb0 initialized for platform CUDA (this does not guarantee that XLA will be used). Devices:\n",
      "I0000 00:00:1719414283.460988 2104691 service.cc:153]   StreamExecutor device (0): NVIDIA GeForce RTX 4070 Ti, Compute Capability 8.9\n",
      "2024-06-26 11:04:43.482950: I tensorflow/compiler/mlir/tensorflow/utils/dump_mlir_util.cc:268] disabling MLIR crash reproducer, set env var `MLIR_CRASH_REPRODUCER_DIRECTORY` to enable.\n",
      "2024-06-26 11:04:43.594603: I external/local_xla/xla/stream_executor/cuda/cuda_dnn.cc:465] Loaded cuDNN version 8902\n",
      "I0000 00:00:1719414286.238075 2104691 device_compiler.h:188] Compiled cluster using XLA!  This line is logged at most once for the lifetime of the process.\n"
     ]
    },
    {
     "name": "stdout",
     "output_type": "stream",
     "text": [
      "IOU: 0.5910313901348959\n",
      "0002\n",
      "IOU: 0.5873440285208669\n",
      "0003\n",
      "IOU: 0.5881826320505029\n",
      "0004\n",
      "IOU: 0.5693240901216904\n",
      "0005\n",
      "IOU: 0.5851254480290455\n",
      "0006\n",
      "IOU: 0.5739592559791196\n",
      "0007\n",
      "IOU: 0.5772285966464455\n",
      "0008\n",
      "IOU: 0.5773011617519417\n",
      "0009\n",
      "IOU: 0.5697777777781602\n",
      "0010\n",
      "IOU: 0.5649059982098792\n",
      "0011\n",
      "IOU: 0.5638963360146882\n",
      "0012\n",
      "IOU: 0.5606731620907346\n",
      "0013\n",
      "IOU: 0.5592163846842749\n",
      "0014\n",
      "IOU: 0.5559534467327163\n",
      "0015\n",
      "IOU: 0.5596745027128756\n",
      "0016\n",
      "IOU: 0.5586145648316531\n",
      "0017\n",
      "IOU: 0.5630630630634567\n",
      "0018\n",
      "IOU: 0.559055118110622\n",
      "0019\n",
      "IOU: 0.557450628366645\n",
      "0020\n",
      "IOU: 0.5570409982178636\n",
      "0021\n",
      "IOU: 0.5578475336326836\n",
      "0022\n",
      "IOU: 0.5592163846842749\n",
      "0023\n",
      "IOU: 0.5589285714289652\n",
      "0024\n",
      "IOU: 0.5586937334514045\n",
      "0025\n",
      "IOU: 0.5548726953471862\n",
      "0026\n",
      "IOU: 0.5595344673235815\n",
      "0027\n",
      "IOU: 0.559111111111503\n",
      "0028\n",
      "IOU: 0.5583845478493781\n",
      "0029\n",
      "IOU: 0.562943262411735\n",
      "0030\n",
      "IOU: 0.56723063223547\n",
      "0031\n",
      "IOU: 0.5636200716849789\n",
      "0032\n",
      "IOU: 0.5632798573978937\n",
      "0033\n",
      "IOU: 0.5605381165923223\n",
      "0034\n",
      "IOU: 0.5621145374453197\n",
      "0035\n",
      "IOU: 0.5625000000003906\n",
      "0036\n",
      "IOU: 0.558718861210357\n",
      "0037\n",
      "IOU: 0.5595763459845017\n",
      "0038\n",
      "IOU: 0.559111111111503\n",
      "0039\n",
      "IOU: 0.5579322638150107\n",
      "0040\n",
      "IOU: 0.5616071428575343\n",
      "0041\n",
      "IOU: 0.5572183098595447\n",
      "0042\n",
      "IOU: 0.559428060768937\n",
      "0043\n",
      "IOU: 0.5578291814950553\n",
      "0044\n",
      "IOU: 0.558823529412158\n",
      "0045\n",
      "IOU: 0.5586145648316531\n",
      "0046\n",
      "IOU: 0.5609318996419704\n",
      "0047\n",
      "IOU: 0.5646017699118897\n",
      "0048\n",
      "IOU: 0.5632286995519612\n",
      "0049\n",
      "IOU: 0.5595026642987926\n",
      "0050\n",
      "IOU: 0.561233480176598\n",
      "0051\n",
      "IOU: 0.5597484276733515\n",
      "0052\n",
      "IOU: 0.5618878005346732\n",
      "0053\n",
      "IOU: 0.5589285714289652\n",
      "0054\n",
      "IOU: 0.5602140945588223\n",
      "0055\n",
      "IOU: 0.5584299732385741\n",
      "0056\n",
      "IOU: 0.5576241134755695\n",
      "0057\n",
      "IOU: 0.5604589585175989\n",
      "0058\n",
      "IOU: 0.5580357142861089\n",
      "0059\n",
      "IOU: 0.559111111111503\n",
      "0060\n",
      "IOU: 0.5635062611810702\n"
     ]
    }
   ],
   "source": [
    "number = 18\n",
    "gt, _ = nrrd.read(\"./test_data/reform/predictions/\"+str(number)+\"_gt.nrrd\")\n",
    "\n",
    "best_cp = 0\n",
    "best_iou = 0\n",
    "\n",
    "for cp in range(1, 61):\n",
    "    cp_number = \"{:04d}\".format(cp)\n",
    "    print(cp_number)\n",
    "    model.load_weights(\"./checkpoints/cont-cp-\"+str(cp_number)+\".weights.h5\")\n",
    "    \n",
    "    reformation = np.zeros(shape=(p_coords[0]))\n",
    "    \n",
    "    for patch in range(1, len(p_coords)): \n",
    "        try:\n",
    "            X, _ = nrrd.read(\"./test_data/inputs/18_volume_\"+str(p_coords[patch][0])+\".nrrd\")\n",
    "            X = np.array([X]).astype(np.float32)\n",
    "            X = np.expand_dims(X, -1)\n",
    "            \n",
    "            y = model.predict(X, verbose=0)\n",
    "            y = y[0]\n",
    "            y[y>=0.5]=1\n",
    "            y[y<0.5]=0\n",
    "            y = y[...,0]\n",
    "            reformation[p_coords[patch][1]:p_coords[patch][2], p_coords[patch][3]:p_coords[patch][4], p_coords[patch][5]:p_coords[patch][6]] += y\n",
    "        except:\n",
    "            pass\n",
    "            \n",
    "    reformation[reformation > 1] = 1\n",
    "    \n",
    "    nrrd.write(\"./test_data/reform/predictions/\"+str(number)+\"_checkpoint_\"+str(cp_number)+\".nrrd\", reformation)\n",
    "    iou = compute_iou(gt, reformation)\n",
    "    if iou > best_iou:\n",
    "        best_iou = iou\n",
    "        best_cp = cp\n",
    "    print(\"IOU: \" + str(iou))\n"
   ]
  },
  {
   "cell_type": "code",
   "execution_count": 12,
   "id": "d2501e1d-9c0b-4272-af51-3484a369fc63",
   "metadata": {},
   "outputs": [
    {
     "name": "stdout",
     "output_type": "stream",
     "text": [
      "0.5910313901348959 1\n"
     ]
    }
   ],
   "source": [
    "print(best_iou, best_cp)"
   ]
  },
  {
   "cell_type": "code",
   "execution_count": null,
   "id": "413a83a9-8892-4f08-a5ef-05b61c5a25d0",
   "metadata": {},
   "outputs": [],
   "source": []
  }
 ],
 "metadata": {
  "kernelspec": {
   "display_name": "Python 3 (ipykernel)",
   "language": "python",
   "name": "python3"
  },
  "language_info": {
   "codemirror_mode": {
    "name": "ipython",
    "version": 3
   },
   "file_extension": ".py",
   "mimetype": "text/x-python",
   "name": "python",
   "nbconvert_exporter": "python",
   "pygments_lexer": "ipython3",
   "version": "3.12.3"
  }
 },
 "nbformat": 4,
 "nbformat_minor": 5
}
