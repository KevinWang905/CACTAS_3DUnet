{
 "cells": [
  {
   "cell_type": "code",
   "execution_count": 12,
   "id": "7afff950",
   "metadata": {},
   "outputs": [
    {
     "name": "stdout",
     "output_type": "stream",
     "text": [
      "%pylab is deprecated, use %matplotlib inline and import the required libraries.\n",
      "Populating the interactive namespace from numpy and matplotlib\n",
      "The autoreload extension is already loaded. To reload it, use:\n",
      "  %reload_ext autoreload\n"
     ]
    }
   ],
   "source": [
    "%pylab inline\n",
    "%load_ext autoreload\n",
    "%autoreload 2"
   ]
  },
  {
   "cell_type": "code",
   "execution_count": 2,
   "id": "60a07eb0",
   "metadata": {},
   "outputs": [],
   "source": [
    "import os"
   ]
  },
  {
   "cell_type": "code",
   "execution_count": 3,
   "id": "c7c29387",
   "metadata": {},
   "outputs": [],
   "source": [
    "import cactas as C"
   ]
  },
  {
   "cell_type": "code",
   "execution_count": 4,
   "id": "f9f21b44",
   "metadata": {},
   "outputs": [],
   "source": [
    "DATAPATH = '/home/d/Dropbox/RESEARCH/CAROTID/DATA/Nathan Arnett Calcification/'"
   ]
  },
  {
   "cell_type": "code",
   "execution_count": 28,
   "id": "fbf37a1e",
   "metadata": {},
   "outputs": [],
   "source": [
    "DATASETS = sorted([v for v in os.listdir(DATAPATH) if os.path.isdir(DATAPATH + v)])\n",
    "\n",
    "images = []\n",
    "labels = []\n",
    "\n",
    "for i,d in enumerate(DATASETS):\n",
    "    \n",
    "    # ignore DICOM 12 since we have DICOM 12-checked\n",
    "    if d == 'DICOM 12':\n",
    "        continue\n",
    "    \n",
    "    image, label = C.Util.load(i)\n",
    "    \n",
    "    # crop according to all annotations\n",
    "    image_cropped, label_cropped = C.Util.crop(image, label)\n",
    "    \n",
    "    # remove all slices without annotations\n",
    "    image_filtered, label_filtered = C.Util.filter(image_cropped, label_cropped)\n",
    "    \n",
    "    label_binarized = C.Util.binarize(label_filtered)\n",
    "    \n",
    "    images.append(image_filtered)\n",
    "    labels.append(label_binarized)\n",
    "    "
   ]
  },
  {
   "cell_type": "code",
   "execution_count": 29,
   "id": "be02405b",
   "metadata": {},
   "outputs": [
    {
     "name": "stdout",
     "output_type": "stream",
     "text": [
      "Total images/labels: 35\n"
     ]
    }
   ],
   "source": [
    "print('Total images/labels:', len(images))"
   ]
  },
  {
   "cell_type": "code",
   "execution_count": 30,
   "id": "db2cafec",
   "metadata": {},
   "outputs": [],
   "source": [
    "padded_images, padded_labels = C.Util.pad(images, labels)"
   ]
  },
  {
   "cell_type": "code",
   "execution_count": 31,
   "id": "2f90f1e5",
   "metadata": {},
   "outputs": [
    {
     "data": {
      "text/plain": [
       "(549, 212, 83)"
      ]
     },
     "execution_count": 31,
     "metadata": {},
     "output_type": "execute_result"
    }
   ],
   "source": [
    "padded_images.shape"
   ]
  },
  {
   "cell_type": "code",
   "execution_count": 32,
   "id": "410eb9ae",
   "metadata": {},
   "outputs": [
    {
     "data": {
      "image/png": "[encoded data removed]",
      "text/plain": [
       "<Figure size 100x300 with 1 Axes>"
      ]
     },
     "metadata": {},
     "output_type": "display_data"
    }
   ],
   "source": [
    "C.Util.view(padded_images[0], padded_labels[0])"
   ]
  },
  {
   "cell_type": "code",
   "execution_count": 33,
   "id": "cfd992af",
   "metadata": {},
   "outputs": [
    {
     "data": {
      "image/png": "[encoded data removed]",
      "text/plain": [
       "<Figure size 100x300 with 1 Axes>"
      ]
     },
     "metadata": {},
     "output_type": "display_data"
    }
   ],
   "source": [
    "C.Util.view(padded_images[10], padded_labels[10])"
   ]
  },
  {
   "cell_type": "code",
   "execution_count": 34,
   "id": "9960b45b",
   "metadata": {},
   "outputs": [
    {
     "data": {
      "image/png": "[encoded data removed]",
      "text/plain": [
       "<Figure size 100x300 with 1 Axes>"
      ]
     },
     "metadata": {},
     "output_type": "display_data"
    }
   ],
   "source": [
    "C.Util.view(padded_images[200], padded_labels[200])"
   ]
  },
  {
   "cell_type": "code",
   "execution_count": null,
   "id": "567afba0",
   "metadata": {},
   "outputs": [],
   "source": [
    "#\n",
    "# now we can store padded_images and padded_labels as .npy files\n",
    "#"
   ]
  }
 ],
 "metadata": {
  "kernelspec": {
   "display_name": "Python 3 (ipykernel)",
   "language": "python",
   "name": "python3"
  },
  "language_info": {
   "codemirror_mode": {
    "name": "ipython",
    "version": 3
   },
   "file_extension": ".py",
   "mimetype": "text/x-python",
   "name": "python",
   "nbconvert_exporter": "python",
   "pygments_lexer": "ipython3",
   "version": "3.10.8"
  }
 },
 "nbformat": 4,
 "nbformat_minor": 5
}
