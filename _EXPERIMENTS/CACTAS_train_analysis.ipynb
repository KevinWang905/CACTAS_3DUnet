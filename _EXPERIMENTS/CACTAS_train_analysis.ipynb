{
 "cells": [
  {
   "cell_type": "code",
   "execution_count": 1,
   "id": "4827cf49",
   "metadata": {},
   "outputs": [
    {
     "name": "stdout",
     "output_type": "stream",
     "text": [
      "%pylab is deprecated, use %matplotlib inline and import the required libraries.\n",
      "Populating the interactive namespace from numpy and matplotlib\n"
     ]
    }
   ],
   "source": [
    "%pylab inline\n",
    "%load_ext autoreload\n",
    "%autoreload 2"
   ]
  },
  {
   "cell_type": "code",
   "execution_count": 2,
   "id": "95edee41",
   "metadata": {},
   "outputs": [],
   "source": [
    "import os\n",
    "import string\n",
    "import nrrd\n",
    "import nibabel as nib"
   ]
  },
  {
   "cell_type": "code",
   "execution_count": 3,
   "id": "05d7c942",
   "metadata": {},
   "outputs": [],
   "source": [
    "import cactas as C"
   ]
  },
  {
   "cell_type": "code",
   "execution_count": 4,
   "id": "b4d91437",
   "metadata": {},
   "outputs": [],
   "source": [
    "ESUSDIR = '/home/d/Dropbox/RESEARCH/CAROTID/DATA/Nathan Arnett Calcification/'\n",
    "AFIBDIR = ''\n",
    "\n",
    "DATADIR = '/home/d/Dropbox/RESEARCH/CAROTID/DATA/CACTAS_Study_Train'\n",
    "SLICER = DATADIR + '/' + '3D slicer set/'\n",
    "CACTAS = DATADIR + '/' + 'CACTAS set/'\n"
   ]
  },
  {
   "cell_type": "code",
   "execution_count": 5,
   "id": "108049d1",
   "metadata": {},
   "outputs": [],
   "source": [
    "datakey = '''T0 ESUS 12 (DEMO)\n",
    "T1 ESUS 87\n",
    "T2 AFIB ANONU8N44F1Q3\n",
    "01 ESUS 17\n",
    "02 AFIB ANON6GJ34F10E\n",
    "03 ESUS 71\n",
    "04 AFIB ANON8RJ34F1SM\n",
    "05 ESUS 40\n",
    "06 AFIB ANON65K34F117\n",
    "07 ESUS 13\n",
    "08 AFIB ANONFPK34F109\n",
    "09 ESUS 25\n",
    "10 AFIB ANONRAEO9F14J'''"
   ]
  },
  {
   "cell_type": "code",
   "execution_count": 6,
   "id": "df0a84b9",
   "metadata": {},
   "outputs": [],
   "source": [
    "groundtruths = {}\n",
    "for d in datakey.split('\\n'):\n",
    "    d_s = d.split(' ')\n",
    "    d_id = d_s[0]\n",
    "    d_type = d_s[1]\n",
    "    d_label = d_s[2]\n",
    "    \n",
    "    gt_file = None\n",
    "    if (d_type == 'ESUS'):\n",
    "        \n",
    "        gt_dir = ESUSDIR+'DICOM '+d_label+'/'\n",
    "        image, segmentation = C.Util.parse_folder(gt_dir)\n",
    "        \n",
    "        gt_file = gt_dir + segmentation\n",
    "    \n",
    "    groundtruths[d_id] = gt_file"
   ]
  },
  {
   "cell_type": "code",
   "execution_count": 7,
   "id": "bf3b0469",
   "metadata": {},
   "outputs": [
    {
     "data": {
      "text/plain": [
       "{'T0': '/home/d/Dropbox/RESEARCH/CAROTID/DATA/Nathan Arnett Calcification/DICOM 12/ESUS12_Segmentation.seg.nrrd',\n",
       " 'T1': '/home/d/Dropbox/RESEARCH/CAROTID/DATA/Nathan Arnett Calcification/DICOM 87/Segmentation.seg.nrrd',\n",
       " 'T2': None,\n",
       " '01': '/home/d/Dropbox/RESEARCH/CAROTID/DATA/Nathan Arnett Calcification/DICOM 17/Segmentation.seg.nrrd',\n",
       " '02': None,\n",
       " '03': '/home/d/Dropbox/RESEARCH/CAROTID/DATA/Nathan Arnett Calcification/DICOM 71/Segmentation.seg.nrrd',\n",
       " '04': None,\n",
       " '05': '/home/d/Dropbox/RESEARCH/CAROTID/DATA/Nathan Arnett Calcification/DICOM 40/Segmentation.seg.nrrd',\n",
       " '06': None,\n",
       " '07': '/home/d/Dropbox/RESEARCH/CAROTID/DATA/Nathan Arnett Calcification/DICOM 13/Segmentation.seg.nrrd',\n",
       " '08': None,\n",
       " '09': '/home/d/Dropbox/RESEARCH/CAROTID/DATA/Nathan Arnett Calcification/DICOM 25/Segmentation.seg.nrrd',\n",
       " '10': None}"
      ]
     },
     "execution_count": 7,
     "metadata": {},
     "output_type": "execute_result"
    }
   ],
   "source": [
    "groundtruths"
   ]
  },
  {
   "cell_type": "code",
   "execution_count": 8,
   "id": "8fa9c592",
   "metadata": {},
   "outputs": [
    {
     "data": {
      "text/plain": [
       "(['T2 (4m 25s)', 'T1 (7m 43s)'], ['T2 (2m 42s)', 'T1 (4m 27s)'])"
      ]
     },
     "execution_count": 8,
     "metadata": {},
     "output_type": "execute_result"
    }
   ],
   "source": [
    "os.listdir(SLICER), os.listdir(CACTAS)"
   ]
  },
  {
   "cell_type": "code",
   "execution_count": null,
   "id": "d278e50f",
   "metadata": {},
   "outputs": [],
   "source": []
  },
  {
   "cell_type": "code",
   "execution_count": 11,
   "id": "a204bca1",
   "metadata": {},
   "outputs": [],
   "source": [
    "TIMINGS = {}\n",
    "TIMINGS['SLICER'] = {}\n",
    "TIMINGS['CACTAS'] = {}\n",
    "\n",
    "JACCARD = {}\n",
    "JACCARD['SLICER'] = {}\n",
    "JACCARD['CACTAS'] = {}\n",
    "\n",
    "DICE = {}\n",
    "\n",
    "for tool in ['SLICER', 'CACTAS']:\n",
    "    \n",
    "    tool_data = os.listdir(eval(tool))\n",
    "    \n",
    "    for s in sorted(tool_data):\n",
    "        \n",
    "        seg_folder = eval(tool) + '/' + s\n",
    "\n",
    "        s_s = s.split(' ')\n",
    "        task = s_s[0]\n",
    "        time = 0\n",
    "        minu = int(s_s[1].strip(string.ascii_lowercase).strip(string.punctuation))\n",
    "        secs = int(s_s[2].strip(string.ascii_lowercase).strip(string.punctuation).strip('s'))\n",
    "\n",
    "        time = minu*60 + secs\n",
    "\n",
    "        TIMINGS[tool][task] = time\n",
    "        \n",
    "        # jaccard\n",
    "        if groundtruths[task]:\n",
    "            \n",
    "            gt = nrrd.read(groundtruths[task])[0]\n",
    "            \n",
    "            seg_file = seg_folder + '/' + os.listdir(seg_folder)[0]\n",
    "            \n",
    "            if seg_file.endswith('nii.gz'):\n",
    "                seg = nib.load(seg_file).get_fdata()\n",
    "            elif (seg_file.endswith('nrrd')):\n",
    "                seg = nrrd.read(seg_file)[0]\n",
    "            else:\n",
    "                print('wrong format')\n",
    "                \n",
    "            jac = C.Util.jaccard(C.Util.binarize(gt), C.Util.binarize(seg))\n",
    "            \n",
    "            JACCARD[tool][task] = jac"
   ]
  },
  {
   "cell_type": "code",
   "execution_count": 13,
   "id": "62920563",
   "metadata": {},
   "outputs": [
    {
     "data": {
      "text/plain": [
       "{'SLICER': {'T1': 463, 'T2': 265}, 'CACTAS': {'T1': 267, 'T2': 162}}"
      ]
     },
     "execution_count": 13,
     "metadata": {},
     "output_type": "execute_result"
    }
   ],
   "source": [
    "TIMINGS"
   ]
  },
  {
   "cell_type": "code",
   "execution_count": 12,
   "id": "4ec0d1e8",
   "metadata": {},
   "outputs": [
    {
     "data": {
      "text/plain": [
       "{'SLICER': {'T1': 0.7068965517241379}, 'CACTAS': {'T1': 0.587378640776699}}"
      ]
     },
     "execution_count": 12,
     "metadata": {},
     "output_type": "execute_result"
    }
   ],
   "source": [
    "JACCARD"
   ]
  },
  {
   "cell_type": "code",
   "execution_count": 45,
   "id": "2c83aaab",
   "metadata": {},
   "outputs": [
    {
     "data": {
      "image/png": "[encoded data removed]",
      "text/plain": [
       "<Figure size 640x480 with 1 Axes>"
      ]
     },
     "metadata": {},
     "output_type": "display_data"
    }
   ],
   "source": [
    "slicer_times = [TIMINGS['SLICER']['T1'], TIMINGS['SLICER']['T2']]\n",
    "cactas_times = [TIMINGS['CACTAS']['T1'], TIMINGS['CACTAS']['T2']]\n",
    "# Random test data\n",
    "# np.random.seed(19680801)\n",
    "all_data = [cactas_times, slicer_times]#[np.random.normal(0, std, size=100) for std in range(1, 4)]\n",
    "labels = ['CACTAS', '3D Slicer']\n",
    "\n",
    "# fig, (ax1, ax2) = plt.subplots(nrows=1, ncols=1, figsize=(9, 4))\n",
    "fig, ax = plt.subplots()\n",
    "# ax1 = plt.gcf()\n",
    "\n",
    "# rectangular box plot\n",
    "bplot1 = plt.boxplot(all_data,\n",
    "                     vert=True,  # vertical box alignment\n",
    "                     patch_artist=True,  # fill with color\n",
    "                     labels=labels)  # will be used to label x-ticks\n",
    "\n",
    "# fill with colors\n",
    "colors = ['#d01c8b', '#4dac26']\n",
    "for bplot in (bplot1, bplot2):\n",
    "    for patch, color in zip(bplot['boxes'], colors):\n",
    "        patch.set_facecolor(color)\n",
    "\n",
    "ax.set_ylabel('Time [s]')\n",
    "ax.set_ylim(0,500)\n",
    "\n",
    "plt.show()"
   ]
  },
  {
   "cell_type": "code",
   "execution_count": 36,
   "id": "e083d1b2",
   "metadata": {},
   "outputs": [
    {
     "data": {
      "text/plain": [
       "'Time [s]'"
      ]
     },
     "execution_count": 36,
     "metadata": {},
     "output_type": "execute_result"
    }
   ],
   "source": [
    "plt.ylabel"
   ]
  },
  {
   "cell_type": "code",
   "execution_count": null,
   "id": "0b74a904",
   "metadata": {},
   "outputs": [],
   "source": []
  }
 ],
 "metadata": {
  "kernelspec": {
   "display_name": "Python 3 (ipykernel)",
   "language": "python",
   "name": "python3"
  },
  "language_info": {
   "codemirror_mode": {
    "name": "ipython",
    "version": 3
   },
   "file_extension": ".py",
   "mimetype": "text/x-python",
   "name": "python",
   "nbconvert_exporter": "python",
   "pygments_lexer": "ipython3",
   "version": "3.10.8"
  }
 },
 "nbformat": 4,
 "nbformat_minor": 5
}
