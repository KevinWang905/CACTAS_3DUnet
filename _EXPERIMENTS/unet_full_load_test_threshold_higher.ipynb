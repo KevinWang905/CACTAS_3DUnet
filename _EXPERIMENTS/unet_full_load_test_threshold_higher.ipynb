{
 "cells": [
  {
   "cell_type": "code",
   "execution_count": 1,
   "id": "7efe7a51",
   "metadata": {},
   "outputs": [
    {
     "name": "stdout",
     "output_type": "stream",
     "text": [
      "%pylab is deprecated, use %matplotlib inline and import the required libraries.\n",
      "Populating the interactive namespace from numpy and matplotlib\n"
     ]
    }
   ],
   "source": [
    "%pylab inline\n",
    "%load_ext autoreload\n",
    "%autoreload 2"
   ]
  },
  {
   "cell_type": "code",
   "execution_count": 2,
   "id": "73e09484",
   "metadata": {},
   "outputs": [
    {
     "name": "stderr",
     "output_type": "stream",
     "text": [
      "2023-01-29 21:05:42.336377: I tensorflow/stream_executor/platform/default/dso_loader.cc:53] Successfully opened dynamic library libcudart.so.11.0\n"
     ]
    },
    {
     "name": "stdout",
     "output_type": "stream",
     "text": [
      "-----------------------------------------\n",
      "keras-unet init: TF version is >= 2.0.0 - using `tf.keras` instead of `Keras`\n",
      "-----------------------------------------\n"
     ]
    }
   ],
   "source": [
    "import cactas as C"
   ]
  },
  {
   "cell_type": "code",
   "execution_count": 3,
   "id": "3bff391d",
   "metadata": {},
   "outputs": [
    {
     "name": "stderr",
     "output_type": "stream",
     "text": [
      "2023-01-29 21:05:43.753336: I tensorflow/stream_executor/platform/default/dso_loader.cc:53] Successfully opened dynamic library libcuda.so.1\n",
      "2023-01-29 21:05:43.841195: I tensorflow/core/common_runtime/gpu/gpu_device.cc:1733] Found device 0 with properties: \n",
      "pciBusID: 0000:47:00.0 name: A100-SXM4-40GB computeCapability: 8.0\n",
      "coreClock: 1.41GHz coreCount: 108 deviceMemorySize: 39.59GiB deviceMemoryBandwidth: 1.41TiB/s\n",
      "2023-01-29 21:05:43.841240: I tensorflow/stream_executor/platform/default/dso_loader.cc:53] Successfully opened dynamic library libcudart.so.11.0\n",
      "2023-01-29 21:05:43.844468: I tensorflow/stream_executor/platform/default/dso_loader.cc:53] Successfully opened dynamic library libcublas.so.11\n",
      "2023-01-29 21:05:43.844504: I tensorflow/stream_executor/platform/default/dso_loader.cc:53] Successfully opened dynamic library libcublasLt.so.11\n",
      "2023-01-29 21:05:43.845351: I tensorflow/stream_executor/platform/default/dso_loader.cc:53] Successfully opened dynamic library libcufft.so.10\n",
      "2023-01-29 21:05:43.845706: I tensorflow/stream_executor/platform/default/dso_loader.cc:53] Successfully opened dynamic library libcurand.so.10\n",
      "2023-01-29 21:05:43.846269: I tensorflow/stream_executor/platform/default/dso_loader.cc:53] Successfully opened dynamic library libcusolver.so.11\n",
      "2023-01-29 21:05:43.847015: I tensorflow/stream_executor/platform/default/dso_loader.cc:53] Successfully opened dynamic library libcusparse.so.11\n",
      "2023-01-29 21:05:43.847264: I tensorflow/stream_executor/platform/default/dso_loader.cc:53] Successfully opened dynamic library libcudnn.so.8\n",
      "2023-01-29 21:05:43.852609: I tensorflow/core/common_runtime/gpu/gpu_device.cc:1871] Adding visible gpu devices: 0\n",
      "2023-01-29 21:05:43.853261: I tensorflow/core/platform/cpu_feature_guard.cc:142] This TensorFlow binary is optimized with oneAPI Deep Neural Network Library (oneDNN) to use the following CPU instructions in performance-critical operations:  AVX2 FMA\n",
      "To enable them in other operations, rebuild TensorFlow with the appropriate compiler flags.\n",
      "2023-01-29 21:05:43.856032: I tensorflow/core/common_runtime/gpu/gpu_device.cc:1733] Found device 0 with properties: \n",
      "pciBusID: 0000:47:00.0 name: A100-SXM4-40GB computeCapability: 8.0\n",
      "coreClock: 1.41GHz coreCount: 108 deviceMemorySize: 39.59GiB deviceMemoryBandwidth: 1.41TiB/s\n",
      "2023-01-29 21:05:43.861865: I tensorflow/core/common_runtime/gpu/gpu_device.cc:1871] Adding visible gpu devices: 0\n",
      "2023-01-29 21:05:43.861894: I tensorflow/stream_executor/platform/default/dso_loader.cc:53] Successfully opened dynamic library libcudart.so.11.0\n",
      "2023-01-29 21:05:44.325827: I tensorflow/core/common_runtime/gpu/gpu_device.cc:1258] Device interconnect StreamExecutor with strength 1 edge matrix:\n",
      "2023-01-29 21:05:44.325876: I tensorflow/core/common_runtime/gpu/gpu_device.cc:1264]      0 \n",
      "2023-01-29 21:05:44.325882: I tensorflow/core/common_runtime/gpu/gpu_device.cc:1277] 0:   N \n",
      "2023-01-29 21:05:44.333576: I tensorflow/core/common_runtime/gpu/gpu_device.cc:1418] Created TensorFlow device (/job:localhost/replica:0/task:0/device:GPU:0 with 38425 MB memory) -> physical GPU (device: 0, name: A100-SXM4-40GB, pci bus id: 0000:47:00.0, compute capability: 8.0)\n"
     ]
    }
   ],
   "source": [
    "model = C.Helper.load_unet('/raid/psych/CACTAS/unet_full_33_cases_weights.hdf5')"
   ]
  },
  {
   "cell_type": "code",
   "execution_count": 4,
   "id": "c33627ae",
   "metadata": {},
   "outputs": [],
   "source": [
    "TEST_DATA = '/raid/mpsych/CACTAS/DATA/Nathan_Test/'\n",
    "TEST_DATA_OUT = '/raid/mpsych/CACTAS/DATA/Nathan_Test_Predicted2/'\n",
    "TEST_DATA_IGNORE = ['41','51','61'] # z-spacing different"
   ]
  },
  {
   "cell_type": "code",
   "execution_count": 5,
   "id": "edc12237",
   "metadata": {},
   "outputs": [],
   "source": [
    "import os\n",
    "TEST_SCANS = sorted(os.listdir(TEST_DATA))"
   ]
  },
  {
   "cell_type": "code",
   "execution_count": 6,
   "id": "4be70199",
   "metadata": {},
   "outputs": [],
   "source": [
    "THRESHOLD = .99999\n",
    "# 0.8\n",
    "# ESUS 10 0.483503737542056 0.493806953687987\n",
    "# Stored /raid/mpsych/CACTAS/DATA/Nathan_Test_Predicted/10.npy\n",
    "# ESUS 14 0.34935670820052156 0.47393831164348005\n",
    "# Stored /raid/mpsych/CACTAS/DATA/Nathan_Test_Predicted/14.npy\n",
    "# ESUS 15 0.5743982356256112 0.489993468153211\n",
    "# Stored /raid/mpsych/CACTAS/DATA/Nathan_Test_Predicted/15.npy\n",
    "\n",
    "# 0.9\n",
    "# ESUS 10 0.5459574137741867 0.4920005726316911\n",
    "# Stored /raid/mpsych/CACTAS/DATA/Nathan_Test_Predicted/10.npy\n",
    "# ESUS 14 0.4118643408780516 0.48950696804557564\n",
    "# Stored /raid/mpsych/CACTAS/DATA/Nathan_Test_Predicted/14.npy\n",
    "# ESUS 15 0.6268240963507236 0.4794244698760051\n",
    "# Stored /raid/mpsych/CACTAS/DATA/Nathan_Test_Predicted/15.npy\n",
    "\n",
    "# 0.95\n",
    "# ESUS 10 0.5955386836555591 0.4852241766819561\n",
    "# Stored /raid/mpsych/CACTAS/DATA/Nathan_Test_Predicted/10.npy\n",
    "# ESUS 14 0.4546363286847716 0.495436773200697\n",
    "# Stored /raid/mpsych/CACTAS/DATA/Nathan_Test_Predicted/14.npy\n",
    "# ESUS 15 0.6791448265509088 0.4630452527458047\n",
    "# Stored /raid/mpsych/CACTAS/DATA/Nathan_Test_Predicted/15.npy\n",
    "\n",
    "# 0.99\n",
    "# ESUS 10 0.6770774116374255 0.46329788505712477\n",
    "# Stored /raid/mpsych/CACTAS/DATA/Nathan_Test_Predicted/10.npy\n",
    "# ESUS 14 0.6061867171110868 0.48672684666811006\n",
    "# Stored /raid/mpsych/CACTAS/DATA/Nathan_Test_Predicted/14.npy\n",
    "# ESUS 15 0.7479408636903893 0.43192325685362054\n",
    "# Stored /raid/mpsych/CACTAS/DATA/Nathan_Test_Predicted/15.npy"
   ]
  },
  {
   "cell_type": "code",
   "execution_count": 7,
   "id": "e3367fd3",
   "metadata": {},
   "outputs": [
    {
     "name": "stderr",
     "output_type": "stream",
     "text": [
      "2023-01-29 21:05:54.548740: I tensorflow/compiler/mlir/mlir_graph_optimization_pass.cc:176] None of the MLIR Optimization Passes are enabled (registered 2)\n",
      "2023-01-29 21:05:54.569167: I tensorflow/core/platform/profile_utils/cpu_utils.cc:114] CPU Frequency: 2245645000 Hz\n",
      "2023-01-29 21:05:54.743309: I tensorflow/stream_executor/platform/default/dso_loader.cc:53] Successfully opened dynamic library libcudnn.so.8\n",
      "2023-01-29 21:05:55.354886: I tensorflow/stream_executor/cuda/cuda_dnn.cc:359] Loaded cuDNN version 8201\n",
      "2023-01-29 21:05:55.997763: W tensorflow/stream_executor/gpu/asm_compiler.cc:191] Falling back to the CUDA driver for PTX compilation; ptxas does not support CC 8.0\n",
      "2023-01-29 21:05:55.997788: W tensorflow/stream_executor/gpu/asm_compiler.cc:194] Used ptxas at ptxas\n",
      "2023-01-29 21:05:55.997852: W tensorflow/stream_executor/gpu/redzone_allocator.cc:314] Unimplemented: ptxas ptxas too old. Falling back to the driver to compile.\n",
      "Relying on driver to perform ptx compilation. \n",
      "Modify $PATH to customize ptxas location.\n",
      "This message will be only logged once.\n",
      "2023-01-29 21:05:56.037956: I tensorflow/stream_executor/platform/default/dso_loader.cc:53] Successfully opened dynamic library libcublas.so.11\n",
      "2023-01-29 21:05:56.737060: I tensorflow/stream_executor/platform/default/dso_loader.cc:53] Successfully opened dynamic library libcublasLt.so.11\n"
     ]
    },
    {
     "name": "stdout",
     "output_type": "stream",
     "text": [
      "ESUS 10 0.8675213675213675 0.3390103898337393\n",
      "Stored /raid/mpsych/CACTAS/DATA/Nathan_Test_Predicted2/10.npy\n",
      "ESUS 14 0.9373440285204991 0.2421633741121393\n",
      "Stored /raid/mpsych/CACTAS/DATA/Nathan_Test_Predicted2/14.npy\n",
      "ESUS 15 0.9171597633136095 0.2756405845882158\n",
      "Stored /raid/mpsych/CACTAS/DATA/Nathan_Test_Predicted2/15.npy\n"
     ]
    }
   ],
   "source": [
    "JACCARDS = {}\n",
    "TIMINGS = {}\n",
    "\n",
    "for i,s in enumerate(TEST_SCANS[0:3]):\n",
    "    \n",
    "    s_stripped = s.replace('ESUS ','')\n",
    "    \n",
    "    if s_stripped in TEST_DATA_IGNORE:\n",
    "        continue \n",
    "\n",
    "    image, label = C.Util.load(i, datapath=TEST_DATA)\n",
    "    \n",
    "\n",
    "    label_pred = np.zeros(label.shape, dtype=bool)\n",
    "    label_pred[:,:,:] = 0\n",
    "    \n",
    "    jaccard_per_slice = []\n",
    "    total_time = 0\n",
    "    \n",
    "    for z in range(image.shape[2]):\n",
    "        \n",
    "        t0 = time.time()\n",
    "\n",
    "        cur_slice = image[:,:,z]\n",
    "\n",
    "        cur_slice = C.Util.normalize(cur_slice)\n",
    "\n",
    "        cur_slice_pred = model.predict(cur_slice.reshape(1,512,512,1))\n",
    "\n",
    "        cur_slice_pred = C.Util.binarize(cur_slice_pred[0,:,:,0], threshold=THRESHOLD)\n",
    "\n",
    "        label_pred[:,:,z] = cur_slice_pred\n",
    "\n",
    "        total_time += time.time()-t0\n",
    "        \n",
    "        jac = C.Util.jaccard(C.Util.binarize(label[:,:,z]), cur_slice_pred)\n",
    "\n",
    "        jaccard_per_slice.append(jac)\n",
    "        \n",
    "    TIMINGS[s] = total_time\n",
    "    JACCARDS[s] = jaccard_per_slice\n",
    "    print(s, np.mean(jaccard_per_slice), np.std(jaccard_per_slice))\n",
    "    \n",
    "    np.save(TEST_DATA_OUT+s_stripped+'.npy', label_pred)\n",
    "    print('Stored', TEST_DATA_OUT+s_stripped+'.npy')"
   ]
  },
  {
   "cell_type": "code",
   "execution_count": 10,
   "id": "2ab2ea35",
   "metadata": {},
   "outputs": [
    {
     "data": {
      "text/plain": [
       "{'ESUS 10': 12.128159284591675,\n",
       " 'ESUS 14': 13.243142366409302,\n",
       " 'ESUS 15': 8.6052885055542,\n",
       " 'ESUS 2': 12.593088626861572,\n",
       " 'ESUS 27': 11.073944091796875,\n",
       " 'ESUS 32': 12.300761222839355,\n",
       " 'ESUS 33': 13.360402584075928,\n",
       " 'ESUS 35': 12.29096007347107,\n",
       " 'ESUS 39': 12.941060066223145,\n",
       " 'ESUS 46': 11.964716911315918,\n",
       " 'ESUS 47': 9.917606592178345,\n",
       " 'ESUS 48': 27.16199278831482,\n",
       " 'ESUS 5': 10.339241743087769,\n",
       " 'ESUS 50': 12.533114671707153,\n",
       " 'ESUS 52': 11.832925081253052,\n",
       " 'ESUS 53': 12.148744344711304,\n",
       " 'ESUS 57': 12.239945411682129,\n",
       " 'ESUS 64': 12.09887957572937,\n",
       " 'ESUS 66': 12.309496641159058,\n",
       " 'ESUS 73': 13.097173929214478,\n",
       " 'ESUS 75': 12.072381973266602,\n",
       " 'ESUS 83': 13.584279298782349,\n",
       " 'ESUS 84': 8.751081466674805,\n",
       " 'ESUS 86': 12.256171941757202,\n",
       " 'ESUS 9': 12.360882997512817,\n",
       " 'ESUS 91': 8.96485447883606,\n",
       " 'ESUS 93': 12.672183513641357,\n",
       " 'ESUS 94': 13.133982419967651}"
      ]
     },
     "execution_count": 10,
     "metadata": {},
     "output_type": "execute_result"
    }
   ],
   "source": [
    "TIMINGS"
   ]
  },
  {
   "cell_type": "code",
   "execution_count": 11,
   "id": "f39ee8af",
   "metadata": {},
   "outputs": [],
   "source": [
    "import pickle"
   ]
  },
  {
   "cell_type": "code",
   "execution_count": 12,
   "id": "b11d6964",
   "metadata": {},
   "outputs": [],
   "source": [
    "with open('/raid/mpsych/CACTAS/unet_full_099_results.pkl','wb') as f:\n",
    "    pickle.dump([JACCARDS, TIMINGS], f)"
   ]
  },
  {
   "cell_type": "code",
   "execution_count": null,
   "id": "08ac0992",
   "metadata": {},
   "outputs": [],
   "source": []
  }
 ],
 "metadata": {
  "kernelspec": {
   "display_name": "Python 3 (ipykernel)",
   "language": "python",
   "name": "python3"
  },
  "language_info": {
   "codemirror_mode": {
    "name": "ipython",
    "version": 3
   },
   "file_extension": ".py",
   "mimetype": "text/x-python",
   "name": "python",
   "nbconvert_exporter": "python",
   "pygments_lexer": "ipython3",
   "version": "3.9.7"
  }
 },
 "nbformat": 4,
 "nbformat_minor": 5
}
