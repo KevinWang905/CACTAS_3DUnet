{
 "cells": [
  {
   "cell_type": "code",
   "execution_count": 1,
   "id": "d100bbfd",
   "metadata": {},
   "outputs": [
    {
     "name": "stdout",
     "output_type": "stream",
     "text": [
      "%pylab is deprecated, use %matplotlib inline and import the required libraries.\n",
      "Populating the interactive namespace from numpy and matplotlib\n"
     ]
    }
   ],
   "source": [
    "%pylab inline\n",
    "%load_ext autoreload\n",
    "%autoreload 2"
   ]
  },
  {
   "cell_type": "code",
   "execution_count": 2,
   "id": "ec1e6184",
   "metadata": {},
   "outputs": [],
   "source": [
    "import os\n",
    "import mahotas as mh\n",
    "import nrrd"
   ]
  },
  {
   "cell_type": "code",
   "execution_count": 3,
   "id": "fc60008c",
   "metadata": {},
   "outputs": [
    {
     "name": "stderr",
     "output_type": "stream",
     "text": [
      "2023-01-31 21:29:20.567985: I tensorflow/core/platform/cpu_feature_guard.cc:193] This TensorFlow binary is optimized with oneAPI Deep Neural Network Library (oneDNN) to use the following CPU instructions in performance-critical operations:  AVX2 FMA\n",
      "To enable them in other operations, rebuild TensorFlow with the appropriate compiler flags.\n",
      "2023-01-31 21:29:20.651335: W tensorflow/compiler/xla/stream_executor/platform/default/dso_loader.cc:64] Could not load dynamic library 'libcudart.so.11.0'; dlerror: libcudart.so.11.0: cannot open shared object file: No such file or directory\n",
      "2023-01-31 21:29:20.651348: I tensorflow/compiler/xla/stream_executor/cuda/cudart_stub.cc:29] Ignore above cudart dlerror if you do not have a GPU set up on your machine.\n",
      "2023-01-31 21:29:21.113931: W tensorflow/compiler/xla/stream_executor/platform/default/dso_loader.cc:64] Could not load dynamic library 'libnvinfer.so.7'; dlerror: libnvinfer.so.7: cannot open shared object file: No such file or directory\n",
      "2023-01-31 21:29:21.113976: W tensorflow/compiler/xla/stream_executor/platform/default/dso_loader.cc:64] Could not load dynamic library 'libnvinfer_plugin.so.7'; dlerror: libnvinfer_plugin.so.7: cannot open shared object file: No such file or directory\n",
      "2023-01-31 21:29:21.113982: W tensorflow/compiler/tf2tensorrt/utils/py_utils.cc:38] TF-TRT Warning: Cannot dlopen some TensorRT libraries. If you would like to use Nvidia GPU with TensorRT, please make sure the missing libraries mentioned above are installed properly.\n"
     ]
    },
    {
     "name": "stdout",
     "output_type": "stream",
     "text": [
      "-----------------------------------------\n",
      "keras-unet init: TF version is >= 2.0.0 - using `tf.keras` instead of `Keras`\n",
      "-----------------------------------------\n"
     ]
    }
   ],
   "source": [
    "import cactas as C"
   ]
  },
  {
   "cell_type": "code",
   "execution_count": 38,
   "id": "3a2bf9cc",
   "metadata": {},
   "outputs": [],
   "source": [
    "DATAPATH = '/home/d/Projects/DACTAS/CUS/'\n",
    "# DATAPATH = '/raid/mpsych/CACTAS/DATA/Nathan Arnett Calcification/'\n",
    "GT = '/home/d/Dropbox/RESEARCH/CAROTID/DATA/CACTAS_Study_Jae/'"
   ]
  },
  {
   "cell_type": "code",
   "execution_count": 39,
   "id": "306f502d",
   "metadata": {},
   "outputs": [],
   "source": [
    "selected = []\n",
    "plaque_count = 0\n",
    "voxel_count_plaque = 0\n",
    "voxel_count = 0"
   ]
  },
  {
   "cell_type": "code",
   "execution_count": 40,
   "id": "fa342270",
   "metadata": {},
   "outputs": [
    {
     "name": "stdout",
     "output_type": "stream",
     "text": [
      "['01.nrrd', '02.nrrd', '03.nrrd', '04.nrrd', '05.nrrd', '06.nrrd', '07.nrrd', '08.nrrd', '09.nrrd', '10.nrrd', 'T0.nrrd', 'T1.nrrd', 'T2.nrrd']\n"
     ]
    }
   ],
   "source": [
    "DATASETS = sorted([v for v in os.listdir(DATAPATH) if v.endswith('nrrd')])\n",
    "print(DATASETS)"
   ]
  },
  {
   "cell_type": "code",
   "execution_count": 41,
   "id": "7876473a",
   "metadata": {},
   "outputs": [],
   "source": [
    "DATASETS = [DATASETS[10], DATASETS[11], DATASETS[0],DATASETS[2],DATASETS[4],DATASETS[6],DATASETS[8]]\n",
    "GTLABELS = [12,87,17,71,40,13,25]"
   ]
  },
  {
   "cell_type": "code",
   "execution_count": 42,
   "id": "e338ff06",
   "metadata": {},
   "outputs": [],
   "source": [
    "\n",
    "images = []\n",
    "labels = []\n",
    "\n",
    "image_patches = []\n",
    "label_patches = []\n",
    "\n",
    "casecount = 0\n",
    "\n",
    "for i,d in enumerate(DATASETS):\n",
    "    \n",
    "    \n",
    "#     if not number in selected:\n",
    "#         continue\n",
    "\n",
    "    label_file = GT + str(GTLABELS[i]) + '.nrrd'\n",
    "    image_file = DATAPATH + DATASETS[i]\n",
    "\n",
    "    label_with_header = nrrd.read(label_file)\n",
    "    image_with_header = nrrd.read(image_file)\n",
    "\n",
    "    image = image_with_header[0]\n",
    "    label = label_with_header[0]\n",
    "\n",
    "    relabel, obj = mh.label(label)\n",
    "    \n",
    "    plaque_count += relabel.max()\n",
    "    voxel_count_plaque += np.count_nonzero(relabel)\n",
    "    voxel_count += image.shape[0] * image.shape[1] * image.shape[2]\n",
    "    \n",
    "    casecount += 1\n",
    "    \n",
    "#     # normalize grayscale to 0..1\n",
    "#     image_normalized = C.Util.normalize(image)\n",
    "    \n",
    "#     # remove empty slices\n",
    "#     image_filtered, label_filtered = C.Util.filter(image_normalized, label)\n",
    "\n",
    "#     # loop thru each slice\n",
    "#     for z in range(image_filtered.shape[2]):\n",
    "\n",
    "#         image_slice = image_filtered[:,:,z:z+1]\n",
    "#         label_slice = label_filtered[:,:,z:z+1]\n",
    "\n",
    "#         # relabel the segments\n",
    "#         relabel, obj = mh.label(label_slice)\n",
    "        \n",
    "# #         print('relabeled')\n",
    "\n",
    "#         # loop thru each segment, binarize and crop\n",
    "#         for i in range(1, relabel.max()+1):\n",
    "\n",
    "#             single_label = np.zeros((relabel.shape), relabel.dtype)\n",
    "#             single_label[relabel == i] = 1\n",
    "\n",
    "#             image_cropped, single_label_cropped = C.Util.crop(image_slice, single_label, target_size=32)\n",
    "\n",
    "#             image_patches.append(image_cropped)\n",
    "#             label_patches.append(single_label_cropped)\n",
    "\n",
    "\n",
    "    \n",
    "\n",
    "    "
   ]
  },
  {
   "cell_type": "code",
   "execution_count": 43,
   "id": "21adf203",
   "metadata": {},
   "outputs": [
    {
     "data": {
      "text/plain": [
       "7"
      ]
     },
     "execution_count": 43,
     "metadata": {},
     "output_type": "execute_result"
    }
   ],
   "source": [
    "casecount"
   ]
  },
  {
   "cell_type": "code",
   "execution_count": 44,
   "id": "93fc66aa",
   "metadata": {},
   "outputs": [
    {
     "data": {
      "text/plain": [
       "48"
      ]
     },
     "execution_count": 44,
     "metadata": {},
     "output_type": "execute_result"
    }
   ],
   "source": [
    "plaque_count"
   ]
  },
  {
   "cell_type": "code",
   "execution_count": 45,
   "id": "143a9872",
   "metadata": {},
   "outputs": [
    {
     "data": {
      "text/plain": [
       "443809792"
      ]
     },
     "execution_count": 45,
     "metadata": {},
     "output_type": "execute_result"
    }
   ],
   "source": [
    "voxel_count"
   ]
  },
  {
   "cell_type": "code",
   "execution_count": 46,
   "id": "c0feb965",
   "metadata": {},
   "outputs": [
    {
     "data": {
      "text/plain": [
       "4464"
      ]
     },
     "execution_count": 46,
     "metadata": {},
     "output_type": "execute_result"
    }
   ],
   "source": [
    "voxel_count_plaque"
   ]
  },
  {
   "cell_type": "code",
   "execution_count": 47,
   "id": "d07f0706",
   "metadata": {},
   "outputs": [
    {
     "name": "stdout",
     "output_type": "stream",
     "text": [
      "0.000010\n"
     ]
    }
   ],
   "source": [
    "print(\"{:f}\".format(voxel_count_plaque / voxel_count))"
   ]
  },
  {
   "cell_type": "code",
   "execution_count": null,
   "id": "e622df53",
   "metadata": {},
   "outputs": [],
   "source": []
  }
 ],
 "metadata": {
  "kernelspec": {
   "display_name": "Python 3 (ipykernel)",
   "language": "python",
   "name": "python3"
  },
  "language_info": {
   "codemirror_mode": {
    "name": "ipython",
    "version": 3
   },
   "file_extension": ".py",
   "mimetype": "text/x-python",
   "name": "python",
   "nbconvert_exporter": "python",
   "pygments_lexer": "ipython3",
   "version": "3.10.8"
  }
 },
 "nbformat": 4,
 "nbformat_minor": 5
}
