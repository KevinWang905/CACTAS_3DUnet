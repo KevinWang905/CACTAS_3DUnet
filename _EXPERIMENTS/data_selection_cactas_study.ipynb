{
 "cells": [
  {
   "cell_type": "code",
   "execution_count": 2,
   "id": "b591059c",
   "metadata": {},
   "outputs": [
    {
     "name": "stdout",
     "output_type": "stream",
     "text": [
      "%pylab is deprecated, use %matplotlib inline and import the required libraries.\n",
      "Populating the interactive namespace from numpy and matplotlib\n"
     ]
    }
   ],
   "source": [
    "%pylab inline\n",
    "%load_ext autoreload\n",
    "%autoreload 2"
   ]
  },
  {
   "cell_type": "code",
   "execution_count": 3,
   "id": "ef8b8d2d",
   "metadata": {},
   "outputs": [],
   "source": [
    "import os\n",
    "import scipy"
   ]
  },
  {
   "cell_type": "code",
   "execution_count": 4,
   "id": "457578a6",
   "metadata": {},
   "outputs": [],
   "source": [
    "import cactas as C"
   ]
  },
  {
   "cell_type": "code",
   "execution_count": 5,
   "id": "22a49cde",
   "metadata": {},
   "outputs": [],
   "source": [
    "DATAPATH = '/home/d/Dropbox/RESEARCH/CAROTID/DATA/Nathan Arnett Calcification/'"
   ]
  },
  {
   "cell_type": "code",
   "execution_count": 6,
   "id": "ea7a3a0b",
   "metadata": {},
   "outputs": [],
   "source": [
    "DATASETS = sorted([v for v in os.listdir(DATAPATH) if os.path.isdir(DATAPATH + v)])\n",
    "\n",
    "VALID_ONES = []\n",
    "\n",
    "for i, d in enumerate(DATASETS):\n",
    "\n",
    "    image_with_header, label_with_header = C.Util.load(i, datapath=DATAPATH, with_header=True)\n",
    "    \n",
    "    spacing = [image_with_header[1]['space directions'][0,0],\n",
    "               image_with_header[1]['space directions'][1,1],\n",
    "               image_with_header[1]['space directions'][2,2]]\n",
    "    \n",
    "    if abs(spacing[2] - 1.5) > 0.5:\n",
    "        continue\n",
    "        \n",
    "    VALID_ONES.append(d)\n",
    "    \n",
    "#     image = image_with_header[0]\n",
    "#     label = label_with_header[0]\n",
    "    \n",
    "#     print(d, spacing)\n",
    "    \n",
    "#     # crop according to all annotations\n",
    "#     image_cropped, label_cropped = C.Util.crop(image, label)\n",
    "    \n",
    "#     # remove all slices without annotations\n",
    "#     image_filtered, label_filtered = C.Util.filter(image_cropped, label_cropped)\n",
    "    \n",
    "#     label_binarized = C.Util.binarize(label_filtered)\n",
    "    "
   ]
  },
  {
   "cell_type": "code",
   "execution_count": 9,
   "id": "56bdb1ac",
   "metadata": {},
   "outputs": [
    {
     "data": {
      "text/plain": [
       "array(['DICOM 21', 'DICOM 87', 'DICOM 26'], dtype='<U16')"
      ]
     },
     "execution_count": 9,
     "metadata": {},
     "output_type": "execute_result"
    }
   ],
   "source": [
    "np.random.choice(VALID_ONES, 3)"
   ]
  },
  {
   "cell_type": "code",
   "execution_count": 11,
   "id": "aaa83aa1",
   "metadata": {},
   "outputs": [
    {
     "data": {
      "text/plain": [
       "array(['DICOM 17', 'DICOM 71', 'DICOM 40', 'DICOM 13', 'DICOM 25',\n",
       "       'DICOM 97', 'DICOM 22', 'DICOM 26', 'DICOM 29', 'DICOM 72'],\n",
       "      dtype='<U16')"
      ]
     },
     "execution_count": 11,
     "metadata": {},
     "output_type": "execute_result"
    }
   ],
   "source": [
    "np.random.choice(VALID_ONES, 10, replace=False)"
   ]
  },
  {
   "cell_type": "code",
   "execution_count": null,
   "id": "720faefe",
   "metadata": {},
   "outputs": [],
   "source": []
  },
  {
   "cell_type": "code",
   "execution_count": null,
   "id": "be8ff05f",
   "metadata": {},
   "outputs": [],
   "source": []
  }
 ],
 "metadata": {
  "kernelspec": {
   "display_name": "Python 3 (ipykernel)",
   "language": "python",
   "name": "python3"
  },
  "language_info": {
   "codemirror_mode": {
    "name": "ipython",
    "version": 3
   },
   "file_extension": ".py",
   "mimetype": "text/x-python",
   "name": "python",
   "nbconvert_exporter": "python",
   "pygments_lexer": "ipython3",
   "version": "3.10.8"
  }
 },
 "nbformat": 4,
 "nbformat_minor": 5
}
