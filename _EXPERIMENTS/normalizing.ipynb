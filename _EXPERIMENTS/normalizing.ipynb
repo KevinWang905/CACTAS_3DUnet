{
 "cells": [
  {
   "cell_type": "code",
   "execution_count": 1,
   "id": "89fa6338",
   "metadata": {},
   "outputs": [
    {
     "name": "stdout",
     "output_type": "stream",
     "text": [
      "%pylab is deprecated, use %matplotlib inline and import the required libraries.\n",
      "Populating the interactive namespace from numpy and matplotlib\n"
     ]
    }
   ],
   "source": [
    "%pylab inline"
   ]
  },
  {
   "cell_type": "code",
   "execution_count": 2,
   "id": "b2f436fb",
   "metadata": {},
   "outputs": [],
   "source": [
    "import nibabel"
   ]
  },
  {
   "cell_type": "code",
   "execution_count": 3,
   "id": "b063861f",
   "metadata": {},
   "outputs": [],
   "source": [
    "v = nibabel.load('plaque.nii.gz')"
   ]
  },
  {
   "cell_type": "code",
   "execution_count": 4,
   "id": "0d1c2707",
   "metadata": {},
   "outputs": [
    {
     "name": "stderr",
     "output_type": "stream",
     "text": [
      "/var/folders/bt/zpdw216n7fg4m72_yqvg71qr0000gn/T/ipykernel_64721/734717548.py:1: DeprecationWarning: get_data() is deprecated in favor of get_fdata(), which has a more predictable return type. To obtain get_data() behavior going forward, use numpy.asanyarray(img.dataobj).\n",
      "\n",
      "* deprecated from version: 3.0\n",
      "* Will raise <class 'nibabel.deprecator.ExpiredDeprecationError'> as of version: 5.0\n",
      "  arr = v.get_data().astype(float)\n"
     ]
    }
   ],
   "source": [
    "arr = v.get_data().astype(float)"
   ]
  },
  {
   "cell_type": "code",
   "execution_count": 5,
   "id": "be4a4b48",
   "metadata": {},
   "outputs": [],
   "source": [
    "arr2 = (arr - arr.min()) / (arr.max() - arr.min())"
   ]
  },
  {
   "cell_type": "code",
   "execution_count": 7,
   "id": "51281e39",
   "metadata": {},
   "outputs": [
    {
     "data": {
      "text/plain": [
       "(0.0, 1.0)"
      ]
     },
     "execution_count": 7,
     "metadata": {},
     "output_type": "execute_result"
    }
   ],
   "source": [
    "arr2.min(), arr2.max()"
   ]
  },
  {
   "cell_type": "code",
   "execution_count": 8,
   "id": "8523c4e8",
   "metadata": {},
   "outputs": [],
   "source": [
    "arr2 *= 255"
   ]
  },
  {
   "cell_type": "code",
   "execution_count": 9,
   "id": "3e025f2e",
   "metadata": {},
   "outputs": [],
   "source": [
    "nibabel.save(nibabel.Nifti1Image(arr2, v.affine), 'p.nii.gz')"
   ]
  },
  {
   "cell_type": "code",
   "execution_count": null,
   "id": "729d8205",
   "metadata": {},
   "outputs": [],
   "source": []
  }
 ],
 "metadata": {
  "kernelspec": {
   "display_name": "Python 3 (ipykernel)",
   "language": "python",
   "name": "python3"
  },
  "language_info": {
   "codemirror_mode": {
    "name": "ipython",
    "version": 3
   },
   "file_extension": ".py",
   "mimetype": "text/x-python",
   "name": "python",
   "nbconvert_exporter": "python",
   "pygments_lexer": "ipython3",
   "version": "3.10.8"
  }
 },
 "nbformat": 4,
 "nbformat_minor": 5
}
