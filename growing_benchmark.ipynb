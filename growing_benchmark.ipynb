{
 "cells": [
  {
   "cell_type": "code",
   "execution_count": 7,
   "metadata": {},
   "outputs": [
    {
     "ename": "TypeError",
     "evalue": "boxplot() got an unexpected keyword argument 'label'",
     "output_type": "error",
     "traceback": [
      "\u001b[0;31m---------------------------------------------------------------------------\u001b[0m",
      "\u001b[0;31mTypeError\u001b[0m                                 Traceback (most recent call last)",
      "Cell \u001b[0;32mIn[7], line 7\u001b[0m\n\u001b[1;32m      4\u001b[0m builtin_growing_result \u001b[39m=\u001b[39m [\u001b[39m1.547119140625\u001b[39m, \u001b[39m0.761962890625\u001b[39m, \u001b[39m0.375\u001b[39m, \u001b[39m0.73388671875\u001b[39m, \u001b[39m0.55517578125\u001b[39m, \u001b[39m0.742919921875\u001b[39m, \u001b[39m0.865966796875\u001b[39m, \u001b[39m0.705078125\u001b[39m, \u001b[39m0.30810546875\u001b[39m, \u001b[39m0.6650390625\u001b[39m]\n\u001b[1;32m      6\u001b[0m \u001b[39m# generate a candlestick chart comparing the performance of custom growing and builtin growing\u001b[39;00m\n\u001b[0;32m----> 7\u001b[0m plt\u001b[39m.\u001b[39;49mboxplot(custom_growing_result, label\u001b[39m=\u001b[39;49m\u001b[39m'\u001b[39;49m\u001b[39mcustom growing\u001b[39;49m\u001b[39m'\u001b[39;49m)\n\u001b[1;32m      8\u001b[0m plt\u001b[39m.\u001b[39mboxplot(builtin_growing_result, label\u001b[39m=\u001b[39m\u001b[39m'\u001b[39m\u001b[39mbuiltin growing\u001b[39m\u001b[39m'\u001b[39m)\n\u001b[1;32m      9\u001b[0m plt\u001b[39m.\u001b[39mlegend(loc\u001b[39m=\u001b[39m\u001b[39m'\u001b[39m\u001b[39mupper left\u001b[39m\u001b[39m'\u001b[39m)\n",
      "\u001b[0;31mTypeError\u001b[0m: boxplot() got an unexpected keyword argument 'label'"
     ]
    }
   ],
   "source": [
    "import matplotlib.pyplot as plt\n",
    "\n",
    "custom_growing_result = [258.990966796875, 121.43310546875, 79.761962890625, 76.5029296875, 79.4638671875, 81.035888671875, 68.123046875, 66.65087890625, 70.01806640625, 78.943115234375]\n",
    "builtin_growing_result = [1.547119140625, 0.761962890625, 0.375, 0.73388671875, 0.55517578125, 0.742919921875, 0.865966796875, 0.705078125, 0.30810546875, 0.6650390625]\n",
    "\n",
    "# a boxplot comparing the runtime of custom vs builtlin growing\n",
    "plt.boxplot([custom_growing_result, builtin_growing_result], labels=['custom', 'builtin'])\n",
    "plt.ylabel('runtime (mss)')\n",
    "plt.title('runtime of custom vs builtin growing')\n",
    "plt.show()"
   ]
  }
 ],
 "metadata": {
  "kernelspec": {
   "display_name": "Python 3",
   "language": "python",
   "name": "python3"
  },
  "language_info": {
   "codemirror_mode": {
    "name": "ipython",
    "version": 3
   },
   "file_extension": ".py",
   "mimetype": "text/x-python",
   "name": "python",
   "nbconvert_exporter": "python",
   "pygments_lexer": "ipython3",
   "version": "3.10.10"
  },
  "orig_nbformat": 4
 },
 "nbformat": 4,
 "nbformat_minor": 2
}
